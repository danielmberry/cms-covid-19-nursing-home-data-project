{
 "cells": [
  {
   "cell_type": "markdown",
   "id": "polish-lobby",
   "metadata": {},
   "source": [
    "# Illinois: ARIMA Time-Series Modeling Notebook "
   ]
  },
  {
   "cell_type": "markdown",
   "id": "featured-wellington",
   "metadata": {},
   "source": [
    "# Imports"
   ]
  },
  {
   "cell_type": "code",
   "execution_count": 1,
   "id": "cutting-general",
   "metadata": {
    "ExecuteTime": {
     "end_time": "2021-02-21T20:18:43.929193Z",
     "start_time": "2021-02-21T20:18:41.776182Z"
    }
   },
   "outputs": [],
   "source": [
    "import pandas as pd\n",
    "import numpy as np\n",
    "import matplotlib.pyplot as plt\n",
    "import seaborn as sns\n",
    "import os\n",
    "\n",
    "from collections import Counter\n",
    "\n",
    "from sklearn.model_selection import train_test_split\n",
    "\n",
    "from statsmodels.tsa.arima.model import ARIMA\n",
    "from statsmodels.graphics.tsaplots import plot_acf, plot_pacf\n",
    "from statsmodels.tsa.stattools import adfuller\n",
    "\n",
    "import warnings\n",
    "warnings.filterwarnings('ignore')"
   ]
  },
  {
   "cell_type": "markdown",
   "id": "viral-carry",
   "metadata": {},
   "source": [
    "# Read in data"
   ]
  },
  {
   "cell_type": "code",
   "execution_count": 2,
   "id": "color-occupation",
   "metadata": {
    "ExecuteTime": {
     "end_time": "2021-02-21T20:18:43.934914Z",
     "start_time": "2021-02-21T20:18:43.932185Z"
    }
   },
   "outputs": [],
   "source": [
    "# df = pd.read_csv('../../COVID-19_Nursing_Home_Dataset.csv')"
   ]
  },
  {
   "cell_type": "markdown",
   "id": "republican-repair",
   "metadata": {},
   "source": [
    "## Split data"
   ]
  },
  {
   "cell_type": "markdown",
   "id": "seven-statistics",
   "metadata": {},
   "source": [
    "Due to size of data file, split data by week submitted to get smaller files that are available to upload. \n",
    "> This is commented out so that it only runs when needed."
   ]
  },
  {
   "cell_type": "code",
   "execution_count": 3,
   "id": "extra-stranger",
   "metadata": {
    "ExecuteTime": {
     "end_time": "2021-02-21T20:18:43.939736Z",
     "start_time": "2021-02-21T20:18:43.937058Z"
    }
   },
   "outputs": [],
   "source": [
    "# def split_data(df,dates):\n",
    "#     for date in dates:    \n",
    "#         frame = df[df['Week Ending'] == date]\n",
    "#         reformatted_date = date.replace('/', '-')\n",
    "#         frame.to_csv(f'../data/{reformatted_date}-data.csv', index = False)\n",
    "\n",
    "# dates = df['Week Ending'].unique()\n",
    "\n",
    "# split_data(df, dates)"
   ]
  },
  {
   "cell_type": "markdown",
   "id": "serial-medium",
   "metadata": {},
   "source": [
    "## Concatenating files"
   ]
  },
  {
   "cell_type": "markdown",
   "id": "expected-gallery",
   "metadata": {},
   "source": [
    "Create a function that can concatenate the each of the csv files into a single data frame."
   ]
  },
  {
   "cell_type": "code",
   "execution_count": 4,
   "id": "descending-promise",
   "metadata": {
    "ExecuteTime": {
     "end_time": "2021-02-21T20:18:53.773735Z",
     "start_time": "2021-02-21T20:18:43.942833Z"
    }
   },
   "outputs": [],
   "source": [
    "df_lst = []\n",
    "for f in os.listdir('../data'):\n",
    "    temp = pd.read_csv('../data/' + f)\n",
    "    df_lst.append(temp)\n",
    "df = pd.concat(df_lst, ignore_index=True)"
   ]
  },
  {
   "cell_type": "code",
   "execution_count": 5,
   "id": "restricted-procedure",
   "metadata": {
    "ExecuteTime": {
     "end_time": "2021-02-21T20:18:56.456402Z",
     "start_time": "2021-02-21T20:18:53.775539Z"
    }
   },
   "outputs": [
    {
     "name": "stdout",
     "output_type": "stream",
     "text": [
      "num weeks: 38\n"
     ]
    }
   ],
   "source": [
    "# determining the number of weeks for which data is available\n",
    "week_num = len(df['Week Ending'].unique())\n",
    "print('num weeks:',week_num)\n",
    "\n",
    "# Dropping rows where no submitted data\n",
    "df = df[df['Submitted Data'] == 'Y']\n",
    "\n",
    "# dropping rows that didn't pass quality assurance check\n",
    "df = df[df['Passed Quality Assurance Check'] == 'Y']\n"
   ]
  },
  {
   "cell_type": "code",
   "execution_count": 6,
   "id": "rough-country",
   "metadata": {
    "ExecuteTime": {
     "end_time": "2021-02-21T20:18:56.571578Z",
     "start_time": "2021-02-21T20:18:56.458187Z"
    }
   },
   "outputs": [
    {
     "name": "stdout",
     "output_type": "stream",
     "text": [
      "original: 16896\n",
      "to be dropped: 5914\n",
      "to keep: 10982\n"
     ]
    }
   ],
   "source": [
    "# removing nursing homes who have submissions for each week\n",
    "\n",
    "submission_counts = Counter(df['Federal Provider Number'])\n",
    "keys = submission_counts.keys()\n",
    "to_drop = []\n",
    "for key in keys:\n",
    "    if submission_counts[key] < week_num:\n",
    "        to_drop.append(key)\n",
    "to_keep = keys-to_drop\n",
    "print('original:',len(keys))\n",
    "print('to be dropped:',len(to_drop))\n",
    "print('to keep:',len(to_keep))"
   ]
  },
  {
   "cell_type": "code",
   "execution_count": 7,
   "id": "higher-procedure",
   "metadata": {
    "ExecuteTime": {
     "end_time": "2021-02-21T20:18:57.224640Z",
     "start_time": "2021-02-21T20:18:56.576009Z"
    }
   },
   "outputs": [],
   "source": [
    "# drop rows for nursing homes that don't meet the criteria fewer entries\n",
    "df = df[df['Federal Provider Number'].isin(to_keep)]"
   ]
  },
  {
   "cell_type": "code",
   "execution_count": 8,
   "id": "continued-minneapolis",
   "metadata": {
    "ExecuteTime": {
     "end_time": "2021-02-21T20:18:57.611244Z",
     "start_time": "2021-02-21T20:18:57.227902Z"
    }
   },
   "outputs": [],
   "source": [
    "# change the week column to datetime format\n",
    "df['Week Ending'] = pd.to_datetime(df['Week Ending'])"
   ]
  },
  {
   "cell_type": "markdown",
   "id": "known-handling",
   "metadata": {},
   "source": [
    "# Modeling"
   ]
  },
  {
   "cell_type": "code",
   "execution_count": 9,
   "id": "fixed-complexity",
   "metadata": {
    "ExecuteTime": {
     "end_time": "2021-02-21T20:18:57.619491Z",
     "start_time": "2021-02-21T20:18:57.613077Z"
    }
   },
   "outputs": [],
   "source": [
    "# function to get the p-values for adfuller test for each of the columns in the dataframe \n",
    "\n",
    "def interpret_dftest(df):\n",
    "    '''\n",
    "    Returns p-value for the Dickey-Fuller test for each feature in DataFrame.\n",
    "    ----\n",
    "    Parameters\n",
    "        Type: DataFrame\n",
    "        Description: Time series features\n",
    "    ----\n",
    "    Output\n",
    "        Type: DataFrame\n",
    "        Description: DataFrame of p-values for time-series data\n",
    "    '''\n",
    "    results = []\n",
    "    best_col = None\n",
    "    best_p = 2\n",
    "    \n",
    "    for col in df.columns:\n",
    "        result = {}\n",
    "        result['column'] = col\n",
    "        dftest = adfuller(df[col])\n",
    "        result['Test Statistic'] = dftest[0]\n",
    "        result['p-value'] = dftest[1]\n",
    "        result['1 - p-value'] = 1-dftest[1]\n",
    "        results.append(result)\n",
    "        if dftest[1] < .9:\n",
    "            if dftest[1] < best_p:\n",
    "                best_p = dftest[1]\n",
    "                best_col = col\n",
    "        elif dftest[1] >= .9:\n",
    "            if (1-dftest[1]) < best_p:\n",
    "                best_p = (1-dftest[1])\n",
    "                best_col = col\n",
    "    \n",
    "    print('best_col:', best_col)\n",
    "    print('best_p:', best_p)\n",
    "    return pd.DataFrame(results)"
   ]
  },
  {
   "cell_type": "markdown",
   "id": "regional-hampshire",
   "metadata": {},
   "source": [
    "## IL"
   ]
  },
  {
   "cell_type": "code",
   "execution_count": 10,
   "id": "miniature-trust",
   "metadata": {
    "ExecuteTime": {
     "end_time": "2021-02-21T20:18:57.681777Z",
     "start_time": "2021-02-21T20:18:57.621369Z"
    }
   },
   "outputs": [],
   "source": [
    "il = df[df['Provider State']=='IL']\n",
    "\n",
    "il = il[[\n",
    "    'Week Ending', 'Total Number of Occupied Beds',\n",
    "    'Residents Weekly COVID-19 Deaths',\n",
    "    'Weekly Resident Confirmed COVID-19 Cases Per 1,000 Residents',\n",
    "    'Weekly Resident COVID-19 Deaths Per 1,000 Residents'\n",
    "]]\n",
    "il_avgs = il.groupby(by='Week Ending').mean()"
   ]
  },
  {
   "cell_type": "markdown",
   "id": "beneficial-handle",
   "metadata": {},
   "source": [
    "### 'Total Number of Occupied Beds'"
   ]
  },
  {
   "cell_type": "code",
   "execution_count": 11,
   "id": "concrete-collins",
   "metadata": {
    "ExecuteTime": {
     "end_time": "2021-02-21T20:18:57.716247Z",
     "start_time": "2021-02-21T20:18:57.683538Z"
    }
   },
   "outputs": [],
   "source": [
    "il_occupied = il_avgs[['Total Number of Occupied Beds']].copy()\n",
    "il_occupied['diff1'] = il_occupied['Total Number of Occupied Beds'].diff()\n",
    "il_occupied['diff2'] = il_occupied['Total Number of Occupied Beds'].diff().diff()\n",
    "il_occupied.dropna(inplace = True)\n"
   ]
  },
  {
   "cell_type": "code",
   "execution_count": 12,
   "id": "further-selling",
   "metadata": {
    "ExecuteTime": {
     "end_time": "2021-02-21T20:18:57.963039Z",
     "start_time": "2021-02-21T20:18:57.718375Z"
    },
    "scrolled": true
   },
   "outputs": [
    {
     "data": {
      "image/png": "[encoded data removed]",
      "text/plain": [
       "<Figure size 432x288 with 1 Axes>"
      ]
     },
     "metadata": {
      "needs_background": "light"
     },
     "output_type": "display_data"
    }
   ],
   "source": [
    "il_occupied['Total Number of Occupied Beds'].plot(label = 'orig');\n"
   ]
  },
  {
   "cell_type": "code",
   "execution_count": 13,
   "id": "pursuant-wealth",
   "metadata": {
    "ExecuteTime": {
     "end_time": "2021-02-21T20:18:58.111133Z",
     "start_time": "2021-02-21T20:18:57.965721Z"
    }
   },
   "outputs": [
    {
     "data": {
      "image/png": "[encoded data removed]",
      "text/plain": [
       "<Figure size 432x288 with 1 Axes>"
      ]
     },
     "metadata": {
      "needs_background": "light"
     },
     "output_type": "display_data"
    }
   ],
   "source": [
    "plot_acf(il_occupied['Total Number of Occupied Beds']);\n"
   ]
  },
  {
   "cell_type": "code",
   "execution_count": 14,
   "id": "coral-shoulder",
   "metadata": {
    "ExecuteTime": {
     "end_time": "2021-02-21T20:18:58.233986Z",
     "start_time": "2021-02-21T20:18:58.113145Z"
    },
    "scrolled": true
   },
   "outputs": [
    {
     "data": {
      "image/png": "[encoded data removed]",
      "text/plain": [
       "<Figure size 432x288 with 1 Axes>"
      ]
     },
     "metadata": {
      "needs_background": "light"
     },
     "output_type": "display_data"
    }
   ],
   "source": [
    "plot_pacf(il_occupied['Total Number of Occupied Beds']);\n"
   ]
  },
  {
   "cell_type": "code",
   "execution_count": 15,
   "id": "consistent-cookie",
   "metadata": {
    "ExecuteTime": {
     "end_time": "2021-02-21T20:18:58.263924Z",
     "start_time": "2021-02-21T20:18:58.235805Z"
    }
   },
   "outputs": [
    {
     "name": "stdout",
     "output_type": "stream",
     "text": [
      "best_col: diff1\n",
      "best_p: 9.523890972259527e-13\n"
     ]
    },
    {
     "data": {
      "text/html": [
       "<div>\n",
       "<style scoped>\n",
       "    .dataframe tbody tr th:only-of-type {\n",
       "        vertical-align: middle;\n",
       "    }\n",
       "\n",
       "    .dataframe tbody tr th {\n",
       "        vertical-align: top;\n",
       "    }\n",
       "\n",
       "    .dataframe thead th {\n",
       "        text-align: right;\n",
       "    }\n",
       "</style>\n",
       "<table border=\"1\" class=\"dataframe\">\n",
       "  <thead>\n",
       "    <tr style=\"text-align: right;\">\n",
       "      <th></th>\n",
       "      <th>column</th>\n",
       "      <th>Test Statistic</th>\n",
       "      <th>p-value</th>\n",
       "      <th>1 - p-value</th>\n",
       "    </tr>\n",
       "  </thead>\n",
       "  <tbody>\n",
       "    <tr>\n",
       "      <th>0</th>\n",
       "      <td>Total Number of Occupied Beds</td>\n",
       "      <td>0.362358</td>\n",
       "      <td>9.800314e-01</td>\n",
       "      <td>0.019969</td>\n",
       "    </tr>\n",
       "    <tr>\n",
       "      <th>1</th>\n",
       "      <td>diff1</td>\n",
       "      <td>-8.154069</td>\n",
       "      <td>9.523891e-13</td>\n",
       "      <td>1.000000</td>\n",
       "    </tr>\n",
       "    <tr>\n",
       "      <th>2</th>\n",
       "      <td>diff2</td>\n",
       "      <td>-8.022326</td>\n",
       "      <td>2.060460e-12</td>\n",
       "      <td>1.000000</td>\n",
       "    </tr>\n",
       "  </tbody>\n",
       "</table>\n",
       "</div>"
      ],
      "text/plain": [
       "                          column  Test Statistic       p-value  1 - p-value\n",
       "0  Total Number of Occupied Beds        0.362358  9.800314e-01     0.019969\n",
       "1                          diff1       -8.154069  9.523891e-13     1.000000\n",
       "2                          diff2       -8.022326  2.060460e-12     1.000000"
      ]
     },
     "execution_count": 15,
     "metadata": {},
     "output_type": "execute_result"
    }
   ],
   "source": [
    "interpret_dftest(il_occupied)\n"
   ]
  },
  {
   "cell_type": "code",
   "execution_count": 16,
   "id": "conservative-swimming",
   "metadata": {
    "ExecuteTime": {
     "end_time": "2021-02-21T20:18:58.313959Z",
     "start_time": "2021-02-21T20:18:58.265381Z"
    }
   },
   "outputs": [],
   "source": [
    "y_train, y_test = train_test_split(il_occupied['Total Number of Occupied Beds'],shuffle=False, test_size = .1)\n"
   ]
  },
  {
   "cell_type": "markdown",
   "id": "charged-atlanta",
   "metadata": {},
   "source": [
    "*Note: The code in the two cells directly below, as well as all other iterations of it in this notebook, were adapted from the [7.07-lesson-arima-modeling repo](https://git.generalassemb.ly/DSIR-20201214-E/lesson-ARIMA), originally written by Matt Brems, Joseph Nelson and Justin Pounders.*"
   ]
  },
  {
   "cell_type": "code",
   "execution_count": 17,
   "id": "exceptional-giant",
   "metadata": {
    "ExecuteTime": {
     "end_time": "2021-02-21T20:19:05.305339Z",
     "start_time": "2021-02-21T20:18:58.315830Z"
    }
   },
   "outputs": [
    {
     "name": "stdout",
     "output_type": "stream",
     "text": [
      "best aic: 58.214457568466464\n",
      "best p: 0\n",
      "best d: 1\n",
      "best q: 2\n"
     ]
    }
   ],
   "source": [
    "# Starting AIC, p, and q.\n",
    "best_aic = 9 * (10**16)\n",
    "best_p = 0\n",
    "best_q = 0 \n",
    "best_d = 0\n",
    "\n",
    "# Use nested for loop to iterate over values of p and q.\n",
    "\n",
    "for p in range(5):\n",
    "    for q in range(5):\n",
    "        for d in range(3):\n",
    "        \n",
    "        # Insert try and except statements.\n",
    "            try:\n",
    "                # Instantiate ARIMA model.\n",
    "                arima = ARIMA(endog=y_train, order = (p, d, q))\n",
    "\n",
    "                # Fit ARIMA model.\n",
    "                model = arima.fit()\n",
    "\n",
    "                # Is my current model's AIC better than our best_aic?\n",
    "                if 0<= model.aic < best_aic:\n",
    "\n",
    "                    # If so, let's overwrite best_aic, best_p, and best_q.\n",
    "                    best_aic = model.aic\n",
    "                    best_p = p\n",
    "                    best_q = q\n",
    "                    best_d = d\n",
    "                    \n",
    "            except:\n",
    "                pass\n",
    "            \n",
    "print('best aic:',best_aic)\n",
    "print('best p:', best_p)\n",
    "print('best d:', best_d)\n",
    "print('best q:', best_q)"
   ]
  },
  {
   "cell_type": "code",
   "execution_count": 18,
   "id": "humanitarian-information",
   "metadata": {
    "ExecuteTime": {
     "end_time": "2021-02-21T20:19:05.660504Z",
     "start_time": "2021-02-21T20:19:05.307075Z"
    }
   },
   "outputs": [
    {
     "data": {
      "image/png": "[encoded data removed]",
      "text/plain": [
       "<Figure size 720x432 with 1 Axes>"
      ]
     },
     "metadata": {
      "needs_background": "light"
     },
     "output_type": "display_data"
    }
   ],
   "source": [
    "# Instantiate best model.\n",
    "il_occ_model = ARIMA(endog=y_train, order=(best_p, best_d, best_q))\n",
    "\n",
    "# Fit ARIMA model.\n",
    "arima = il_occ_model.fit()\n",
    "\n",
    "# Generate predictions based on test set.\n",
    "preds = arima.predict(start=y_test.index[0], end=y_test.index[-1])\n",
    "\n",
    "# Plot data.\n",
    "plt.figure(figsize=(10, 6))\n",
    "\n",
    "# Plot training data.\n",
    "plt.plot(y_train.index, pd.DataFrame(y_train), color='blue', label='Train')\n",
    "\n",
    "# Plot testing data.\n",
    "plt.plot(y_test.index, pd.DataFrame(y_test), color='orange', label='Test')\n",
    "\n",
    "# Plot predicted test values.\n",
    "plt.plot(y_test.index, preds, color='green', label='Preds')\n",
    "\n",
    "plt.title(\n",
    "    label=f'Illinois Average Number of Occupied Beds\\n with ARIMA({best_p}, {best_d}, {best_q}) Predictions',\n",
    "    fontsize=16)\n",
    "plt.legend()\n",
    "plt.savefig('../assets/il_avg_num_occupied_beds.png')"
   ]
  },
  {
   "cell_type": "markdown",
   "id": "alpine-bottle",
   "metadata": {},
   "source": [
    "### 'Residents Weekly COVID-19 Deaths'"
   ]
  },
  {
   "cell_type": "code",
   "execution_count": 19,
   "id": "fitted-saint",
   "metadata": {
    "ExecuteTime": {
     "end_time": "2021-02-21T20:19:05.670252Z",
     "start_time": "2021-02-21T20:19:05.662516Z"
    }
   },
   "outputs": [],
   "source": [
    "il_weekly_deaths = il_avgs[['Residents Weekly COVID-19 Deaths']].copy()\n",
    "\n",
    "il_weekly_deaths['diff1'] = il_weekly_deaths['Residents Weekly COVID-19 Deaths'].diff()\n",
    "il_weekly_deaths['diff2'] = il_weekly_deaths['Residents Weekly COVID-19 Deaths'].diff().diff()\n",
    "il_weekly_deaths.dropna(inplace = True)"
   ]
  },
  {
   "cell_type": "code",
   "execution_count": 20,
   "id": "french-comparative",
   "metadata": {
    "ExecuteTime": {
     "end_time": "2021-02-21T20:19:05.864955Z",
     "start_time": "2021-02-21T20:19:05.672206Z"
    }
   },
   "outputs": [
    {
     "data": {
      "image/png": "[encoded data removed]",
      "text/plain": [
       "<Figure size 432x288 with 1 Axes>"
      ]
     },
     "metadata": {
      "needs_background": "light"
     },
     "output_type": "display_data"
    }
   ],
   "source": [
    "il_weekly_deaths['Residents Weekly COVID-19 Deaths'].plot(label = 'orig');\n"
   ]
  },
  {
   "cell_type": "code",
   "execution_count": 21,
   "id": "extraordinary-omega",
   "metadata": {
    "ExecuteTime": {
     "end_time": "2021-02-21T20:19:06.003817Z",
     "start_time": "2021-02-21T20:19:05.866917Z"
    }
   },
   "outputs": [
    {
     "data": {
      "image/png": "[encoded data removed]",
      "text/plain": [
       "<Figure size 432x288 with 1 Axes>"
      ]
     },
     "metadata": {
      "needs_background": "light"
     },
     "output_type": "display_data"
    }
   ],
   "source": [
    "plot_acf(il_weekly_deaths['Residents Weekly COVID-19 Deaths']);\n"
   ]
  },
  {
   "cell_type": "code",
   "execution_count": 22,
   "id": "acoustic-estonia",
   "metadata": {
    "ExecuteTime": {
     "end_time": "2021-02-21T20:19:06.150308Z",
     "start_time": "2021-02-21T20:19:06.010331Z"
    }
   },
   "outputs": [
    {
     "data": {
      "image/png": "[encoded data removed]",
      "text/plain": [
       "<Figure size 432x288 with 1 Axes>"
      ]
     },
     "metadata": {
      "needs_background": "light"
     },
     "output_type": "display_data"
    }
   ],
   "source": [
    "plot_pacf(il_weekly_deaths['Residents Weekly COVID-19 Deaths']);\n"
   ]
  },
  {
   "cell_type": "code",
   "execution_count": 23,
   "id": "liquid-glucose",
   "metadata": {
    "ExecuteTime": {
     "end_time": "2021-02-21T20:19:06.178016Z",
     "start_time": "2021-02-21T20:19:06.155050Z"
    }
   },
   "outputs": [
    {
     "name": "stdout",
     "output_type": "stream",
     "text": [
      "best_col: diff2\n",
      "best_p: 0.0\n"
     ]
    },
    {
     "data": {
      "text/html": [
       "<div>\n",
       "<style scoped>\n",
       "    .dataframe tbody tr th:only-of-type {\n",
       "        vertical-align: middle;\n",
       "    }\n",
       "\n",
       "    .dataframe tbody tr th {\n",
       "        vertical-align: top;\n",
       "    }\n",
       "\n",
       "    .dataframe thead th {\n",
       "        text-align: right;\n",
       "    }\n",
       "</style>\n",
       "<table border=\"1\" class=\"dataframe\">\n",
       "  <thead>\n",
       "    <tr style=\"text-align: right;\">\n",
       "      <th></th>\n",
       "      <th>column</th>\n",
       "      <th>Test Statistic</th>\n",
       "      <th>p-value</th>\n",
       "      <th>1 - p-value</th>\n",
       "    </tr>\n",
       "  </thead>\n",
       "  <tbody>\n",
       "    <tr>\n",
       "      <th>0</th>\n",
       "      <td>Residents Weekly COVID-19 Deaths</td>\n",
       "      <td>-2.815374</td>\n",
       "      <td>0.056111</td>\n",
       "      <td>0.943889</td>\n",
       "    </tr>\n",
       "    <tr>\n",
       "      <th>1</th>\n",
       "      <td>diff1</td>\n",
       "      <td>-2.565267</td>\n",
       "      <td>0.100390</td>\n",
       "      <td>0.899610</td>\n",
       "    </tr>\n",
       "    <tr>\n",
       "      <th>2</th>\n",
       "      <td>diff2</td>\n",
       "      <td>-31.167988</td>\n",
       "      <td>0.000000</td>\n",
       "      <td>1.000000</td>\n",
       "    </tr>\n",
       "  </tbody>\n",
       "</table>\n",
       "</div>"
      ],
      "text/plain": [
       "                             column  Test Statistic   p-value  1 - p-value\n",
       "0  Residents Weekly COVID-19 Deaths       -2.815374  0.056111     0.943889\n",
       "1                             diff1       -2.565267  0.100390     0.899610\n",
       "2                             diff2      -31.167988  0.000000     1.000000"
      ]
     },
     "execution_count": 23,
     "metadata": {},
     "output_type": "execute_result"
    }
   ],
   "source": [
    "interpret_dftest(il_weekly_deaths)\n"
   ]
  },
  {
   "cell_type": "code",
   "execution_count": 24,
   "id": "configured-edgar",
   "metadata": {
    "ExecuteTime": {
     "end_time": "2021-02-21T20:19:06.182616Z",
     "start_time": "2021-02-21T20:19:06.179839Z"
    }
   },
   "outputs": [],
   "source": [
    "y_train, y_test = train_test_split(il_weekly_deaths['Residents Weekly COVID-19 Deaths'],shuffle=False, test_size = .1)\n"
   ]
  },
  {
   "cell_type": "code",
   "execution_count": 25,
   "id": "pacific-valve",
   "metadata": {
    "ExecuteTime": {
     "end_time": "2021-02-21T20:19:16.568869Z",
     "start_time": "2021-02-21T20:19:06.184715Z"
    },
    "code_folding": []
   },
   "outputs": [
    {
     "name": "stdout",
     "output_type": "stream",
     "text": [
      "best aic: 90000000000000000\n",
      "best p: 0\n",
      "best d: 0\n",
      "best q: 0\n"
     ]
    }
   ],
   "source": [
    "# Starting AIC, p, and q.\n",
    "best_aic = 9 * (10**16)\n",
    "best_p = 0\n",
    "best_q = 0 \n",
    "best_d = 0\n",
    "# Use nested for loop to iterate over values of p and q.\n",
    "\n",
    "for p in range(5):\n",
    "    for q in range(5):\n",
    "        for d in range(3):\n",
    "        \n",
    "        # Insert try and except statements.\n",
    "            try:\n",
    "\n",
    "                # Instantiate ARIMA model.\n",
    "                arima = ARIMA(endog=y_train, order = (p, d, q))\n",
    "\n",
    "                # Fit ARIMA model.\n",
    "                model = arima.fit()\n",
    "\n",
    "                # Is my current model's AIC better than our best_aic?\n",
    "                if 0 <= model.aic < best_aic:\n",
    "\n",
    "                    # If so, let's overwrite best_aic, best_p, and best_q.\n",
    "                    best_aic = model.aic\n",
    "                    best_p = p\n",
    "                    best_q = q\n",
    "                    best_d = d\n",
    "                    \n",
    "\n",
    "            except:\n",
    "                pass\n",
    "            \n",
    "print('best aic:',best_aic)\n",
    "print('best p:', best_p)\n",
    "print('best d:', best_d)\n",
    "print('best q:', best_q)\n"
   ]
  },
  {
   "cell_type": "code",
   "execution_count": 26,
   "id": "musical-variety",
   "metadata": {
    "ExecuteTime": {
     "end_time": "2021-02-21T20:19:16.897854Z",
     "start_time": "2021-02-21T20:19:16.570756Z"
    }
   },
   "outputs": [
    {
     "data": {
      "image/png": "[encoded data removed]",
      "text/plain": [
       "<Figure size 720x432 with 1 Axes>"
      ]
     },
     "metadata": {
      "needs_background": "light"
     },
     "output_type": "display_data"
    }
   ],
   "source": [
    "# Instantiate best model.\n",
    "il_week_deaths_model = ARIMA(endog = y_train, order = (best_p,best_d,best_q))\n",
    "\n",
    "# Fit ARIMA model.\n",
    "arima = il_week_deaths_model.fit()\n",
    "\n",
    "# Generate predictions based on test set.\n",
    "preds = arima.predict(start = y_test.index[0], end= y_test.index[-1])\n",
    "\n",
    "# Plot data.\n",
    "plt.figure(figsize=(10,6))\n",
    "\n",
    "# Plot training data.\n",
    "plt.plot(y_train.index, pd.DataFrame(y_train), color = 'blue', label='Train')\n",
    "\n",
    "# Plot testing data.\n",
    "plt.plot(y_test.index, pd.DataFrame(y_test), color = 'orange', label = 'Test')\n",
    "\n",
    "# Plot predicted test values.\n",
    "plt.plot(y_test.index, preds, color = 'green', label = 'Preds')\n",
    "\n",
    "plt.title(label = f'Illinois Average Weekly COVID-19 Deaths\\n with ARIMA({best_p}, {best_d}, {best_q}) Predictions', fontsize=16)\n",
    "plt.legend()\n",
    "plt.savefig('../assets/il_weekly_avg_num_covid_deaths.png');"
   ]
  },
  {
   "cell_type": "markdown",
   "id": "multiple-association",
   "metadata": {},
   "source": [
    "### 'Weekly Resident Confirmed COVID-19 Cases Per 1,000 Residents'"
   ]
  },
  {
   "cell_type": "code",
   "execution_count": 27,
   "id": "hazardous-bunch",
   "metadata": {
    "ExecuteTime": {
     "end_time": "2021-02-21T20:19:16.907764Z",
     "start_time": "2021-02-21T20:19:16.899830Z"
    }
   },
   "outputs": [],
   "source": [
    "il_weekly_confirmed_cases = il_avgs[['Weekly Resident Confirmed COVID-19 Cases Per 1,000 Residents']].copy()\n",
    "\n",
    "il_weekly_confirmed_cases['diff1'] = il_weekly_confirmed_cases['Weekly Resident Confirmed COVID-19 Cases Per 1,000 Residents'].diff()\n",
    "il_weekly_confirmed_cases['diff2'] = il_weekly_confirmed_cases['Weekly Resident Confirmed COVID-19 Cases Per 1,000 Residents'].diff().diff()\n",
    "il_weekly_confirmed_cases.dropna(inplace = True)\n"
   ]
  },
  {
   "cell_type": "code",
   "execution_count": 28,
   "id": "massive-program",
   "metadata": {
    "ExecuteTime": {
     "end_time": "2021-02-21T20:19:17.123546Z",
     "start_time": "2021-02-21T20:19:16.909471Z"
    }
   },
   "outputs": [
    {
     "data": {
      "image/png": "[encoded data removed]",
      "text/plain": [
       "<Figure size 432x288 with 1 Axes>"
      ]
     },
     "metadata": {
      "needs_background": "light"
     },
     "output_type": "display_data"
    }
   ],
   "source": [
    "il_weekly_confirmed_cases['Weekly Resident Confirmed COVID-19 Cases Per 1,000 Residents'].plot(label = 'orig');\n"
   ]
  },
  {
   "cell_type": "code",
   "execution_count": 29,
   "id": "interim-continuity",
   "metadata": {
    "ExecuteTime": {
     "end_time": "2021-02-21T20:19:17.262649Z",
     "start_time": "2021-02-21T20:19:17.125436Z"
    }
   },
   "outputs": [
    {
     "data": {
      "image/png": "[encoded data removed]",
      "text/plain": [
       "<Figure size 432x288 with 1 Axes>"
      ]
     },
     "metadata": {
      "needs_background": "light"
     },
     "output_type": "display_data"
    }
   ],
   "source": [
    "plot_acf(il_weekly_confirmed_cases['Weekly Resident Confirmed COVID-19 Cases Per 1,000 Residents']);\n"
   ]
  },
  {
   "cell_type": "code",
   "execution_count": 30,
   "id": "involved-restriction",
   "metadata": {
    "ExecuteTime": {
     "end_time": "2021-02-21T20:19:17.386398Z",
     "start_time": "2021-02-21T20:19:17.264716Z"
    }
   },
   "outputs": [
    {
     "data": {
      "image/png": "[encoded data removed]",
      "text/plain": [
       "<Figure size 432x288 with 1 Axes>"
      ]
     },
     "metadata": {
      "needs_background": "light"
     },
     "output_type": "display_data"
    }
   ],
   "source": [
    "plot_pacf(il_weekly_confirmed_cases['Weekly Resident Confirmed COVID-19 Cases Per 1,000 Residents']);\n"
   ]
  },
  {
   "cell_type": "code",
   "execution_count": 31,
   "id": "announced-mongolia",
   "metadata": {
    "ExecuteTime": {
     "end_time": "2021-02-21T20:19:17.411792Z",
     "start_time": "2021-02-21T20:19:17.388524Z"
    }
   },
   "outputs": [
    {
     "name": "stdout",
     "output_type": "stream",
     "text": [
      "best_col: diff2\n",
      "best_p: 7.469604723147227e-10\n"
     ]
    },
    {
     "data": {
      "text/html": [
       "<div>\n",
       "<style scoped>\n",
       "    .dataframe tbody tr th:only-of-type {\n",
       "        vertical-align: middle;\n",
       "    }\n",
       "\n",
       "    .dataframe tbody tr th {\n",
       "        vertical-align: top;\n",
       "    }\n",
       "\n",
       "    .dataframe thead th {\n",
       "        text-align: right;\n",
       "    }\n",
       "</style>\n",
       "<table border=\"1\" class=\"dataframe\">\n",
       "  <thead>\n",
       "    <tr style=\"text-align: right;\">\n",
       "      <th></th>\n",
       "      <th>column</th>\n",
       "      <th>Test Statistic</th>\n",
       "      <th>p-value</th>\n",
       "      <th>1 - p-value</th>\n",
       "    </tr>\n",
       "  </thead>\n",
       "  <tbody>\n",
       "    <tr>\n",
       "      <th>0</th>\n",
       "      <td>Weekly Resident Confirmed COVID-19 Cases Per 1...</td>\n",
       "      <td>-1.541120</td>\n",
       "      <td>5.130809e-01</td>\n",
       "      <td>0.486919</td>\n",
       "    </tr>\n",
       "    <tr>\n",
       "      <th>1</th>\n",
       "      <td>diff1</td>\n",
       "      <td>-3.529468</td>\n",
       "      <td>7.261766e-03</td>\n",
       "      <td>0.992738</td>\n",
       "    </tr>\n",
       "    <tr>\n",
       "      <th>2</th>\n",
       "      <td>diff2</td>\n",
       "      <td>-6.997460</td>\n",
       "      <td>7.469605e-10</td>\n",
       "      <td>1.000000</td>\n",
       "    </tr>\n",
       "  </tbody>\n",
       "</table>\n",
       "</div>"
      ],
      "text/plain": [
       "                                              column  Test Statistic  \\\n",
       "0  Weekly Resident Confirmed COVID-19 Cases Per 1...       -1.541120   \n",
       "1                                              diff1       -3.529468   \n",
       "2                                              diff2       -6.997460   \n",
       "\n",
       "        p-value  1 - p-value  \n",
       "0  5.130809e-01     0.486919  \n",
       "1  7.261766e-03     0.992738  \n",
       "2  7.469605e-10     1.000000  "
      ]
     },
     "execution_count": 31,
     "metadata": {},
     "output_type": "execute_result"
    }
   ],
   "source": [
    "interpret_dftest(il_weekly_confirmed_cases)\n"
   ]
  },
  {
   "cell_type": "code",
   "execution_count": 32,
   "id": "chronic-bennett",
   "metadata": {
    "ExecuteTime": {
     "end_time": "2021-02-21T20:19:17.416831Z",
     "start_time": "2021-02-21T20:19:17.413581Z"
    }
   },
   "outputs": [],
   "source": [
    "y_train, y_test = train_test_split(il_weekly_confirmed_cases['Weekly Resident Confirmed COVID-19 Cases Per 1,000 Residents'],shuffle=False, test_size = .1)\n"
   ]
  },
  {
   "cell_type": "code",
   "execution_count": 33,
   "id": "smart-cisco",
   "metadata": {
    "ExecuteTime": {
     "end_time": "2021-02-21T20:19:24.984007Z",
     "start_time": "2021-02-21T20:19:17.419148Z"
    }
   },
   "outputs": [
    {
     "name": "stdout",
     "output_type": "stream",
     "text": [
      "best aic: 171.22381388495126\n",
      "best p: 2\n",
      "best d: 2\n",
      "best q: 2\n"
     ]
    }
   ],
   "source": [
    "# Starting AIC, p, and q.\n",
    "best_aic = 9 * (10**16)\n",
    "best_p = 0\n",
    "best_q = 0 \n",
    "best_d = 0\n",
    "# Use nested for loop to iterate over values of p and q.\n",
    "\n",
    "for p in range(5):\n",
    "    for q in range(5):\n",
    "        for d in range(3):\n",
    "        \n",
    "        # Insert try and except statements.\n",
    "            try:\n",
    "\n",
    "                # Instantiate ARIMA model.\n",
    "                arima = ARIMA(endog=y_train, order = (p, d, q))\n",
    "\n",
    "                # Fit ARIMA model.\n",
    "                model = arima.fit()\n",
    "\n",
    "                # Is my current model's AIC better than our best_aic?\n",
    "                if 0<= model.aic < best_aic:\n",
    "\n",
    "                    # If so, let's overwrite best_aic, best_p, and best_q.\n",
    "                    best_aic = model.aic\n",
    "                    best_p = p\n",
    "                    best_q = q\n",
    "                    best_d = d\n",
    "                    \n",
    "\n",
    "            except:\n",
    "                pass\n",
    "\n",
    "print('best aic:',best_aic)\n",
    "print('best p:', best_p)\n",
    "print('best d:', best_d)\n",
    "print('best q:', best_q)\n"
   ]
  },
  {
   "cell_type": "code",
   "execution_count": 34,
   "id": "organized-cylinder",
   "metadata": {
    "ExecuteTime": {
     "end_time": "2021-02-21T20:19:25.462730Z",
     "start_time": "2021-02-21T20:19:24.986085Z"
    }
   },
   "outputs": [
    {
     "data": {
      "image/png": "[encoded data removed]",
      "text/plain": [
       "<Figure size 720x432 with 1 Axes>"
      ]
     },
     "metadata": {
      "needs_background": "light"
     },
     "output_type": "display_data"
    }
   ],
   "source": [
    "# Instantiate best model.\n",
    "il_week_conf_cases_per_thous_model = ARIMA(endog = y_train, order = (best_p,best_d,best_q))\n",
    "\n",
    "# Fit ARIMA model.\n",
    "arima = il_week_conf_cases_per_thous_model.fit()\n",
    "\n",
    "# Generate predictions based on test set.\n",
    "preds = arima.predict(start = y_test.index[0], end= y_test.index[-1])\n",
    "\n",
    "# Plot data.\n",
    "plt.figure(figsize=(10,6))\n",
    "\n",
    "# Plot training data.\n",
    "plt.plot(y_train.index, pd.DataFrame(y_train), color = 'blue', label='Train')\n",
    "\n",
    "# Plot testing data.\n",
    "plt.plot(y_test.index, pd.DataFrame(y_test), color = 'orange', label = 'Test')\n",
    "\n",
    "# Plot predicted test values.\n",
    "plt.plot(y_test.index, preds, color = 'green', label = 'Preds')\n",
    "\n",
    "plt.title(label = f'Illinois Weekly Average Number of Confirmed Cases per 1,000\\n with ARIMA({best_p}, {best_d}, {best_q}) Predictions', fontsize=16)\n",
    "plt.legend()\n",
    "\n",
    "plt.savefig('../assets/il_avg_num_confirmed_cases_per_thous.png');\n"
   ]
  },
  {
   "cell_type": "markdown",
   "id": "cordless-thousand",
   "metadata": {},
   "source": [
    "### 'Weekly Resident COVID-19 Deaths Per 1,000 Residents'"
   ]
  },
  {
   "cell_type": "code",
   "execution_count": 35,
   "id": "armed-compression",
   "metadata": {
    "ExecuteTime": {
     "end_time": "2021-02-21T20:19:25.472326Z",
     "start_time": "2021-02-21T20:19:25.464719Z"
    }
   },
   "outputs": [],
   "source": [
    "il_weekly_covid_deaths_per_thous = il_avgs[['Weekly Resident COVID-19 Deaths Per 1,000 Residents']].copy()\n",
    "\n",
    "il_weekly_covid_deaths_per_thous['diff1'] = il_weekly_covid_deaths_per_thous['Weekly Resident COVID-19 Deaths Per 1,000 Residents'].diff()\n",
    "il_weekly_covid_deaths_per_thous['diff2'] = il_weekly_covid_deaths_per_thous['Weekly Resident COVID-19 Deaths Per 1,000 Residents'].diff().diff()\n",
    "il_weekly_covid_deaths_per_thous.dropna(inplace = True)\n"
   ]
  },
  {
   "cell_type": "code",
   "execution_count": 36,
   "id": "decent-jefferson",
   "metadata": {
    "ExecuteTime": {
     "end_time": "2021-02-21T20:19:25.664281Z",
     "start_time": "2021-02-21T20:19:25.474271Z"
    }
   },
   "outputs": [
    {
     "data": {
      "image/png": "[encoded data removed]",
      "text/plain": [
       "<Figure size 432x288 with 1 Axes>"
      ]
     },
     "metadata": {
      "needs_background": "light"
     },
     "output_type": "display_data"
    }
   ],
   "source": [
    "il_weekly_covid_deaths_per_thous['Weekly Resident COVID-19 Deaths Per 1,000 Residents'].plot(label = 'orig');\n"
   ]
  },
  {
   "cell_type": "code",
   "execution_count": 37,
   "id": "continuing-truck",
   "metadata": {
    "ExecuteTime": {
     "end_time": "2021-02-21T20:19:25.801251Z",
     "start_time": "2021-02-21T20:19:25.666243Z"
    }
   },
   "outputs": [
    {
     "data": {
      "image/png": "[encoded data removed]",
      "text/plain": [
       "<Figure size 432x288 with 1 Axes>"
      ]
     },
     "metadata": {
      "needs_background": "light"
     },
     "output_type": "display_data"
    }
   ],
   "source": [
    "plot_acf(il_weekly_covid_deaths_per_thous['Weekly Resident COVID-19 Deaths Per 1,000 Residents']);\n"
   ]
  },
  {
   "cell_type": "code",
   "execution_count": 38,
   "id": "indonesian-hormone",
   "metadata": {
    "ExecuteTime": {
     "end_time": "2021-02-21T20:19:25.932825Z",
     "start_time": "2021-02-21T20:19:25.803144Z"
    }
   },
   "outputs": [
    {
     "data": {
      "image/png": "[encoded data removed]",
      "text/plain": [
       "<Figure size 432x288 with 1 Axes>"
      ]
     },
     "metadata": {
      "needs_background": "light"
     },
     "output_type": "display_data"
    }
   ],
   "source": [
    "plot_pacf(il_weekly_covid_deaths_per_thous['Weekly Resident COVID-19 Deaths Per 1,000 Residents']);\n"
   ]
  },
  {
   "cell_type": "code",
   "execution_count": 39,
   "id": "ranking-blind",
   "metadata": {
    "ExecuteTime": {
     "end_time": "2021-02-21T20:19:25.958785Z",
     "start_time": "2021-02-21T20:19:25.934894Z"
    }
   },
   "outputs": [
    {
     "name": "stdout",
     "output_type": "stream",
     "text": [
      "best_col: diff2\n",
      "best_p: 0.0\n"
     ]
    },
    {
     "data": {
      "text/html": [
       "<div>\n",
       "<style scoped>\n",
       "    .dataframe tbody tr th:only-of-type {\n",
       "        vertical-align: middle;\n",
       "    }\n",
       "\n",
       "    .dataframe tbody tr th {\n",
       "        vertical-align: top;\n",
       "    }\n",
       "\n",
       "    .dataframe thead th {\n",
       "        text-align: right;\n",
       "    }\n",
       "</style>\n",
       "<table border=\"1\" class=\"dataframe\">\n",
       "  <thead>\n",
       "    <tr style=\"text-align: right;\">\n",
       "      <th></th>\n",
       "      <th>column</th>\n",
       "      <th>Test Statistic</th>\n",
       "      <th>p-value</th>\n",
       "      <th>1 - p-value</th>\n",
       "    </tr>\n",
       "  </thead>\n",
       "  <tbody>\n",
       "    <tr>\n",
       "      <th>0</th>\n",
       "      <td>Weekly Resident COVID-19 Deaths Per 1,000 Resi...</td>\n",
       "      <td>-1.932840</td>\n",
       "      <td>0.316773</td>\n",
       "      <td>0.683227</td>\n",
       "    </tr>\n",
       "    <tr>\n",
       "      <th>1</th>\n",
       "      <td>diff1</td>\n",
       "      <td>-2.294962</td>\n",
       "      <td>0.173598</td>\n",
       "      <td>0.826402</td>\n",
       "    </tr>\n",
       "    <tr>\n",
       "      <th>2</th>\n",
       "      <td>diff2</td>\n",
       "      <td>-21.190764</td>\n",
       "      <td>0.000000</td>\n",
       "      <td>1.000000</td>\n",
       "    </tr>\n",
       "  </tbody>\n",
       "</table>\n",
       "</div>"
      ],
      "text/plain": [
       "                                              column  Test Statistic  \\\n",
       "0  Weekly Resident COVID-19 Deaths Per 1,000 Resi...       -1.932840   \n",
       "1                                              diff1       -2.294962   \n",
       "2                                              diff2      -21.190764   \n",
       "\n",
       "    p-value  1 - p-value  \n",
       "0  0.316773     0.683227  \n",
       "1  0.173598     0.826402  \n",
       "2  0.000000     1.000000  "
      ]
     },
     "execution_count": 39,
     "metadata": {},
     "output_type": "execute_result"
    }
   ],
   "source": [
    "interpret_dftest(il_weekly_covid_deaths_per_thous)\n"
   ]
  },
  {
   "cell_type": "code",
   "execution_count": 40,
   "id": "exotic-obligation",
   "metadata": {
    "ExecuteTime": {
     "end_time": "2021-02-21T20:19:25.963265Z",
     "start_time": "2021-02-21T20:19:25.960360Z"
    }
   },
   "outputs": [],
   "source": [
    "y_train, y_test = train_test_split(il_weekly_covid_deaths_per_thous['Weekly Resident COVID-19 Deaths Per 1,000 Residents'],shuffle=False, test_size = .1)\n"
   ]
  },
  {
   "cell_type": "code",
   "execution_count": 41,
   "id": "invalid-mission",
   "metadata": {
    "ExecuteTime": {
     "end_time": "2021-02-21T20:19:33.258574Z",
     "start_time": "2021-02-21T20:19:25.964867Z"
    }
   },
   "outputs": [
    {
     "name": "stdout",
     "output_type": "stream",
     "text": [
      "best aic: 80.21522721974269\n",
      "best p: 0\n",
      "best d: 1\n",
      "best q: 2\n"
     ]
    }
   ],
   "source": [
    "# Starting AIC, p, and q.\n",
    "best_aic = 9 * (10**16)\n",
    "best_p = 0\n",
    "best_q = 0 \n",
    "best_d = 0\n",
    "# Use nested for loop to iterate over values of p and q.\n",
    "\n",
    "for p in range(5):\n",
    "    for q in range(5):\n",
    "        for d in range(3):\n",
    "        \n",
    "        # Insert try and except statements.\n",
    "            try:\n",
    "                # Instantiate ARIMA model.\n",
    "                arima = ARIMA(endog=y_train, order = (p, d, q))\n",
    "\n",
    "                # Fit ARIMA model.\n",
    "                model = arima.fit()\n",
    "\n",
    "                # Is my current model's AIC better than our best_aic?\n",
    "                if 0<= model.aic < best_aic:\n",
    "\n",
    "                    # If so, let's overwrite best_aic, best_p, and best_q.\n",
    "                    best_aic = model.aic\n",
    "                    best_p = p\n",
    "                    best_q = q\n",
    "                    best_d = d\n",
    "                    \n",
    "\n",
    "            except:\n",
    "                pass\n",
    "            \n",
    "print('best aic:',best_aic)\n",
    "print('best p:', best_p)\n",
    "print('best d:', best_d)\n",
    "print('best q:', best_q)"
   ]
  },
  {
   "cell_type": "code",
   "execution_count": 42,
   "id": "eastern-astronomy",
   "metadata": {
    "ExecuteTime": {
     "end_time": "2021-02-21T20:19:33.578846Z",
     "start_time": "2021-02-21T20:19:33.260322Z"
    },
    "scrolled": true
   },
   "outputs": [
    {
     "data": {
      "image/png": "[encoded data removed]",
      "text/plain": [
       "<Figure size 720x432 with 1 Axes>"
      ]
     },
     "metadata": {
      "needs_background": "light"
     },
     "output_type": "display_data"
    }
   ],
   "source": [
    "# Instantiate best model.\n",
    "il_weekly_deaths_per_thous_model = ARIMA(endog = y_train, order = (best_p,best_d,best_q))\n",
    "\n",
    "# Fit ARIMA model.\n",
    "arima = il_weekly_deaths_per_thous_model.fit()\n",
    "\n",
    "# Generate predictions based on test set.\n",
    "preds = arima.predict(start = y_test.index[0], end= y_test.index[-1])\n",
    "\n",
    "# Plot data.\n",
    "plt.figure(figsize=(10,6))\n",
    "\n",
    "# Plot training data.\n",
    "plt.plot(y_train.index, pd.DataFrame(y_train), color = 'blue', label='Train')\n",
    "\n",
    "# Plot testing data.\n",
    "plt.plot(y_test.index, pd.DataFrame(y_test), color = 'orange', label = 'Test')\n",
    "\n",
    "# Plot predicted test values.\n",
    "plt.plot(y_test.index, preds, color = 'green', label = 'Preds')\n",
    "\n",
    "plt.title(label = f'Illinois Average of Weekly COVID-19 Deaths per 1,000\\n with ARIMA({best_p}, {best_d}, {best_q}) Predictions', fontsize=16)\n",
    "plt.legend()\n",
    "plt.savefig('../assets/il_weekly_avg_covid_deaths_per_1000.png');"
   ]
  }
 ],
 "metadata": {
  "kernelspec": {
   "display_name": "Python 3",
   "language": "python",
   "name": "python3"
  },
  "language_info": {
   "codemirror_mode": {
    "name": "ipython",
    "version": 3
   },
   "file_extension": ".py",
   "mimetype": "text/x-python",
   "name": "python",
   "nbconvert_exporter": "python",
   "pygments_lexer": "ipython3",
   "version": "3.8.5"
  },
  "toc": {
   "base_numbering": 1,
   "nav_menu": {
    "height": "286px",
    "width": "305px"
   },
   "number_sections": true,
   "sideBar": true,
   "skip_h1_title": false,
   "title_cell": "Table of Contents",
   "title_sidebar": "Contents",
   "toc_cell": false,
   "toc_position": {},
   "toc_section_display": true,
   "toc_window_display": false
  },
  "varInspector": {
   "cols": {
    "lenName": 16,
    "lenType": 16,
    "lenVar": 40
   },
   "kernels_config": {
    "python": {
     "delete_cmd_postfix": "",
     "delete_cmd_prefix": "del ",
     "library": "var_list.py",
     "varRefreshCmd": "print(var_dic_list())"
    },
    "r": {
     "delete_cmd_postfix": ") ",
     "delete_cmd_prefix": "rm(",
     "library": "var_list.r",
     "varRefreshCmd": "cat(var_dic_list()) "
    }
   },
   "types_to_exclude": [
    "module",
    "function",
    "builtin_function_or_method",
    "instance",
    "_Feature"
   ],
   "window_display": false
  }
 },
 "nbformat": 4,
 "nbformat_minor": 5
}
