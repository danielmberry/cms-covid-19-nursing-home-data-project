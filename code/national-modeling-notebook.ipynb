{
 "cells": [
  {
   "cell_type": "markdown",
   "id": "electoral-discussion",
   "metadata": {},
   "source": [
    "# National: ARIMA Time-Series Modeling Notebook"
   ]
  },
  {
   "cell_type": "markdown",
   "id": "occupational-anger",
   "metadata": {},
   "source": [
    "# Imports"
   ]
  },
  {
   "cell_type": "code",
   "execution_count": 1,
   "id": "southern-applicant",
   "metadata": {
    "ExecuteTime": {
     "end_time": "2021-03-02T21:31:09.832797Z",
     "start_time": "2021-03-02T21:31:07.515339Z"
    }
   },
   "outputs": [],
   "source": [
    "import pandas as pd\n",
    "import numpy as np\n",
    "import matplotlib.pyplot as plt\n",
    "import seaborn as sns\n",
    "import os\n",
    "from collections import Counter\n",
    "\n",
    "from sklearn.model_selection import train_test_split\n",
    "\n",
    "from statsmodels.tsa.arima.model import ARIMA\n",
    "from statsmodels.graphics.tsaplots import plot_acf, plot_pacf\n",
    "from statsmodels.tsa.stattools import adfuller\n",
    "\n",
    "import warnings\n",
    "warnings.filterwarnings('ignore')"
   ]
  },
  {
   "cell_type": "markdown",
   "id": "million-switzerland",
   "metadata": {},
   "source": [
    "# Read in data"
   ]
  },
  {
   "cell_type": "code",
   "execution_count": 2,
   "id": "noted-parcel",
   "metadata": {
    "ExecuteTime": {
     "end_time": "2021-03-02T21:31:20.625658Z",
     "start_time": "2021-03-02T21:31:14.253706Z"
    }
   },
   "outputs": [],
   "source": [
    "df = pd.read_csv('../../COVID-19_Nursing_Home_Dataset.csv')"
   ]
  },
  {
   "cell_type": "markdown",
   "id": "challenging-contract",
   "metadata": {},
   "source": [
    "## Split data"
   ]
  },
  {
   "cell_type": "markdown",
   "id": "thermal-lighting",
   "metadata": {},
   "source": [
    "Due to size of data file, split data by week submitted to get smaller files that are available to upload. \n",
    "> This is commented out so that it only runs when needed."
   ]
  },
  {
   "cell_type": "code",
   "execution_count": 3,
   "id": "dental-orbit",
   "metadata": {
    "ExecuteTime": {
     "end_time": "2021-02-21T20:23:13.782088Z",
     "start_time": "2021-02-21T20:23:13.779909Z"
    }
   },
   "outputs": [],
   "source": [
    "# def split_data(df,dates):\n",
    "#     for date in dates:    \n",
    "#         frame = df[df['Week Ending'] == date]\n",
    "#         reformatted_date = date.replace('/', '-')\n",
    "#         frame.to_csv(f'../data/{reformatted_date}-data.csv', index = False)\n",
    "\n",
    "# dates = df['Week Ending'].unique()\n",
    "\n",
    "# split_data(df, dates)"
   ]
  },
  {
   "cell_type": "markdown",
   "id": "polished-platinum",
   "metadata": {},
   "source": [
    "## Concatenating files"
   ]
  },
  {
   "cell_type": "markdown",
   "id": "italian-emphasis",
   "metadata": {},
   "source": [
    "Create a function that can concatenate the each of the csv files into a single data frame."
   ]
  },
  {
   "cell_type": "code",
   "execution_count": 4,
   "id": "exclusive-mystery",
   "metadata": {
    "ExecuteTime": {
     "end_time": "2021-02-21T20:23:25.178242Z",
     "start_time": "2021-02-21T20:23:13.784219Z"
    }
   },
   "outputs": [],
   "source": [
    "df_lst = []\n",
    "for f in os.listdir('../data'):\n",
    "    temp = pd.read_csv('../data/' + f)\n",
    "    df_lst.append(temp)\n",
    "df = pd.concat(df_lst, ignore_index=True)"
   ]
  },
  {
   "cell_type": "code",
   "execution_count": 5,
   "id": "selective-planning",
   "metadata": {
    "ExecuteTime": {
     "end_time": "2021-02-21T20:23:28.200730Z",
     "start_time": "2021-02-21T20:23:25.181304Z"
    }
   },
   "outputs": [
    {
     "name": "stdout",
     "output_type": "stream",
     "text": [
      "num weeks: 38\n"
     ]
    }
   ],
   "source": [
    "# determining the number of weeks for which data is available\n",
    "week_num = len(df['Week Ending'].unique())\n",
    "print('num weeks:',week_num)\n",
    "\n",
    "# Dropping rows where no submitted data\n",
    "df = df[df['Submitted Data'] == 'Y']\n",
    "\n",
    "# dropping rows that didn't pass quality assurance check\n",
    "df = df[df['Passed Quality Assurance Check'] == 'Y']\n"
   ]
  },
  {
   "cell_type": "code",
   "execution_count": 6,
   "id": "ordered-mississippi",
   "metadata": {
    "ExecuteTime": {
     "end_time": "2021-02-21T20:23:28.310604Z",
     "start_time": "2021-02-21T20:23:28.202565Z"
    }
   },
   "outputs": [
    {
     "name": "stdout",
     "output_type": "stream",
     "text": [
      "original: 16896\n",
      "to be dropped: 5914\n",
      "to keep: 10982\n"
     ]
    }
   ],
   "source": [
    "# removing nursing homes who have submissions for each week\n",
    "\n",
    "submission_counts = Counter(df['Federal Provider Number'])\n",
    "keys = submission_counts.keys()\n",
    "to_drop = []\n",
    "for key in keys:\n",
    "    if submission_counts[key] < week_num:\n",
    "        to_drop.append(key)\n",
    "to_keep = keys-to_drop\n",
    "print('original:',len(keys))\n",
    "print('to be dropped:',len(to_drop))\n",
    "print('to keep:',len(to_keep))"
   ]
  },
  {
   "cell_type": "code",
   "execution_count": 7,
   "id": "graphic-cooling",
   "metadata": {
    "ExecuteTime": {
     "end_time": "2021-02-21T20:23:29.017885Z",
     "start_time": "2021-02-21T20:23:28.312344Z"
    }
   },
   "outputs": [],
   "source": [
    "# drop rows for nursing homes that don't meet the criteria fewer entries\n",
    "df = df[df['Federal Provider Number'].isin(to_keep)]"
   ]
  },
  {
   "cell_type": "code",
   "execution_count": 8,
   "id": "regional-crawford",
   "metadata": {
    "ExecuteTime": {
     "end_time": "2021-02-21T20:23:29.410632Z",
     "start_time": "2021-02-21T20:23:29.023507Z"
    }
   },
   "outputs": [],
   "source": [
    "# change the week column to datetime format\n",
    "df['Week Ending'] = pd.to_datetime(df['Week Ending'])"
   ]
  },
  {
   "cell_type": "markdown",
   "id": "level-spokesman",
   "metadata": {},
   "source": [
    "# Modeling"
   ]
  },
  {
   "cell_type": "markdown",
   "id": "executive-plumbing",
   "metadata": {},
   "source": [
    "## National"
   ]
  },
  {
   "cell_type": "code",
   "execution_count": 9,
   "id": "joint-deployment",
   "metadata": {
    "ExecuteTime": {
     "end_time": "2021-02-21T20:23:29.447161Z",
     "start_time": "2021-02-21T20:23:29.413760Z"
    }
   },
   "outputs": [],
   "source": [
    "national = df[[\n",
    "    'Week Ending', 'Total Number of Occupied Beds',\n",
    "    'Residents Weekly COVID-19 Deaths',\n",
    "    'Weekly Resident Confirmed COVID-19 Cases Per 1,000 Residents',\n",
    "    'Weekly Resident COVID-19 Deaths Per 1,000 Residents'\n",
    "]]\n",
    "national_avgs = national.groupby(by='Week Ending').mean()"
   ]
  },
  {
   "cell_type": "code",
   "execution_count": 10,
   "id": "dominant-sunglasses",
   "metadata": {
    "ExecuteTime": {
     "end_time": "2021-02-21T20:23:29.458206Z",
     "start_time": "2021-02-21T20:23:29.449988Z"
    }
   },
   "outputs": [],
   "source": [
    "# function to get the p-values for adfuller test for each of the columns in the dataframe \n",
    "\n",
    "def interpret_dftest(df):\n",
    "    '''\n",
    "    Returns p-value for the Dickey-Fuller test for each feature in DataFrame.\n",
    "    ----\n",
    "    Parameters\n",
    "        Type: DataFrame\n",
    "        Description: Time series features\n",
    "    ----\n",
    "    Output\n",
    "        Type: DataFrame\n",
    "        Description: DataFrame of p-values for time-series data\n",
    "    '''\n",
    "    results = []\n",
    "    best_col = None\n",
    "    best_p = 2\n",
    "    \n",
    "    for col in df.columns:\n",
    "        result = {}\n",
    "        result['column'] = col\n",
    "        dftest = adfuller(df[col])\n",
    "        result['Test Statistic'] = dftest[0]\n",
    "        result['p-value'] = dftest[1]\n",
    "        result['1 - p-value'] = 1-dftest[1]\n",
    "        results.append(result)\n",
    "        if dftest[1] < .9:\n",
    "            if dftest[1] < best_p:\n",
    "                best_p = dftest[1]\n",
    "                best_col = col\n",
    "        elif dftest[1] >= .9:\n",
    "            if (1-dftest[1]) < best_p:\n",
    "                best_p = (1-dftest[1])\n",
    "                best_col = col\n",
    "    \n",
    "    print('best_col:', best_col)\n",
    "    print('best_p:', best_p)\n",
    "    return pd.DataFrame(results)"
   ]
  },
  {
   "cell_type": "markdown",
   "id": "interim-scanning",
   "metadata": {},
   "source": [
    "### 'Total Number of Occupied Beds'"
   ]
  },
  {
   "cell_type": "code",
   "execution_count": 11,
   "id": "vanilla-religious",
   "metadata": {
    "ExecuteTime": {
     "end_time": "2021-02-21T20:23:29.482651Z",
     "start_time": "2021-02-21T20:23:29.460974Z"
    }
   },
   "outputs": [],
   "source": [
    "national_occupied = national_avgs[['Total Number of Occupied Beds']].copy()\n",
    "national_occupied['diff1'] = national_occupied['Total Number of Occupied Beds'].diff()\n",
    "national_occupied['diff2'] = national_occupied['Total Number of Occupied Beds'].diff().diff()\n",
    "national_occupied.dropna(inplace = True)"
   ]
  },
  {
   "cell_type": "code",
   "execution_count": 12,
   "id": "optimum-biodiversity",
   "metadata": {
    "ExecuteTime": {
     "end_time": "2021-02-21T20:23:29.763246Z",
     "start_time": "2021-02-21T20:23:29.486605Z"
    }
   },
   "outputs": [
    {
     "data": {
      "image/png": "[encoded data removed]",
      "text/plain": [
       "<Figure size 432x288 with 1 Axes>"
      ]
     },
     "metadata": {
      "needs_background": "light"
     },
     "output_type": "display_data"
    }
   ],
   "source": [
    "national_occupied['Total Number of Occupied Beds'].plot();"
   ]
  },
  {
   "cell_type": "markdown",
   "id": "inclusive-heavy",
   "metadata": {},
   "source": [
    "**Analysis**\n",
    " \n",
    "The average number of occupied beds declines throughout the duration of the pandemic. "
   ]
  },
  {
   "cell_type": "code",
   "execution_count": 13,
   "id": "polyphonic-medicaid",
   "metadata": {
    "ExecuteTime": {
     "end_time": "2021-02-21T20:23:29.919594Z",
     "start_time": "2021-02-21T20:23:29.765471Z"
    }
   },
   "outputs": [
    {
     "data": {
      "image/png": "[encoded data removed]",
      "text/plain": [
       "<Figure size 432x288 with 1 Axes>"
      ]
     },
     "metadata": {
      "needs_background": "light"
     },
     "output_type": "display_data"
    }
   ],
   "source": [
    "plot_acf(national_occupied['Total Number of Occupied Beds']);"
   ]
  },
  {
   "cell_type": "markdown",
   "id": "naughty-techno",
   "metadata": {},
   "source": [
    "**Analysis**\n",
    "\n",
    "There is a trend present in the ACF plot, suggesting that differencing this feature is going to be required. "
   ]
  },
  {
   "cell_type": "code",
   "execution_count": 14,
   "id": "extra-syndrome",
   "metadata": {
    "ExecuteTime": {
     "end_time": "2021-02-21T20:23:30.074792Z",
     "start_time": "2021-02-21T20:23:29.921668Z"
    }
   },
   "outputs": [
    {
     "data": {
      "image/png": "[encoded data removed]",
      "text/plain": [
       "<Figure size 432x288 with 1 Axes>"
      ]
     },
     "metadata": {
      "needs_background": "light"
     },
     "output_type": "display_data"
    }
   ],
   "source": [
    "plot_pacf(national_occupied['Total Number of Occupied Beds']);"
   ]
  },
  {
   "cell_type": "markdown",
   "id": "knowing-commission",
   "metadata": {},
   "source": [
    "**Analysis**\n",
    "\n",
    "The partial autocorrelation confirms that differencing will be needed. Therefore, the results of an ARIMA model will be the best approximation. "
   ]
  },
  {
   "cell_type": "code",
   "execution_count": 15,
   "id": "historic-bargain",
   "metadata": {
    "ExecuteTime": {
     "end_time": "2021-02-21T20:23:30.104421Z",
     "start_time": "2021-02-21T20:23:30.076788Z"
    }
   },
   "outputs": [
    {
     "name": "stdout",
     "output_type": "stream",
     "text": [
      "best_col: Total Number of Occupied Beds\n",
      "best_p: 0.0011759882808551891\n"
     ]
    },
    {
     "data": {
      "text/html": [
       "<div>\n",
       "<style scoped>\n",
       "    .dataframe tbody tr th:only-of-type {\n",
       "        vertical-align: middle;\n",
       "    }\n",
       "\n",
       "    .dataframe tbody tr th {\n",
       "        vertical-align: top;\n",
       "    }\n",
       "\n",
       "    .dataframe thead th {\n",
       "        text-align: right;\n",
       "    }\n",
       "</style>\n",
       "<table border=\"1\" class=\"dataframe\">\n",
       "  <thead>\n",
       "    <tr style=\"text-align: right;\">\n",
       "      <th></th>\n",
       "      <th>column</th>\n",
       "      <th>Test Statistic</th>\n",
       "      <th>p-value</th>\n",
       "      <th>1 - p-value</th>\n",
       "    </tr>\n",
       "  </thead>\n",
       "  <tbody>\n",
       "    <tr>\n",
       "      <th>0</th>\n",
       "      <td>Total Number of Occupied Beds</td>\n",
       "      <td>2.134369</td>\n",
       "      <td>0.998824</td>\n",
       "      <td>0.001176</td>\n",
       "    </tr>\n",
       "    <tr>\n",
       "      <th>1</th>\n",
       "      <td>diff1</td>\n",
       "      <td>-3.138440</td>\n",
       "      <td>0.023836</td>\n",
       "      <td>0.976164</td>\n",
       "    </tr>\n",
       "    <tr>\n",
       "      <th>2</th>\n",
       "      <td>diff2</td>\n",
       "      <td>-2.648361</td>\n",
       "      <td>0.083408</td>\n",
       "      <td>0.916592</td>\n",
       "    </tr>\n",
       "  </tbody>\n",
       "</table>\n",
       "</div>"
      ],
      "text/plain": [
       "                          column  Test Statistic   p-value  1 - p-value\n",
       "0  Total Number of Occupied Beds        2.134369  0.998824     0.001176\n",
       "1                          diff1       -3.138440  0.023836     0.976164\n",
       "2                          diff2       -2.648361  0.083408     0.916592"
      ]
     },
     "execution_count": 15,
     "metadata": {},
     "output_type": "execute_result"
    }
   ],
   "source": [
    "interpret_dftest(national_occupied)"
   ]
  },
  {
   "cell_type": "code",
   "execution_count": 16,
   "id": "legitimate-stanley",
   "metadata": {
    "ExecuteTime": {
     "end_time": "2021-02-21T20:23:30.238159Z",
     "start_time": "2021-02-21T20:23:30.106235Z"
    }
   },
   "outputs": [],
   "source": [
    "y_train, y_test = train_test_split(national_occupied['Total Number of Occupied Beds'],shuffle=False, test_size = .1)"
   ]
  },
  {
   "cell_type": "markdown",
   "id": "looking-queen",
   "metadata": {},
   "source": [
    "*Note: The code in the two cells directly below, as well as all other iterations of it in this notebook, were adapted from the [7.07-lesson-arima-modeling repo](https://git.generalassemb.ly/DSIR-20201214-E/lesson-ARIMA), originally written by Matt Brems, Joseph Nelson and Justin Pounders.*"
   ]
  },
  {
   "cell_type": "code",
   "execution_count": 17,
   "id": "universal-duration",
   "metadata": {
    "ExecuteTime": {
     "end_time": "2021-02-21T20:23:40.689813Z",
     "start_time": "2021-02-21T20:23:30.240102Z"
    }
   },
   "outputs": [
    {
     "name": "stdout",
     "output_type": "stream",
     "text": [
      "best aic: 0.02541282007735468\n",
      "best p: 0\n",
      "best d: 1\n",
      "best q: 2\n"
     ]
    }
   ],
   "source": [
    "# Starting AIC, p, and q.\n",
    "best_aic = 9 * (10**16)\n",
    "best_p = 0\n",
    "best_q = 0 \n",
    "best_d = 0\n",
    "\n",
    "# Use nested for loop to iterate over values of p and q.\n",
    "\n",
    "for p in range(5):\n",
    "    for q in range(5):\n",
    "        for d in range(3):\n",
    "        \n",
    "        # Insert try and except statements.\n",
    "            try:\n",
    "                # Instantiate ARIMA model.\n",
    "                arima = ARIMA(endog=y_train, order = (p, d, q))\n",
    "\n",
    "                # Fit ARIMA model.\n",
    "                model = arima.fit()\n",
    "\n",
    "                # Is my current model's AIC better than our best_aic?\n",
    "                if  abs(model.aic) < abs(best_aic):\n",
    "\n",
    "                    # If so, let's overwrite best_aic, best_p, and best_q.\n",
    "                    best_aic = model.aic\n",
    "                    best_p = p\n",
    "                    best_q = q\n",
    "                    best_d = d\n",
    "                    \n",
    "            except:\n",
    "                pass\n",
    "print('best aic:',best_aic)\n",
    "print('best p:', best_p)\n",
    "print('best d:', best_d)\n",
    "print('best q:', best_q)"
   ]
  },
  {
   "cell_type": "code",
   "execution_count": 18,
   "id": "postal-senate",
   "metadata": {
    "ExecuteTime": {
     "end_time": "2021-02-21T20:23:41.064425Z",
     "start_time": "2021-02-21T20:23:40.692205Z"
    }
   },
   "outputs": [
    {
     "data": {
      "image/png": "[encoded data removed]",
      "text/plain": [
       "<Figure size 720x432 with 1 Axes>"
      ]
     },
     "metadata": {
      "needs_background": "light"
     },
     "output_type": "display_data"
    }
   ],
   "source": [
    "# Instantiate best model.\n",
    "nat_occ_model = ARIMA(endog=y_train, order=(best_p, best_d, best_q))\n",
    "\n",
    "# Fit ARIMA model.\n",
    "arima = nat_occ_model.fit()\n",
    "\n",
    "# Generate predictions based on test set.\n",
    "preds = arima.predict(start=y_test.index[0], end=y_test.index[-1])\n",
    "\n",
    "# Plot data.\n",
    "plt.figure(figsize=(10, 6))\n",
    "\n",
    "# Plot training data.\n",
    "plt.plot(y_train.index, pd.DataFrame(y_train), color='blue', label='Train')\n",
    "\n",
    "# Plot testing data.\n",
    "plt.plot(y_test.index, pd.DataFrame(y_test), color='orange', label='Test')\n",
    "\n",
    "# Plot predicted test values.\n",
    "plt.plot(y_test.index, preds, color='green', label='Preds')\n",
    "\n",
    "plt.title(\n",
    "    label=f'National Average Number of Occupied Beds\\n with ARIMA({best_p}, {best_d}, {best_q}) Predictions',\n",
    "    fontsize=16)\n",
    "plt.legend()\n",
    "\n",
    "plt.savefig('../assets/nat_avg_num_occupied_beds.png');"
   ]
  },
  {
   "cell_type": "markdown",
   "id": "legitimate-brighton",
   "metadata": {},
   "source": [
    "**Analysis**\n",
    "\n"
   ]
  },
  {
   "cell_type": "markdown",
   "id": "behavioral-coffee",
   "metadata": {},
   "source": [
    "### 'Residents Weekly COVID-19 Deaths'"
   ]
  },
  {
   "cell_type": "code",
   "execution_count": 19,
   "id": "necessary-darkness",
   "metadata": {
    "ExecuteTime": {
     "end_time": "2021-02-21T20:23:41.074507Z",
     "start_time": "2021-02-21T20:23:41.066546Z"
    }
   },
   "outputs": [],
   "source": [
    "nat_weekly_deaths = national_avgs[['Residents Weekly COVID-19 Deaths']].copy()\n",
    "\n",
    "nat_weekly_deaths['diff1'] = nat_weekly_deaths['Residents Weekly COVID-19 Deaths'].diff()\n",
    "nat_weekly_deaths['diff2'] = nat_weekly_deaths['Residents Weekly COVID-19 Deaths'].diff().diff()\n",
    "nat_weekly_deaths.dropna(inplace = True)"
   ]
  },
  {
   "cell_type": "code",
   "execution_count": 20,
   "id": "coordinate-culture",
   "metadata": {
    "ExecuteTime": {
     "end_time": "2021-02-21T20:23:41.291252Z",
     "start_time": "2021-02-21T20:23:41.076255Z"
    }
   },
   "outputs": [
    {
     "data": {
      "image/png": "[encoded data removed]",
      "text/plain": [
       "<Figure size 432x288 with 1 Axes>"
      ]
     },
     "metadata": {
      "needs_background": "light"
     },
     "output_type": "display_data"
    }
   ],
   "source": [
    "nat_weekly_deaths['Residents Weekly COVID-19 Deaths'].plot(label = 'orig');"
   ]
  },
  {
   "cell_type": "code",
   "execution_count": 21,
   "id": "covered-pattern",
   "metadata": {
    "ExecuteTime": {
     "end_time": "2021-02-21T20:23:41.449904Z",
     "start_time": "2021-02-21T20:23:41.293453Z"
    }
   },
   "outputs": [
    {
     "data": {
      "image/png": "[encoded data removed]",
      "text/plain": [
       "<Figure size 432x288 with 1 Axes>"
      ]
     },
     "metadata": {
      "needs_background": "light"
     },
     "output_type": "display_data"
    }
   ],
   "source": [
    "plot_acf(nat_weekly_deaths['Residents Weekly COVID-19 Deaths']);"
   ]
  },
  {
   "cell_type": "code",
   "execution_count": 22,
   "id": "brown-patrick",
   "metadata": {
    "ExecuteTime": {
     "end_time": "2021-02-21T20:23:41.590981Z",
     "start_time": "2021-02-21T20:23:41.451816Z"
    }
   },
   "outputs": [
    {
     "data": {
      "image/png": "[encoded data removed]",
      "text/plain": [
       "<Figure size 432x288 with 1 Axes>"
      ]
     },
     "metadata": {
      "needs_background": "light"
     },
     "output_type": "display_data"
    }
   ],
   "source": [
    "plot_pacf(nat_weekly_deaths['Residents Weekly COVID-19 Deaths']);"
   ]
  },
  {
   "cell_type": "code",
   "execution_count": 23,
   "id": "reflected-walter",
   "metadata": {
    "ExecuteTime": {
     "end_time": "2021-02-21T20:23:41.622783Z",
     "start_time": "2021-02-21T20:23:41.598806Z"
    }
   },
   "outputs": [
    {
     "name": "stdout",
     "output_type": "stream",
     "text": [
      "best_col: diff2\n",
      "best_p: 0.0\n"
     ]
    },
    {
     "data": {
      "text/html": [
       "<div>\n",
       "<style scoped>\n",
       "    .dataframe tbody tr th:only-of-type {\n",
       "        vertical-align: middle;\n",
       "    }\n",
       "\n",
       "    .dataframe tbody tr th {\n",
       "        vertical-align: top;\n",
       "    }\n",
       "\n",
       "    .dataframe thead th {\n",
       "        text-align: right;\n",
       "    }\n",
       "</style>\n",
       "<table border=\"1\" class=\"dataframe\">\n",
       "  <thead>\n",
       "    <tr style=\"text-align: right;\">\n",
       "      <th></th>\n",
       "      <th>column</th>\n",
       "      <th>Test Statistic</th>\n",
       "      <th>p-value</th>\n",
       "      <th>1 - p-value</th>\n",
       "    </tr>\n",
       "  </thead>\n",
       "  <tbody>\n",
       "    <tr>\n",
       "      <th>0</th>\n",
       "      <td>Residents Weekly COVID-19 Deaths</td>\n",
       "      <td>-3.077862</td>\n",
       "      <td>0.028235</td>\n",
       "      <td>0.971765</td>\n",
       "    </tr>\n",
       "    <tr>\n",
       "      <th>1</th>\n",
       "      <td>diff1</td>\n",
       "      <td>-0.725066</td>\n",
       "      <td>0.840150</td>\n",
       "      <td>0.159850</td>\n",
       "    </tr>\n",
       "    <tr>\n",
       "      <th>2</th>\n",
       "      <td>diff2</td>\n",
       "      <td>-81.836620</td>\n",
       "      <td>0.000000</td>\n",
       "      <td>1.000000</td>\n",
       "    </tr>\n",
       "  </tbody>\n",
       "</table>\n",
       "</div>"
      ],
      "text/plain": [
       "                             column  Test Statistic   p-value  1 - p-value\n",
       "0  Residents Weekly COVID-19 Deaths       -3.077862  0.028235     0.971765\n",
       "1                             diff1       -0.725066  0.840150     0.159850\n",
       "2                             diff2      -81.836620  0.000000     1.000000"
      ]
     },
     "execution_count": 23,
     "metadata": {},
     "output_type": "execute_result"
    }
   ],
   "source": [
    "interpret_dftest(nat_weekly_deaths)"
   ]
  },
  {
   "cell_type": "code",
   "execution_count": 24,
   "id": "future-playback",
   "metadata": {
    "ExecuteTime": {
     "end_time": "2021-02-21T20:23:41.631250Z",
     "start_time": "2021-02-21T20:23:41.628428Z"
    }
   },
   "outputs": [],
   "source": [
    "y_train, y_test = train_test_split(nat_weekly_deaths['Residents Weekly COVID-19 Deaths'],shuffle=False, test_size = .1)"
   ]
  },
  {
   "cell_type": "code",
   "execution_count": 25,
   "id": "phantom-slovak",
   "metadata": {
    "ExecuteTime": {
     "end_time": "2021-02-21T20:24:09.006420Z",
     "start_time": "2021-02-21T20:23:41.633391Z"
    },
    "code_folding": []
   },
   "outputs": [
    {
     "name": "stdout",
     "output_type": "stream",
     "text": [
      "best aic: -52.10164932791568\n",
      "best p: 0\n",
      "best d: 0\n",
      "best q: 0\n"
     ]
    }
   ],
   "source": [
    "# Starting AIC, p, and q.\n",
    "best_aic = 9 * (10**16)\n",
    "best_p = 0\n",
    "best_q = 0 \n",
    "best_d = 0\n",
    "# Use nested for loop to iterate over values of p and q.\n",
    "\n",
    "for p in range(6):\n",
    "    for q in range(6):\n",
    "        for d in range(4):\n",
    "        \n",
    "        # Insert try and except statements.\n",
    "            try:\n",
    "\n",
    "                # Instantiate ARIMA model.\n",
    "                arima = ARIMA(endog=y_train, order = (p, d, q))\n",
    "\n",
    "                # Fit ARIMA model.\n",
    "                model = arima.fit()\n",
    "\n",
    "                # Is my current model's AIC better than our best_aic?\n",
    "                if abs(model.aic) < abs(best_aic):\n",
    "\n",
    "                    # If so, let's overwrite best_aic, best_p, and best_q.\n",
    "                    best_aic = model.aic\n",
    "                    best_p = p\n",
    "                    best_q = q\n",
    "                    best_d = d     \n",
    "\n",
    "            except:\n",
    "                pass\n",
    "            \n",
    "print('best aic:',best_aic)\n",
    "print('best p:', best_p)\n",
    "print('best d:', best_d)\n",
    "print('best q:', best_q)\n"
   ]
  },
  {
   "cell_type": "code",
   "execution_count": 26,
   "id": "forbidden-brazil",
   "metadata": {
    "ExecuteTime": {
     "end_time": "2021-02-21T20:24:09.352656Z",
     "start_time": "2021-02-21T20:24:09.008608Z"
    }
   },
   "outputs": [
    {
     "data": {
      "image/png": "[encoded data removed]",
      "text/plain": [
       "<Figure size 720x432 with 1 Axes>"
      ]
     },
     "metadata": {
      "needs_background": "light"
     },
     "output_type": "display_data"
    }
   ],
   "source": [
    "# Instantiate best model.\n",
    "nat_week_deaths_model = ARIMA(endog = y_train, order = (best_p,best_d,best_q))\n",
    "\n",
    "# Fit ARIMA model.\n",
    "arima = nat_week_deaths_model.fit()\n",
    "\n",
    "# Generate predictions based on test set.\n",
    "preds = arima.predict(start = y_test.index[0], end= y_test.index[-1])\n",
    "\n",
    "# Plot data.\n",
    "plt.figure(figsize=(10,6))\n",
    "\n",
    "# Plot training data.\n",
    "plt.plot(y_train.index, pd.DataFrame(y_train), color = 'blue', label='Train')\n",
    "\n",
    "# Plot testing data.\n",
    "plt.plot(y_test.index, pd.DataFrame(y_test), color = 'orange', label = 'Test')\n",
    "\n",
    "# Plot predicted test values.\n",
    "plt.plot(y_test.index, preds, color = 'green', label = 'Preds')\n",
    "\n",
    "plt.title(label = f'National Average Weekly COVID-19 Deaths\\n with ARIMA({best_p}, {best_d}, {best_q}) Predictions', fontsize=16)\n",
    "plt.legend()\n",
    "\n",
    "plt.savefig('../assets/nat_weekly_avg_num_covid_deaths.png');"
   ]
  },
  {
   "cell_type": "markdown",
   "id": "federal-crystal",
   "metadata": {},
   "source": [
    "### 'Weekly Resident Confirmed COVID-19 Cases Per 1,000 Residents'"
   ]
  },
  {
   "cell_type": "code",
   "execution_count": 27,
   "id": "satellite-ready",
   "metadata": {
    "ExecuteTime": {
     "end_time": "2021-02-21T20:24:09.362398Z",
     "start_time": "2021-02-21T20:24:09.354871Z"
    }
   },
   "outputs": [],
   "source": [
    "national_weekly_confirmed_cases = national_avgs[['Weekly Resident Confirmed COVID-19 Cases Per 1,000 Residents']].copy()\n",
    "\n",
    "national_weekly_confirmed_cases['diff1'] = national_weekly_confirmed_cases['Weekly Resident Confirmed COVID-19 Cases Per 1,000 Residents'].diff()\n",
    "national_weekly_confirmed_cases['diff2'] = national_weekly_confirmed_cases['Weekly Resident Confirmed COVID-19 Cases Per 1,000 Residents'].diff().diff()\n",
    "national_weekly_confirmed_cases.dropna(inplace = True)"
   ]
  },
  {
   "cell_type": "code",
   "execution_count": 28,
   "id": "verified-clinton",
   "metadata": {
    "ExecuteTime": {
     "end_time": "2021-02-21T20:24:09.571185Z",
     "start_time": "2021-02-21T20:24:09.364236Z"
    }
   },
   "outputs": [
    {
     "data": {
      "image/png": "[encoded data removed]",
      "text/plain": [
       "<Figure size 432x288 with 1 Axes>"
      ]
     },
     "metadata": {
      "needs_background": "light"
     },
     "output_type": "display_data"
    }
   ],
   "source": [
    "national_weekly_confirmed_cases['Weekly Resident Confirmed COVID-19 Cases Per 1,000 Residents'].plot(label = 'orig');"
   ]
  },
  {
   "cell_type": "code",
   "execution_count": 29,
   "id": "explicit-plain",
   "metadata": {
    "ExecuteTime": {
     "end_time": "2021-02-21T20:24:09.761275Z",
     "start_time": "2021-02-21T20:24:09.573263Z"
    }
   },
   "outputs": [
    {
     "data": {
      "image/png": "[encoded data removed]",
      "text/plain": [
       "<Figure size 432x288 with 1 Axes>"
      ]
     },
     "metadata": {
      "needs_background": "light"
     },
     "output_type": "display_data"
    }
   ],
   "source": [
    "plot_acf(national_weekly_confirmed_cases['Weekly Resident Confirmed COVID-19 Cases Per 1,000 Residents']);"
   ]
  },
  {
   "cell_type": "code",
   "execution_count": 30,
   "id": "fixed-pollution",
   "metadata": {
    "ExecuteTime": {
     "end_time": "2021-02-21T20:24:09.893077Z",
     "start_time": "2021-02-21T20:24:09.763290Z"
    }
   },
   "outputs": [
    {
     "data": {
      "image/png": "[encoded data removed]",
      "text/plain": [
       "<Figure size 432x288 with 1 Axes>"
      ]
     },
     "metadata": {
      "needs_background": "light"
     },
     "output_type": "display_data"
    }
   ],
   "source": [
    "plot_pacf(national_weekly_confirmed_cases['Weekly Resident Confirmed COVID-19 Cases Per 1,000 Residents']);"
   ]
  },
  {
   "cell_type": "code",
   "execution_count": 31,
   "id": "sound-bulgaria",
   "metadata": {
    "ExecuteTime": {
     "end_time": "2021-02-21T20:24:23.005664Z",
     "start_time": "2021-02-21T20:24:09.895134Z"
    }
   },
   "outputs": [
    {
     "name": "stdout",
     "output_type": "stream",
     "text": [
      "best aic: -52.10164932791568\n",
      "best p: 0\n",
      "best d: 0\n",
      "best q: 0\n"
     ]
    }
   ],
   "source": [
    "# Starting AIC, p, and q.\n",
    "best_aic = 9 * (10**16)\n",
    "best_p = 0\n",
    "best_q = 0 \n",
    "best_d = 0\n",
    "# Use nested for loop to iterate over values of p and q.\n",
    "\n",
    "for p in range(5):\n",
    "    for q in range(5):\n",
    "        for d in range(3):\n",
    "        \n",
    "        # Insert try and except statements.\n",
    "            try:\n",
    "\n",
    "                # Instantiate ARIMA model.\n",
    "                arima = ARIMA(endog=y_train, order = (p, d, q))\n",
    "\n",
    "                # Fit ARIMA model.\n",
    "                model = arima.fit()\n",
    "\n",
    "                # Is my current model's AIC better than our best_aic?\n",
    "                if  abs(model.aic) < abs(best_aic):\n",
    "\n",
    "                    # If so, let's overwrite best_aic, best_p, and best_q.\n",
    "                    best_aic = model.aic\n",
    "                    best_p = p\n",
    "                    best_q = q\n",
    "                    best_d = d\n",
    "                    \n",
    "\n",
    "            except:\n",
    "                pass\n",
    "\n",
    "print('best aic:',best_aic)\n",
    "print('best p:', best_p)\n",
    "print('best d:', best_d)\n",
    "print('best q:', best_q)\n"
   ]
  },
  {
   "cell_type": "code",
   "execution_count": 32,
   "id": "academic-fundamentals",
   "metadata": {
    "ExecuteTime": {
     "end_time": "2021-02-21T20:24:23.520830Z",
     "start_time": "2021-02-21T20:24:23.008717Z"
    }
   },
   "outputs": [
    {
     "data": {
      "image/png": "[encoded data removed]",
      "text/plain": [
       "<Figure size 720x432 with 1 Axes>"
      ]
     },
     "metadata": {
      "needs_background": "light"
     },
     "output_type": "display_data"
    }
   ],
   "source": [
    "# Instantiate best model.\n",
    "nat_week_conf_cases_model = ARIMA(endog = y_train, order = (best_p,best_d,best_q))\n",
    "\n",
    "# Fit ARIMA model.\n",
    "arima = nat_week_conf_cases_model.fit()\n",
    "\n",
    "# Generate predictions based on test set.\n",
    "preds = arima.predict(start = y_test.index[0], end= y_test.index[-1])\n",
    "\n",
    "# Plot data.\n",
    "plt.figure(figsize=(10,6))\n",
    "\n",
    "# Plot training data.\n",
    "plt.plot(y_train.index, pd.DataFrame(y_train), color = 'blue', label='Train')\n",
    "\n",
    "# Plot testing data.\n",
    "plt.plot(y_test.index, pd.DataFrame(y_test), color = 'orange', label = 'Test')\n",
    "\n",
    "# Plot predicted test values.\n",
    "plt.plot(y_test.index, preds, color = 'green', label = 'Preds')\n",
    "\n",
    "plt.title(label = f'National Weekly Average Number of Confirmed Cases\\n with ARIMA({best_p}, {best_d}, {best_q}) Predictions', fontsize=16)\n",
    "plt.legend()\n",
    "\n",
    "plt.savefig('../assets/nat_weekly_avg_num_confirmed_cases.png');"
   ]
  },
  {
   "cell_type": "markdown",
   "id": "valued-feeling",
   "metadata": {},
   "source": [
    "### 'Weekly Resident COVID-19 Deaths Per 1,000 Residents'"
   ]
  },
  {
   "cell_type": "code",
   "execution_count": 33,
   "id": "aquatic-master",
   "metadata": {
    "ExecuteTime": {
     "end_time": "2021-02-21T20:24:23.540999Z",
     "start_time": "2021-02-21T20:24:23.526040Z"
    }
   },
   "outputs": [],
   "source": [
    "national_weekly_covid_deaths_per_thous = national_avgs[['Weekly Resident COVID-19 Deaths Per 1,000 Residents']].copy()\n",
    "\n",
    "national_weekly_covid_deaths_per_thous['diff1'] = national_weekly_covid_deaths_per_thous['Weekly Resident COVID-19 Deaths Per 1,000 Residents'].diff()\n",
    "national_weekly_covid_deaths_per_thous['diff2'] = national_weekly_covid_deaths_per_thous['Weekly Resident COVID-19 Deaths Per 1,000 Residents'].diff().diff()\n",
    "national_weekly_covid_deaths_per_thous.dropna(inplace = True)"
   ]
  },
  {
   "cell_type": "code",
   "execution_count": 34,
   "id": "blond-madonna",
   "metadata": {
    "ExecuteTime": {
     "end_time": "2021-02-21T20:24:23.838006Z",
     "start_time": "2021-02-21T20:24:23.544409Z"
    }
   },
   "outputs": [
    {
     "data": {
      "image/png": "[encoded data removed]",
      "text/plain": [
       "<Figure size 432x288 with 1 Axes>"
      ]
     },
     "metadata": {
      "needs_background": "light"
     },
     "output_type": "display_data"
    }
   ],
   "source": [
    "national_weekly_covid_deaths_per_thous['Weekly Resident COVID-19 Deaths Per 1,000 Residents'].plot(label = 'orig');"
   ]
  },
  {
   "cell_type": "code",
   "execution_count": 35,
   "id": "surprised-maldives",
   "metadata": {
    "ExecuteTime": {
     "end_time": "2021-02-21T20:24:24.049261Z",
     "start_time": "2021-02-21T20:24:23.840587Z"
    }
   },
   "outputs": [
    {
     "data": {
      "image/png": "[encoded data removed]",
      "text/plain": [
       "<Figure size 432x288 with 1 Axes>"
      ]
     },
     "metadata": {
      "needs_background": "light"
     },
     "output_type": "display_data"
    }
   ],
   "source": [
    "plot_acf(national_weekly_covid_deaths_per_thous['Weekly Resident COVID-19 Deaths Per 1,000 Residents']);"
   ]
  },
  {
   "cell_type": "code",
   "execution_count": 36,
   "id": "equipped-competition",
   "metadata": {
    "ExecuteTime": {
     "end_time": "2021-02-21T20:24:24.295046Z",
     "start_time": "2021-02-21T20:24:24.052253Z"
    }
   },
   "outputs": [
    {
     "data": {
      "image/png": "[encoded data removed]",
      "text/plain": [
       "<Figure size 432x288 with 1 Axes>"
      ]
     },
     "metadata": {
      "needs_background": "light"
     },
     "output_type": "display_data"
    }
   ],
   "source": [
    "plot_pacf(national_weekly_covid_deaths_per_thous['Weekly Resident COVID-19 Deaths Per 1,000 Residents']);"
   ]
  },
  {
   "cell_type": "code",
   "execution_count": 37,
   "id": "ranking-calgary",
   "metadata": {
    "ExecuteTime": {
     "end_time": "2021-02-21T20:24:24.337689Z",
     "start_time": "2021-02-21T20:24:24.299678Z"
    }
   },
   "outputs": [
    {
     "name": "stdout",
     "output_type": "stream",
     "text": [
      "best_col: diff2\n",
      "best_p: 1.8036311179558787e-06\n"
     ]
    },
    {
     "data": {
      "text/html": [
       "<div>\n",
       "<style scoped>\n",
       "    .dataframe tbody tr th:only-of-type {\n",
       "        vertical-align: middle;\n",
       "    }\n",
       "\n",
       "    .dataframe tbody tr th {\n",
       "        vertical-align: top;\n",
       "    }\n",
       "\n",
       "    .dataframe thead th {\n",
       "        text-align: right;\n",
       "    }\n",
       "</style>\n",
       "<table border=\"1\" class=\"dataframe\">\n",
       "  <thead>\n",
       "    <tr style=\"text-align: right;\">\n",
       "      <th></th>\n",
       "      <th>column</th>\n",
       "      <th>Test Statistic</th>\n",
       "      <th>p-value</th>\n",
       "      <th>1 - p-value</th>\n",
       "    </tr>\n",
       "  </thead>\n",
       "  <tbody>\n",
       "    <tr>\n",
       "      <th>0</th>\n",
       "      <td>Weekly Resident COVID-19 Deaths Per 1,000 Resi...</td>\n",
       "      <td>-3.986999</td>\n",
       "      <td>0.001480</td>\n",
       "      <td>0.998520</td>\n",
       "    </tr>\n",
       "    <tr>\n",
       "      <th>1</th>\n",
       "      <td>diff1</td>\n",
       "      <td>-2.174524</td>\n",
       "      <td>0.215621</td>\n",
       "      <td>0.784379</td>\n",
       "    </tr>\n",
       "    <tr>\n",
       "      <th>2</th>\n",
       "      <td>diff2</td>\n",
       "      <td>-5.529194</td>\n",
       "      <td>0.000002</td>\n",
       "      <td>0.999998</td>\n",
       "    </tr>\n",
       "  </tbody>\n",
       "</table>\n",
       "</div>"
      ],
      "text/plain": [
       "                                              column  Test Statistic  \\\n",
       "0  Weekly Resident COVID-19 Deaths Per 1,000 Resi...       -3.986999   \n",
       "1                                              diff1       -2.174524   \n",
       "2                                              diff2       -5.529194   \n",
       "\n",
       "    p-value  1 - p-value  \n",
       "0  0.001480     0.998520  \n",
       "1  0.215621     0.784379  \n",
       "2  0.000002     0.999998  "
      ]
     },
     "execution_count": 37,
     "metadata": {},
     "output_type": "execute_result"
    }
   ],
   "source": [
    "interpret_dftest(national_weekly_covid_deaths_per_thous)"
   ]
  },
  {
   "cell_type": "code",
   "execution_count": 38,
   "id": "written-district",
   "metadata": {
    "ExecuteTime": {
     "end_time": "2021-02-21T20:24:24.343358Z",
     "start_time": "2021-02-21T20:24:24.339895Z"
    }
   },
   "outputs": [],
   "source": [
    "y_train, y_test = train_test_split(national_weekly_covid_deaths_per_thous['Weekly Resident COVID-19 Deaths Per 1,000 Residents'],shuffle=False, test_size = .1)"
   ]
  },
  {
   "cell_type": "code",
   "execution_count": 39,
   "id": "attempted-retro",
   "metadata": {
    "ExecuteTime": {
     "end_time": "2021-02-21T20:24:38.391497Z",
     "start_time": "2021-02-21T20:24:24.345702Z"
    }
   },
   "outputs": [
    {
     "name": "stdout",
     "output_type": "stream",
     "text": [
      "best aic: 0.6898255447452684\n",
      "best p: 1\n",
      "best d: 0\n",
      "best q: 3\n"
     ]
    }
   ],
   "source": [
    "# Starting AIC, p, and q.\n",
    "best_aic = 9 * (10**16)\n",
    "best_p = 0\n",
    "best_q = 0 \n",
    "best_d = 0\n",
    "# Use nested for loop to iterate over values of p and q.\n",
    "\n",
    "for p in range(5):\n",
    "    for q in range(5):\n",
    "        for d in range(3):\n",
    "        \n",
    "        # Insert try and except statements.\n",
    "            try:\n",
    "                # Instantiate ARIMA model.\n",
    "                arima = ARIMA(endog=y_train, order = (p, d, q))\n",
    "\n",
    "                # Fit ARIMA model.\n",
    "                model = arima.fit()\n",
    "\n",
    "                # Is my current model's AIC better than our best_aic?\n",
    "                if 0<= model.aic < best_aic:\n",
    "\n",
    "                    # If so, let's overwrite best_aic, best_p, and best_q.\n",
    "                    best_aic = model.aic\n",
    "                    best_p = p\n",
    "                    best_q = q\n",
    "                    best_d = d\n",
    "                    \n",
    "\n",
    "            except:\n",
    "                pass\n",
    "print('best aic:',best_aic)\n",
    "print('best p:', best_p)\n",
    "print('best d:', best_d)\n",
    "print('best q:', best_q)"
   ]
  },
  {
   "cell_type": "code",
   "execution_count": 40,
   "id": "psychological-speaker",
   "metadata": {
    "ExecuteTime": {
     "end_time": "2021-02-21T20:24:38.984679Z",
     "start_time": "2021-02-21T20:24:38.394544Z"
    },
    "scrolled": true
   },
   "outputs": [
    {
     "data": {
      "image/png": "[encoded data removed]",
      "text/plain": [
       "<Figure size 720x432 with 1 Axes>"
      ]
     },
     "metadata": {
      "needs_background": "light"
     },
     "output_type": "display_data"
    }
   ],
   "source": [
    "# Instantiate best model.\n",
    "nat_weekly_deaths_per_thous_model = ARIMA(endog = y_train, order = (best_p,best_d,best_q))\n",
    "\n",
    "# Fit ARIMA model.\n",
    "arima = nat_weekly_deaths_per_thous_model.fit()\n",
    "\n",
    "# Generate predictions based on test set.\n",
    "preds = arima.predict(start = y_test.index[0], end= y_test.index[-1])\n",
    "\n",
    "# Plot data.\n",
    "plt.figure(figsize=(10,6))\n",
    "\n",
    "# Plot training data.\n",
    "plt.plot(y_train.index, pd.DataFrame(y_train), color = 'blue', label='Train')\n",
    "\n",
    "# Plot testing data.\n",
    "plt.plot(y_test.index, pd.DataFrame(y_test), color = 'orange', label = 'Test')\n",
    "\n",
    "# Plot predicted test values.\n",
    "plt.plot(y_test.index, preds, color = 'green', label = 'Preds')\n",
    "\n",
    "plt.title(label = f'National Average of Weekly COVID-19 Deaths per 1,000\\n with ARIMA({best_p}, {best_d}, {best_q}) Predictions', fontsize=16)\n",
    "plt.legend()\n",
    "\n",
    "plt.savefig('../assets/nat_weekly_avg_covid_deaths_per_1000.png');"
   ]
  }
 ],
 "metadata": {
  "kernelspec": {
   "display_name": "Python 3",
   "language": "python",
   "name": "python3"
  },
  "language_info": {
   "codemirror_mode": {
    "name": "ipython",
    "version": 3
   },
   "file_extension": ".py",
   "mimetype": "text/x-python",
   "name": "python",
   "nbconvert_exporter": "python",
   "pygments_lexer": "ipython3",
   "version": "3.8.5"
  },
  "toc": {
   "base_numbering": 1,
   "nav_menu": {
    "height": "286px",
    "width": "305px"
   },
   "number_sections": true,
   "sideBar": true,
   "skip_h1_title": false,
   "title_cell": "Table of Contents",
   "title_sidebar": "Contents",
   "toc_cell": false,
   "toc_position": {},
   "toc_section_display": true,
   "toc_window_display": false
  },
  "varInspector": {
   "cols": {
    "lenName": 16,
    "lenType": 16,
    "lenVar": 40
   },
   "kernels_config": {
    "python": {
     "delete_cmd_postfix": "",
     "delete_cmd_prefix": "del ",
     "library": "var_list.py",
     "varRefreshCmd": "print(var_dic_list())"
    },
    "r": {
     "delete_cmd_postfix": ") ",
     "delete_cmd_prefix": "rm(",
     "library": "var_list.r",
     "varRefreshCmd": "cat(var_dic_list()) "
    }
   },
   "types_to_exclude": [
    "module",
    "function",
    "builtin_function_or_method",
    "instance",
    "_Feature"
   ],
   "window_display": false
  }
 },
 "nbformat": 4,
 "nbformat_minor": 5
}
