{
 "cells": [
  {
   "cell_type": "markdown",
   "id": "electoral-discussion",
   "metadata": {},
   "source": [
    "# California: ARIMA Time-Series Modeling Notebook "
   ]
  },
  {
   "cell_type": "markdown",
   "id": "occupational-anger",
   "metadata": {},
   "source": [
    "# Imports"
   ]
  },
  {
   "cell_type": "code",
   "execution_count": 1,
   "id": "southern-applicant",
   "metadata": {
    "ExecuteTime": {
     "end_time": "2021-02-21T20:20:50.513049Z",
     "start_time": "2021-02-21T20:20:48.459010Z"
    }
   },
   "outputs": [],
   "source": [
    "import pandas as pd\n",
    "import numpy as np\n",
    "import matplotlib.pyplot as plt\n",
    "import seaborn as sns\n",
    "import os\n",
    "from collections import Counter\n",
    "\n",
    "from sklearn.model_selection import train_test_split\n",
    "\n",
    "from statsmodels.tsa.arima.model import ARIMA\n",
    "\n",
    "from statsmodels.graphics.tsaplots import plot_acf, plot_pacf\n",
    "from statsmodels.tsa.stattools import adfuller\n",
    "\n",
    "import warnings\n",
    "warnings.filterwarnings('ignore')"
   ]
  },
  {
   "cell_type": "markdown",
   "id": "million-switzerland",
   "metadata": {},
   "source": [
    "# Read in data"
   ]
  },
  {
   "cell_type": "code",
   "execution_count": 2,
   "id": "noted-parcel",
   "metadata": {
    "ExecuteTime": {
     "end_time": "2021-02-21T20:20:50.517620Z",
     "start_time": "2021-02-21T20:20:50.515311Z"
    }
   },
   "outputs": [],
   "source": [
    "# df = pd.read_csv('../../COVID-19_Nursing_Home_Dataset.csv')"
   ]
  },
  {
   "cell_type": "markdown",
   "id": "challenging-contract",
   "metadata": {},
   "source": [
    "## Split data"
   ]
  },
  {
   "cell_type": "markdown",
   "id": "thermal-lighting",
   "metadata": {},
   "source": [
    "Due to size of data file, split data by week submitted to get smaller files that are available to upload. \n",
    "> This is commented out so that it only runs when needed."
   ]
  },
  {
   "cell_type": "code",
   "execution_count": 3,
   "id": "dental-orbit",
   "metadata": {
    "ExecuteTime": {
     "end_time": "2021-02-21T20:20:50.521812Z",
     "start_time": "2021-02-21T20:20:50.520077Z"
    }
   },
   "outputs": [],
   "source": [
    "# def split_data(df,dates):\n",
    "#     for date in dates:    \n",
    "#         frame = df[df['Week Ending'] == date]\n",
    "#         reformatted_date = date.replace('/', '-')\n",
    "#         frame.to_csv(f'../data/{reformatted_date}-data.csv', index = False)\n",
    "\n",
    "# dates = df['Week Ending'].unique()\n",
    "\n",
    "# split_data(df, dates)"
   ]
  },
  {
   "cell_type": "markdown",
   "id": "polished-platinum",
   "metadata": {},
   "source": [
    "## Concatenating files"
   ]
  },
  {
   "cell_type": "markdown",
   "id": "italian-emphasis",
   "metadata": {},
   "source": [
    "Create a function that can concatenate the each of the csv files into a single data frame."
   ]
  },
  {
   "cell_type": "code",
   "execution_count": 4,
   "id": "exclusive-mystery",
   "metadata": {
    "ExecuteTime": {
     "end_time": "2021-02-21T20:21:00.529516Z",
     "start_time": "2021-02-21T20:20:50.523505Z"
    }
   },
   "outputs": [],
   "source": [
    "df_lst = []\n",
    "for f in os.listdir('../data'):\n",
    "    temp = pd.read_csv('../data/' + f)\n",
    "    df_lst.append(temp)\n",
    "df = pd.concat(df_lst, ignore_index=True)"
   ]
  },
  {
   "cell_type": "code",
   "execution_count": 5,
   "id": "selective-planning",
   "metadata": {
    "ExecuteTime": {
     "end_time": "2021-02-21T20:21:03.645534Z",
     "start_time": "2021-02-21T20:21:00.532069Z"
    }
   },
   "outputs": [
    {
     "name": "stdout",
     "output_type": "stream",
     "text": [
      "num weeks: 38\n"
     ]
    }
   ],
   "source": [
    "# determining the number of weeks for which data is available\n",
    "week_num = len(df['Week Ending'].unique())\n",
    "print('num weeks:',week_num)\n",
    "\n",
    "# Dropping rows where no submitted data\n",
    "df = df[df['Submitted Data'] == 'Y']\n",
    "\n",
    "# dropping rows that didn't pass quality assurance check\n",
    "df = df[df['Passed Quality Assurance Check'] == 'Y']\n"
   ]
  },
  {
   "cell_type": "code",
   "execution_count": 6,
   "id": "ordered-mississippi",
   "metadata": {
    "ExecuteTime": {
     "end_time": "2021-02-21T20:21:03.761468Z",
     "start_time": "2021-02-21T20:21:03.650398Z"
    }
   },
   "outputs": [
    {
     "name": "stdout",
     "output_type": "stream",
     "text": [
      "original: 16896\n",
      "to be dropped: 5914\n",
      "to keep: 10982\n"
     ]
    }
   ],
   "source": [
    "# removing nursing homes who have submissions for each week\n",
    "\n",
    "submission_counts = Counter(df['Federal Provider Number'])\n",
    "keys = submission_counts.keys()\n",
    "to_drop = []\n",
    "for key in keys:\n",
    "    if submission_counts[key] < week_num:\n",
    "        to_drop.append(key)\n",
    "to_keep = keys-to_drop\n",
    "print('original:',len(keys))\n",
    "print('to be dropped:',len(to_drop))\n",
    "print('to keep:',len(to_keep))"
   ]
  },
  {
   "cell_type": "code",
   "execution_count": 7,
   "id": "graphic-cooling",
   "metadata": {
    "ExecuteTime": {
     "end_time": "2021-02-21T20:21:04.428930Z",
     "start_time": "2021-02-21T20:21:03.764400Z"
    }
   },
   "outputs": [],
   "source": [
    "# drop rows for nursing homes that don't meet the criteria fewer entries\n",
    "df = df[df['Federal Provider Number'].isin(to_keep)]"
   ]
  },
  {
   "cell_type": "code",
   "execution_count": 8,
   "id": "regional-crawford",
   "metadata": {
    "ExecuteTime": {
     "end_time": "2021-02-21T20:21:04.811347Z",
     "start_time": "2021-02-21T20:21:04.430982Z"
    }
   },
   "outputs": [],
   "source": [
    "# change the week column to datetime format\n",
    "df['Week Ending'] = pd.to_datetime(df['Week Ending'])"
   ]
  },
  {
   "cell_type": "markdown",
   "id": "level-spokesman",
   "metadata": {},
   "source": [
    "# Modeling"
   ]
  },
  {
   "cell_type": "code",
   "execution_count": 9,
   "id": "dominant-sunglasses",
   "metadata": {
    "ExecuteTime": {
     "end_time": "2021-02-21T20:21:04.819778Z",
     "start_time": "2021-02-21T20:21:04.813127Z"
    }
   },
   "outputs": [],
   "source": [
    "# function to get the p-values for adfuller test for each of the columns in the dataframe \n",
    "\n",
    "def interpret_dftest(df):\n",
    "    '''\n",
    "    Returns p-value for the Dickey-Fuller test for each feature in DataFrame.\n",
    "    ----\n",
    "    Parameters\n",
    "        Type: DataFrame\n",
    "        Description: Time series features\n",
    "    ----\n",
    "    Output\n",
    "        Type: DataFrame\n",
    "        Description: DataFrame of p-values for time-series data\n",
    "    '''\n",
    "    results = []\n",
    "    best_col = None\n",
    "    best_p = 2\n",
    "    \n",
    "    for col in df.columns:\n",
    "        result = {}\n",
    "        result['column'] = col\n",
    "        dftest = adfuller(df[col])\n",
    "        result['Test Statistic'] = dftest[0]\n",
    "        result['p-value'] = dftest[1]\n",
    "        result['1 - p-value'] = 1-dftest[1]\n",
    "        results.append(result)\n",
    "        if dftest[1] < .9:\n",
    "            if dftest[1] < best_p:\n",
    "                best_p = dftest[1]\n",
    "                best_col = col\n",
    "        elif dftest[1] >= .9:\n",
    "            if (1-dftest[1]) < best_p:\n",
    "                best_p = (1-dftest[1])\n",
    "                best_col = col\n",
    "    \n",
    "    print('best_col:', best_col)\n",
    "    print('best_p:', best_p)\n",
    "    return pd.DataFrame(results)"
   ]
  },
  {
   "cell_type": "markdown",
   "id": "supreme-leadership",
   "metadata": {},
   "source": [
    "## CA"
   ]
  },
  {
   "cell_type": "code",
   "execution_count": 10,
   "id": "crude-preparation",
   "metadata": {
    "ExecuteTime": {
     "end_time": "2021-02-21T20:21:04.900799Z",
     "start_time": "2021-02-21T20:21:04.821662Z"
    }
   },
   "outputs": [],
   "source": [
    "ca = df[df['Provider State']=='CA']\n",
    "\n",
    "ca = ca[[\n",
    "    'Week Ending', 'Total Number of Occupied Beds',\n",
    "    'Residents Weekly COVID-19 Deaths',\n",
    "    'Weekly Resident Confirmed COVID-19 Cases Per 1,000 Residents',\n",
    "    'Weekly Resident COVID-19 Deaths Per 1,000 Residents'\n",
    "]]\n",
    "ca_avgs = ca.groupby(by='Week Ending').mean()"
   ]
  },
  {
   "cell_type": "markdown",
   "id": "right-testing",
   "metadata": {},
   "source": [
    "### 'Total Number of Occupied Beds'"
   ]
  },
  {
   "cell_type": "code",
   "execution_count": 11,
   "id": "random-straight",
   "metadata": {
    "ExecuteTime": {
     "end_time": "2021-02-21T20:21:04.927821Z",
     "start_time": "2021-02-21T20:21:04.902716Z"
    }
   },
   "outputs": [],
   "source": [
    "ca_occupied = ca_avgs[['Total Number of Occupied Beds']].copy()\n",
    "ca_occupied['diff1'] = ca_occupied['Total Number of Occupied Beds'].diff()\n",
    "ca_occupied['diff2'] = ca_occupied['Total Number of Occupied Beds'].diff().diff()\n",
    "ca_occupied.dropna(inplace = True)"
   ]
  },
  {
   "cell_type": "code",
   "execution_count": 12,
   "id": "latin-backing",
   "metadata": {
    "ExecuteTime": {
     "end_time": "2021-02-21T20:21:05.202193Z",
     "start_time": "2021-02-21T20:21:04.929647Z"
    },
    "scrolled": true
   },
   "outputs": [
    {
     "data": {
      "image/png": "[encoded data removed]",
      "text/plain": [
       "<Figure size 432x288 with 1 Axes>"
      ]
     },
     "metadata": {
      "needs_background": "light"
     },
     "output_type": "display_data"
    }
   ],
   "source": [
    "ca_occupied['Total Number of Occupied Beds'].plot(label = 'orig');"
   ]
  },
  {
   "cell_type": "code",
   "execution_count": 13,
   "id": "medium-circular",
   "metadata": {
    "ExecuteTime": {
     "end_time": "2021-02-21T20:21:05.355788Z",
     "start_time": "2021-02-21T20:21:05.204384Z"
    }
   },
   "outputs": [
    {
     "data": {
      "image/png": "[encoded data removed]",
      "text/plain": [
       "<Figure size 432x288 with 1 Axes>"
      ]
     },
     "metadata": {
      "needs_background": "light"
     },
     "output_type": "display_data"
    }
   ],
   "source": [
    "plot_acf(ca_occupied['Total Number of Occupied Beds']);"
   ]
  },
  {
   "cell_type": "code",
   "execution_count": 14,
   "id": "polish-hayes",
   "metadata": {
    "ExecuteTime": {
     "end_time": "2021-02-21T20:21:05.499337Z",
     "start_time": "2021-02-21T20:21:05.357740Z"
    },
    "scrolled": true
   },
   "outputs": [
    {
     "data": {
      "image/png": "[encoded data removed]",
      "text/plain": [
       "<Figure size 432x288 with 1 Axes>"
      ]
     },
     "metadata": {
      "needs_background": "light"
     },
     "output_type": "display_data"
    }
   ],
   "source": [
    "plot_pacf(ca_occupied['Total Number of Occupied Beds']);"
   ]
  },
  {
   "cell_type": "code",
   "execution_count": 15,
   "id": "sharing-question",
   "metadata": {
    "ExecuteTime": {
     "end_time": "2021-02-21T20:21:05.533768Z",
     "start_time": "2021-02-21T20:21:05.501623Z"
    }
   },
   "outputs": [
    {
     "name": "stdout",
     "output_type": "stream",
     "text": [
      "best_col: diff2\n",
      "best_p: 3.5415920390257884e-12\n"
     ]
    },
    {
     "data": {
      "text/html": [
       "<div>\n",
       "<style scoped>\n",
       "    .dataframe tbody tr th:only-of-type {\n",
       "        vertical-align: middle;\n",
       "    }\n",
       "\n",
       "    .dataframe tbody tr th {\n",
       "        vertical-align: top;\n",
       "    }\n",
       "\n",
       "    .dataframe thead th {\n",
       "        text-align: right;\n",
       "    }\n",
       "</style>\n",
       "<table border=\"1\" class=\"dataframe\">\n",
       "  <thead>\n",
       "    <tr style=\"text-align: right;\">\n",
       "      <th></th>\n",
       "      <th>column</th>\n",
       "      <th>Test Statistic</th>\n",
       "      <th>p-value</th>\n",
       "      <th>1 - p-value</th>\n",
       "    </tr>\n",
       "  </thead>\n",
       "  <tbody>\n",
       "    <tr>\n",
       "      <th>0</th>\n",
       "      <td>Total Number of Occupied Beds</td>\n",
       "      <td>-1.191652</td>\n",
       "      <td>6.771766e-01</td>\n",
       "      <td>0.322823</td>\n",
       "    </tr>\n",
       "    <tr>\n",
       "      <th>1</th>\n",
       "      <td>diff1</td>\n",
       "      <td>-3.438465</td>\n",
       "      <td>9.715425e-03</td>\n",
       "      <td>0.990285</td>\n",
       "    </tr>\n",
       "    <tr>\n",
       "      <th>2</th>\n",
       "      <td>diff2</td>\n",
       "      <td>-7.929632</td>\n",
       "      <td>3.541592e-12</td>\n",
       "      <td>1.000000</td>\n",
       "    </tr>\n",
       "  </tbody>\n",
       "</table>\n",
       "</div>"
      ],
      "text/plain": [
       "                          column  Test Statistic       p-value  1 - p-value\n",
       "0  Total Number of Occupied Beds       -1.191652  6.771766e-01     0.322823\n",
       "1                          diff1       -3.438465  9.715425e-03     0.990285\n",
       "2                          diff2       -7.929632  3.541592e-12     1.000000"
      ]
     },
     "execution_count": 15,
     "metadata": {},
     "output_type": "execute_result"
    }
   ],
   "source": [
    "interpret_dftest(ca_occupied)"
   ]
  },
  {
   "cell_type": "code",
   "execution_count": 16,
   "id": "infrared-healing",
   "metadata": {
    "ExecuteTime": {
     "end_time": "2021-02-21T20:21:05.669625Z",
     "start_time": "2021-02-21T20:21:05.535773Z"
    }
   },
   "outputs": [],
   "source": [
    "y_train, y_test = train_test_split(ca_occupied['Total Number of Occupied Beds'],shuffle=False, test_size = .1)"
   ]
  },
  {
   "cell_type": "markdown",
   "id": "deluxe-funds",
   "metadata": {},
   "source": [
    "*Note: The code in the two cells directly below, as well as all other iterations of it in this notebook, were adapted from the [7.07-lesson-arima-modeling repo](https://git.generalassemb.ly/DSIR-20201214-E/lesson-ARIMA), originally written by Matt Brems, Joseph Nelson and Justin Pounders.*"
   ]
  },
  {
   "cell_type": "code",
   "execution_count": 17,
   "id": "outer-listening",
   "metadata": {
    "ExecuteTime": {
     "end_time": "2021-02-21T20:21:14.149500Z",
     "start_time": "2021-02-21T20:21:05.671599Z"
    }
   },
   "outputs": [
    {
     "name": "stdout",
     "output_type": "stream",
     "text": [
      "best aic: 22.29160858299634\n",
      "best p: 2\n",
      "best d: 2\n",
      "best q: 0\n"
     ]
    }
   ],
   "source": [
    "# Starting AIC, p, and q.\n",
    "best_aic = 9 * (10**16)\n",
    "best_p = 0\n",
    "best_q = 0 \n",
    "best_d = 0\n",
    "\n",
    "# Use nested for loop to iterate over values of p and q.\n",
    "\n",
    "for p in range(5):\n",
    "    for q in range(5):\n",
    "        for d in range(3):\n",
    "        \n",
    "        # Insert try and except statements.\n",
    "            try:\n",
    "\n",
    "                # Instantiate ARIMA model.\n",
    "                arima = ARIMA(endog=y_train, order = (p, d, q))\n",
    "\n",
    "                # Fit ARIMA model.\n",
    "                model = arima.fit()\n",
    "\n",
    "                # Is my current model's AIC better than our best_aic?\n",
    "                if 0<= model.aic < best_aic:\n",
    "\n",
    "                    # If so, let's overwrite best_aic, best_p, and best_q.\n",
    "                    best_aic = model.aic\n",
    "                    best_p = p\n",
    "                    best_q = q\n",
    "                    best_d = d\n",
    "                    \n",
    "            except:\n",
    "                pass\n",
    "\n",
    "print('best aic:',best_aic)\n",
    "print('best p:', best_p)\n",
    "print('best d:', best_d)\n",
    "print('best q:', best_q)"
   ]
  },
  {
   "cell_type": "code",
   "execution_count": 18,
   "id": "cleared-interview",
   "metadata": {
    "ExecuteTime": {
     "end_time": "2021-02-21T20:21:14.502004Z",
     "start_time": "2021-02-21T20:21:14.157596Z"
    }
   },
   "outputs": [
    {
     "data": {
      "image/png": "[encoded data removed]",
      "text/plain": [
       "<Figure size 720x432 with 1 Axes>"
      ]
     },
     "metadata": {
      "needs_background": "light"
     },
     "output_type": "display_data"
    }
   ],
   "source": [
    "# Instantiate best model.\n",
    "ca_occ_model = ARIMA(endog=y_train, order=(best_p, best_d, best_q))\n",
    "\n",
    "# Fit ARIMA model.\n",
    "arima = ca_occ_model.fit()\n",
    "\n",
    "# Generate predictions based on test set.\n",
    "preds = arima.predict(start=y_test.index[0], end=y_test.index[-1])\n",
    "\n",
    "# Plot data.\n",
    "plt.figure(figsize=(10, 6))\n",
    "\n",
    "# Plot training data.\n",
    "plt.plot(y_train.index, pd.DataFrame(y_train), color='blue', label='Train')\n",
    "\n",
    "# Plot testing data.\n",
    "plt.plot(y_test.index, pd.DataFrame(y_test), color='orange', label='Test')\n",
    "\n",
    "# Plot predicted test values.\n",
    "plt.plot(y_test.index, preds, color='green', label='Preds')\n",
    "\n",
    "plt.title(\n",
    "    label=f'California Average Number of Occupied Beds\\n with ARIMA({best_p}, {best_d}, {best_q}) Predictions',\n",
    "    fontsize=16)\n",
    "plt.legend()\n",
    "\n",
    "plt.savefig('../assets/ca_avg_num_occupied_beds.png');"
   ]
  },
  {
   "cell_type": "markdown",
   "id": "contrary-provincial",
   "metadata": {},
   "source": [
    "### 'Residents Weekly COVID-19 Deaths'"
   ]
  },
  {
   "cell_type": "code",
   "execution_count": 19,
   "id": "through-modeling",
   "metadata": {
    "ExecuteTime": {
     "end_time": "2021-02-21T20:21:14.514288Z",
     "start_time": "2021-02-21T20:21:14.506608Z"
    }
   },
   "outputs": [],
   "source": [
    "ca_weekly_deaths = ca_avgs[['Residents Weekly COVID-19 Deaths']].copy()\n",
    "\n",
    "ca_weekly_deaths['diff1'] = ca_weekly_deaths['Residents Weekly COVID-19 Deaths'].diff()\n",
    "ca_weekly_deaths['diff2'] = ca_weekly_deaths['Residents Weekly COVID-19 Deaths'].diff().diff()\n",
    "ca_weekly_deaths.dropna(inplace = True)"
   ]
  },
  {
   "cell_type": "code",
   "execution_count": 20,
   "id": "stupid-oxygen",
   "metadata": {
    "ExecuteTime": {
     "end_time": "2021-02-21T20:21:14.717584Z",
     "start_time": "2021-02-21T20:21:14.516208Z"
    }
   },
   "outputs": [
    {
     "data": {
      "image/png": "[encoded data removed]",
      "text/plain": [
       "<Figure size 432x288 with 1 Axes>"
      ]
     },
     "metadata": {
      "needs_background": "light"
     },
     "output_type": "display_data"
    }
   ],
   "source": [
    "ca_weekly_deaths['Residents Weekly COVID-19 Deaths'].plot(label = 'orig');"
   ]
  },
  {
   "cell_type": "code",
   "execution_count": 21,
   "id": "champion-mobility",
   "metadata": {
    "ExecuteTime": {
     "end_time": "2021-02-21T20:21:14.865847Z",
     "start_time": "2021-02-21T20:21:14.719547Z"
    }
   },
   "outputs": [
    {
     "data": {
      "image/png": "[encoded data removed]",
      "text/plain": [
       "<Figure size 432x288 with 1 Axes>"
      ]
     },
     "metadata": {
      "needs_background": "light"
     },
     "output_type": "display_data"
    }
   ],
   "source": [
    "plot_acf(ca_weekly_deaths['Residents Weekly COVID-19 Deaths']);"
   ]
  },
  {
   "cell_type": "code",
   "execution_count": 22,
   "id": "recognized-adrian",
   "metadata": {
    "ExecuteTime": {
     "end_time": "2021-02-21T20:21:15.000329Z",
     "start_time": "2021-02-21T20:21:14.867985Z"
    }
   },
   "outputs": [
    {
     "data": {
      "image/png": "[encoded data removed]",
      "text/plain": [
       "<Figure size 432x288 with 1 Axes>"
      ]
     },
     "metadata": {
      "needs_background": "light"
     },
     "output_type": "display_data"
    }
   ],
   "source": [
    "plot_pacf(ca_weekly_deaths['Residents Weekly COVID-19 Deaths']);"
   ]
  },
  {
   "cell_type": "code",
   "execution_count": 23,
   "id": "invisible-slave",
   "metadata": {
    "ExecuteTime": {
     "end_time": "2021-02-21T20:21:15.029168Z",
     "start_time": "2021-02-21T20:21:15.002634Z"
    }
   },
   "outputs": [
    {
     "name": "stdout",
     "output_type": "stream",
     "text": [
      "best_col: diff2\n",
      "best_p: 4.094946591950674e-11\n"
     ]
    },
    {
     "data": {
      "text/html": [
       "<div>\n",
       "<style scoped>\n",
       "    .dataframe tbody tr th:only-of-type {\n",
       "        vertical-align: middle;\n",
       "    }\n",
       "\n",
       "    .dataframe tbody tr th {\n",
       "        vertical-align: top;\n",
       "    }\n",
       "\n",
       "    .dataframe thead th {\n",
       "        text-align: right;\n",
       "    }\n",
       "</style>\n",
       "<table border=\"1\" class=\"dataframe\">\n",
       "  <thead>\n",
       "    <tr style=\"text-align: right;\">\n",
       "      <th></th>\n",
       "      <th>column</th>\n",
       "      <th>Test Statistic</th>\n",
       "      <th>p-value</th>\n",
       "      <th>1 - p-value</th>\n",
       "    </tr>\n",
       "  </thead>\n",
       "  <tbody>\n",
       "    <tr>\n",
       "      <th>0</th>\n",
       "      <td>Residents Weekly COVID-19 Deaths</td>\n",
       "      <td>-4.165176</td>\n",
       "      <td>7.542719e-04</td>\n",
       "      <td>0.999246</td>\n",
       "    </tr>\n",
       "    <tr>\n",
       "      <th>1</th>\n",
       "      <td>diff1</td>\n",
       "      <td>-3.173818</td>\n",
       "      <td>2.155112e-02</td>\n",
       "      <td>0.978449</td>\n",
       "    </tr>\n",
       "    <tr>\n",
       "      <th>2</th>\n",
       "      <td>diff2</td>\n",
       "      <td>-7.507616</td>\n",
       "      <td>4.094947e-11</td>\n",
       "      <td>1.000000</td>\n",
       "    </tr>\n",
       "  </tbody>\n",
       "</table>\n",
       "</div>"
      ],
      "text/plain": [
       "                             column  Test Statistic       p-value  1 - p-value\n",
       "0  Residents Weekly COVID-19 Deaths       -4.165176  7.542719e-04     0.999246\n",
       "1                             diff1       -3.173818  2.155112e-02     0.978449\n",
       "2                             diff2       -7.507616  4.094947e-11     1.000000"
      ]
     },
     "execution_count": 23,
     "metadata": {},
     "output_type": "execute_result"
    }
   ],
   "source": [
    "interpret_dftest(ca_weekly_deaths)"
   ]
  },
  {
   "cell_type": "code",
   "execution_count": 24,
   "id": "compliant-jaguar",
   "metadata": {
    "ExecuteTime": {
     "end_time": "2021-02-21T20:21:15.034336Z",
     "start_time": "2021-02-21T20:21:15.031416Z"
    }
   },
   "outputs": [],
   "source": [
    "y_train, y_test = train_test_split(ca_weekly_deaths['Residents Weekly COVID-19 Deaths'],shuffle=False, test_size = .1)\n"
   ]
  },
  {
   "cell_type": "code",
   "execution_count": 25,
   "id": "tracked-plymouth",
   "metadata": {
    "ExecuteTime": {
     "end_time": "2021-02-21T20:21:30.061927Z",
     "start_time": "2021-02-21T20:21:15.036349Z"
    },
    "code_folding": []
   },
   "outputs": [
    {
     "name": "stdout",
     "output_type": "stream",
     "text": [
      "best aic: -43.008323710636674\n",
      "best p: 0\n",
      "best d: 0\n",
      "best q: 0\n"
     ]
    }
   ],
   "source": [
    "# Starting AIC, p, and q.\n",
    "best_aic = 9 * (10**16)\n",
    "best_p = 0\n",
    "best_q = 0 \n",
    "best_d = 0\n",
    "# Use nested for loop to iterate over values of p and q.\n",
    "\n",
    "for p in range(5):\n",
    "    for q in range(5):\n",
    "        for d in range(4):\n",
    "        \n",
    "        # Insert try and except statements.\n",
    "            try:\n",
    "\n",
    "                # Instantiate ARIMA model.\n",
    "                arima = ARIMA(endog=y_train, order = (p, d, q))\n",
    "\n",
    "                # Fit ARIMA model.\n",
    "                model = arima.fit()\n",
    "\n",
    "                # Is my current model's AIC better than our best_aic?\n",
    "                if  abs(model.aic) < abs(best_aic):\n",
    "\n",
    "                    # If so, let's overwrite best_aic, best_p, and best_q.\n",
    "                    best_aic = model.aic\n",
    "                    best_p = p\n",
    "                    best_q = q\n",
    "                    best_d = d\n",
    "                    \n",
    "\n",
    "            except:\n",
    "                pass\n",
    "            \n",
    "print('best aic:',best_aic)\n",
    "print('best p:', best_p)\n",
    "print('best d:', best_d)\n",
    "print('best q:', best_q)\n"
   ]
  },
  {
   "cell_type": "code",
   "execution_count": 26,
   "id": "upset-finger",
   "metadata": {
    "ExecuteTime": {
     "end_time": "2021-02-21T20:21:30.419935Z",
     "start_time": "2021-02-21T20:21:30.063915Z"
    }
   },
   "outputs": [
    {
     "data": {
      "image/png": "[encoded data removed]",
      "text/plain": [
       "<Figure size 720x432 with 1 Axes>"
      ]
     },
     "metadata": {
      "needs_background": "light"
     },
     "output_type": "display_data"
    }
   ],
   "source": [
    "# Instantiate best model.\n",
    "ca_week_deaths_model = ARIMA(endog = y_train, order = (best_p,best_d,best_q))\n",
    "\n",
    "# Fit ARIMA model.\n",
    "arima = ca_week_deaths_model.fit()\n",
    "\n",
    "# Generate predictions based on test set.\n",
    "preds = arima.predict(start = y_test.index[0], end= y_test.index[-1])\n",
    "\n",
    "# Plot data.\n",
    "plt.figure(figsize=(10,6))\n",
    "\n",
    "# Plot training data.\n",
    "plt.plot(y_train.index, pd.DataFrame(y_train), color = 'blue', label='Train')\n",
    "\n",
    "# Plot testing data.\n",
    "plt.plot(y_test.index, pd.DataFrame(y_test), color = 'orange', label = 'Test')\n",
    "\n",
    "# Plot predicted test values.\n",
    "plt.plot(y_test.index, preds, color = 'green', label = 'Preds')\n",
    "\n",
    "plt.title(label = f'California Average Weekly COVID-19 Deaths\\n with ARIMA({best_p}, {best_d}, {best_q}) Predictions', fontsize=16)\n",
    "plt.legend()\n",
    "\n",
    "plt.savefig('../assets/ca_weekly_avg_num_covid_deaths.png');"
   ]
  },
  {
   "cell_type": "markdown",
   "id": "controlled-capture",
   "metadata": {},
   "source": [
    "### 'Weekly Resident Confirmed COVID-19 Cases Per 1,000 Residents'"
   ]
  },
  {
   "cell_type": "code",
   "execution_count": 27,
   "id": "lyric-receiver",
   "metadata": {
    "ExecuteTime": {
     "end_time": "2021-02-21T20:21:30.432815Z",
     "start_time": "2021-02-21T20:21:30.421859Z"
    }
   },
   "outputs": [],
   "source": [
    "ca_weekly_confirmed_cases = ca_avgs[['Weekly Resident Confirmed COVID-19 Cases Per 1,000 Residents']].copy()\n",
    "\n",
    "ca_weekly_confirmed_cases['diff1'] = ca_weekly_confirmed_cases['Weekly Resident Confirmed COVID-19 Cases Per 1,000 Residents'].diff()\n",
    "ca_weekly_confirmed_cases['diff2'] = ca_weekly_confirmed_cases['Weekly Resident Confirmed COVID-19 Cases Per 1,000 Residents'].diff().diff()\n",
    "ca_weekly_confirmed_cases.dropna(inplace = True)"
   ]
  },
  {
   "cell_type": "code",
   "execution_count": 28,
   "id": "applied-slovakia",
   "metadata": {
    "ExecuteTime": {
     "end_time": "2021-02-21T20:21:30.653077Z",
     "start_time": "2021-02-21T20:21:30.434824Z"
    }
   },
   "outputs": [
    {
     "data": {
      "image/png": "[encoded data removed]",
      "text/plain": [
       "<Figure size 432x288 with 1 Axes>"
      ]
     },
     "metadata": {
      "needs_background": "light"
     },
     "output_type": "display_data"
    }
   ],
   "source": [
    "ca_weekly_confirmed_cases['Weekly Resident Confirmed COVID-19 Cases Per 1,000 Residents'].plot(label = 'orig');\n"
   ]
  },
  {
   "cell_type": "code",
   "execution_count": 29,
   "id": "favorite-reason",
   "metadata": {
    "ExecuteTime": {
     "end_time": "2021-02-21T20:21:30.852389Z",
     "start_time": "2021-02-21T20:21:30.655041Z"
    }
   },
   "outputs": [
    {
     "data": {
      "image/png": "[encoded data removed]",
      "text/plain": [
       "<Figure size 432x288 with 1 Axes>"
      ]
     },
     "metadata": {
      "needs_background": "light"
     },
     "output_type": "display_data"
    }
   ],
   "source": [
    "plot_acf(ca_weekly_confirmed_cases['Weekly Resident Confirmed COVID-19 Cases Per 1,000 Residents']);"
   ]
  },
  {
   "cell_type": "code",
   "execution_count": 30,
   "id": "australian-success",
   "metadata": {
    "ExecuteTime": {
     "end_time": "2021-02-21T20:21:31.005471Z",
     "start_time": "2021-02-21T20:21:30.854151Z"
    }
   },
   "outputs": [
    {
     "data": {
      "image/png": "[encoded data removed]",
      "text/plain": [
       "<Figure size 432x288 with 1 Axes>"
      ]
     },
     "metadata": {
      "needs_background": "light"
     },
     "output_type": "display_data"
    }
   ],
   "source": [
    "plot_pacf(ca_weekly_confirmed_cases['Weekly Resident Confirmed COVID-19 Cases Per 1,000 Residents']);"
   ]
  },
  {
   "cell_type": "code",
   "execution_count": 31,
   "id": "satisfactory-anger",
   "metadata": {
    "ExecuteTime": {
     "end_time": "2021-02-21T20:21:31.033622Z",
     "start_time": "2021-02-21T20:21:31.007708Z"
    }
   },
   "outputs": [
    {
     "name": "stdout",
     "output_type": "stream",
     "text": [
      "best_col: diff2\n",
      "best_p: 2.2706590547978155e-25\n"
     ]
    },
    {
     "data": {
      "text/html": [
       "<div>\n",
       "<style scoped>\n",
       "    .dataframe tbody tr th:only-of-type {\n",
       "        vertical-align: middle;\n",
       "    }\n",
       "\n",
       "    .dataframe tbody tr th {\n",
       "        vertical-align: top;\n",
       "    }\n",
       "\n",
       "    .dataframe thead th {\n",
       "        text-align: right;\n",
       "    }\n",
       "</style>\n",
       "<table border=\"1\" class=\"dataframe\">\n",
       "  <thead>\n",
       "    <tr style=\"text-align: right;\">\n",
       "      <th></th>\n",
       "      <th>column</th>\n",
       "      <th>Test Statistic</th>\n",
       "      <th>p-value</th>\n",
       "      <th>1 - p-value</th>\n",
       "    </tr>\n",
       "  </thead>\n",
       "  <tbody>\n",
       "    <tr>\n",
       "      <th>0</th>\n",
       "      <td>Weekly Resident Confirmed COVID-19 Cases Per 1...</td>\n",
       "      <td>-3.356203</td>\n",
       "      <td>1.254566e-02</td>\n",
       "      <td>0.987454</td>\n",
       "    </tr>\n",
       "    <tr>\n",
       "      <th>1</th>\n",
       "      <td>diff1</td>\n",
       "      <td>-2.896684</td>\n",
       "      <td>4.573498e-02</td>\n",
       "      <td>0.954265</td>\n",
       "    </tr>\n",
       "    <tr>\n",
       "      <th>2</th>\n",
       "      <td>diff2</td>\n",
       "      <td>-13.565104</td>\n",
       "      <td>2.270659e-25</td>\n",
       "      <td>1.000000</td>\n",
       "    </tr>\n",
       "  </tbody>\n",
       "</table>\n",
       "</div>"
      ],
      "text/plain": [
       "                                              column  Test Statistic  \\\n",
       "0  Weekly Resident Confirmed COVID-19 Cases Per 1...       -3.356203   \n",
       "1                                              diff1       -2.896684   \n",
       "2                                              diff2      -13.565104   \n",
       "\n",
       "        p-value  1 - p-value  \n",
       "0  1.254566e-02     0.987454  \n",
       "1  4.573498e-02     0.954265  \n",
       "2  2.270659e-25     1.000000  "
      ]
     },
     "execution_count": 31,
     "metadata": {},
     "output_type": "execute_result"
    }
   ],
   "source": [
    "interpret_dftest(ca_weekly_confirmed_cases)"
   ]
  },
  {
   "cell_type": "code",
   "execution_count": 32,
   "id": "special-object",
   "metadata": {
    "ExecuteTime": {
     "end_time": "2021-02-21T20:21:31.038946Z",
     "start_time": "2021-02-21T20:21:31.035634Z"
    }
   },
   "outputs": [],
   "source": [
    "y_train, y_test = train_test_split(ca_weekly_confirmed_cases['Weekly Resident Confirmed COVID-19 Cases Per 1,000 Residents'],shuffle=False, test_size = .1)"
   ]
  },
  {
   "cell_type": "code",
   "execution_count": 33,
   "id": "frequent-country",
   "metadata": {
    "ExecuteTime": {
     "end_time": "2021-02-21T20:21:38.882723Z",
     "start_time": "2021-02-21T20:21:31.041713Z"
    }
   },
   "outputs": [
    {
     "name": "stdout",
     "output_type": "stream",
     "text": [
      "best aic: 190.5787717614457\n",
      "best p: 1\n",
      "best d: 2\n",
      "best q: 3\n"
     ]
    }
   ],
   "source": [
    "# Starting AIC, p, and q.\n",
    "best_aic = 9 * (10**16)\n",
    "best_p = 0\n",
    "best_q = 0 \n",
    "best_d = 0\n",
    "# Use nested for loop to iterate over values of p and q.\n",
    "\n",
    "for p in range(5):\n",
    "    for q in range(5):\n",
    "        for d in range(3):\n",
    "        \n",
    "        # Insert try and except statements.\n",
    "            try:\n",
    "\n",
    "                # Instantiate ARIMA model.\n",
    "                arima = ARIMA(endog=y_train, order = (p, d, q))\n",
    "\n",
    "                # Fit ARIMA model.\n",
    "                model = arima.fit()\n",
    "\n",
    "                # Is my current model's AIC better than our best_aic?\n",
    "                if 0<= model.aic < best_aic:\n",
    "\n",
    "                    # If so, let's overwrite best_aic, best_p, and best_q.\n",
    "                    best_aic = model.aic\n",
    "                    best_p = p\n",
    "                    best_q = q\n",
    "                    best_d = d\n",
    "                    \n",
    "\n",
    "            except:\n",
    "                pass\n",
    "\n",
    "print('best aic:',best_aic)\n",
    "print('best p:', best_p)\n",
    "print('best d:', best_d)\n",
    "print('best q:', best_q)\n"
   ]
  },
  {
   "cell_type": "code",
   "execution_count": 34,
   "id": "raising-civilian",
   "metadata": {
    "ExecuteTime": {
     "end_time": "2021-02-21T20:21:39.274217Z",
     "start_time": "2021-02-21T20:21:38.884876Z"
    }
   },
   "outputs": [
    {
     "data": {
      "image/png": "[encoded data removed]",
      "text/plain": [
       "<Figure size 720x432 with 1 Axes>"
      ]
     },
     "metadata": {
      "needs_background": "light"
     },
     "output_type": "display_data"
    }
   ],
   "source": [
    "# Instantiate best model.\n",
    "ca_week_conf_cases_per_thous_model = ARIMA(endog = y_train, order = (best_p,best_d,best_q))\n",
    "\n",
    "# Fit ARIMA model.\n",
    "arima = ca_week_conf_cases_per_thous_model.fit()\n",
    "\n",
    "# Generate predictions based on test set.\n",
    "preds = arima.predict(start = y_test.index[0], end= y_test.index[-1])\n",
    "\n",
    "# Plot data.\n",
    "plt.figure(figsize=(10,6))\n",
    "\n",
    "# Plot training data.\n",
    "plt.plot(y_train.index, pd.DataFrame(y_train), color = 'blue', label='Train')\n",
    "\n",
    "# Plot testing data.\n",
    "plt.plot(y_test.index, pd.DataFrame(y_test), color = 'orange', label = 'Test')\n",
    "\n",
    "# Plot predicted test values.\n",
    "plt.plot(y_test.index, preds, color = 'green', label = 'Preds')\n",
    "\n",
    "plt.title(label = f'California Weekly Average Number of Confirmed Cases per 1,000\\n with ARIMA({best_p}, {best_d}, {best_q}) Predictions', fontsize=16)\n",
    "plt.legend()\n",
    "\n",
    "plt.savefig('../assets/ca_avg_num_confirmed_cases_per_thous.png');"
   ]
  },
  {
   "cell_type": "markdown",
   "id": "removed-intelligence",
   "metadata": {},
   "source": [
    "### 'Weekly Resident COVID-19 Deaths Per 1,000 Residents'"
   ]
  },
  {
   "cell_type": "code",
   "execution_count": 35,
   "id": "functioning-dakota",
   "metadata": {
    "ExecuteTime": {
     "end_time": "2021-02-21T20:21:39.285032Z",
     "start_time": "2021-02-21T20:21:39.276386Z"
    }
   },
   "outputs": [],
   "source": [
    "ca_weekly_covid_deaths_per_thous = ca_avgs[['Weekly Resident COVID-19 Deaths Per 1,000 Residents']].copy()\n",
    "\n",
    "ca_weekly_covid_deaths_per_thous['diff1'] = ca_weekly_covid_deaths_per_thous['Weekly Resident COVID-19 Deaths Per 1,000 Residents'].diff()\n",
    "ca_weekly_covid_deaths_per_thous['diff2'] = ca_weekly_covid_deaths_per_thous['Weekly Resident COVID-19 Deaths Per 1,000 Residents'].diff().diff()\n",
    "ca_weekly_covid_deaths_per_thous.dropna(inplace = True)"
   ]
  },
  {
   "cell_type": "code",
   "execution_count": 36,
   "id": "tamil-certification",
   "metadata": {
    "ExecuteTime": {
     "end_time": "2021-02-21T20:21:39.488762Z",
     "start_time": "2021-02-21T20:21:39.286999Z"
    }
   },
   "outputs": [
    {
     "data": {
      "image/png": "[encoded data removed]",
      "text/plain": [
       "<Figure size 432x288 with 1 Axes>"
      ]
     },
     "metadata": {
      "needs_background": "light"
     },
     "output_type": "display_data"
    }
   ],
   "source": [
    "ca_weekly_covid_deaths_per_thous['Weekly Resident COVID-19 Deaths Per 1,000 Residents'].plot(label = 'orig');\n"
   ]
  },
  {
   "cell_type": "code",
   "execution_count": 37,
   "id": "dressed-carolina",
   "metadata": {
    "ExecuteTime": {
     "end_time": "2021-02-21T20:21:39.624482Z",
     "start_time": "2021-02-21T20:21:39.490840Z"
    }
   },
   "outputs": [
    {
     "data": {
      "image/png": "[encoded data removed]",
      "text/plain": [
       "<Figure size 432x288 with 1 Axes>"
      ]
     },
     "metadata": {
      "needs_background": "light"
     },
     "output_type": "display_data"
    }
   ],
   "source": [
    "plot_acf(ca_weekly_covid_deaths_per_thous['Weekly Resident COVID-19 Deaths Per 1,000 Residents']);"
   ]
  },
  {
   "cell_type": "code",
   "execution_count": 38,
   "id": "southern-viking",
   "metadata": {
    "ExecuteTime": {
     "end_time": "2021-02-21T20:21:39.764343Z",
     "start_time": "2021-02-21T20:21:39.626452Z"
    }
   },
   "outputs": [
    {
     "data": {
      "image/png": "[encoded data removed]",
      "text/plain": [
       "<Figure size 432x288 with 1 Axes>"
      ]
     },
     "metadata": {
      "needs_background": "light"
     },
     "output_type": "display_data"
    }
   ],
   "source": [
    "plot_pacf(ca_weekly_covid_deaths_per_thous['Weekly Resident COVID-19 Deaths Per 1,000 Residents']);"
   ]
  },
  {
   "cell_type": "code",
   "execution_count": 39,
   "id": "banned-ceramic",
   "metadata": {
    "ExecuteTime": {
     "end_time": "2021-02-21T20:21:39.789845Z",
     "start_time": "2021-02-21T20:21:39.766064Z"
    }
   },
   "outputs": [
    {
     "name": "stdout",
     "output_type": "stream",
     "text": [
      "best_col: diff2\n",
      "best_p: 2.602439340155059e-29\n"
     ]
    },
    {
     "data": {
      "text/html": [
       "<div>\n",
       "<style scoped>\n",
       "    .dataframe tbody tr th:only-of-type {\n",
       "        vertical-align: middle;\n",
       "    }\n",
       "\n",
       "    .dataframe tbody tr th {\n",
       "        vertical-align: top;\n",
       "    }\n",
       "\n",
       "    .dataframe thead th {\n",
       "        text-align: right;\n",
       "    }\n",
       "</style>\n",
       "<table border=\"1\" class=\"dataframe\">\n",
       "  <thead>\n",
       "    <tr style=\"text-align: right;\">\n",
       "      <th></th>\n",
       "      <th>column</th>\n",
       "      <th>Test Statistic</th>\n",
       "      <th>p-value</th>\n",
       "      <th>1 - p-value</th>\n",
       "    </tr>\n",
       "  </thead>\n",
       "  <tbody>\n",
       "    <tr>\n",
       "      <th>0</th>\n",
       "      <td>Weekly Resident COVID-19 Deaths Per 1,000 Resi...</td>\n",
       "      <td>-3.302951</td>\n",
       "      <td>1.474706e-02</td>\n",
       "      <td>0.985253</td>\n",
       "    </tr>\n",
       "    <tr>\n",
       "      <th>1</th>\n",
       "      <td>diff1</td>\n",
       "      <td>-2.392741</td>\n",
       "      <td>1.437956e-01</td>\n",
       "      <td>0.856204</td>\n",
       "    </tr>\n",
       "    <tr>\n",
       "      <th>2</th>\n",
       "      <td>diff2</td>\n",
       "      <td>-16.407540</td>\n",
       "      <td>2.602439e-29</td>\n",
       "      <td>1.000000</td>\n",
       "    </tr>\n",
       "  </tbody>\n",
       "</table>\n",
       "</div>"
      ],
      "text/plain": [
       "                                              column  Test Statistic  \\\n",
       "0  Weekly Resident COVID-19 Deaths Per 1,000 Resi...       -3.302951   \n",
       "1                                              diff1       -2.392741   \n",
       "2                                              diff2      -16.407540   \n",
       "\n",
       "        p-value  1 - p-value  \n",
       "0  1.474706e-02     0.985253  \n",
       "1  1.437956e-01     0.856204  \n",
       "2  2.602439e-29     1.000000  "
      ]
     },
     "execution_count": 39,
     "metadata": {},
     "output_type": "execute_result"
    }
   ],
   "source": [
    "interpret_dftest(ca_weekly_covid_deaths_per_thous)"
   ]
  },
  {
   "cell_type": "code",
   "execution_count": 40,
   "id": "killing-disclaimer",
   "metadata": {
    "ExecuteTime": {
     "end_time": "2021-02-21T20:21:39.794935Z",
     "start_time": "2021-02-21T20:21:39.791970Z"
    }
   },
   "outputs": [],
   "source": [
    "y_train, y_test = train_test_split(ca_weekly_covid_deaths_per_thous['Weekly Resident COVID-19 Deaths Per 1,000 Residents'],shuffle=False, test_size = .1)\n"
   ]
  },
  {
   "cell_type": "code",
   "execution_count": 41,
   "id": "virtual-seattle",
   "metadata": {
    "ExecuteTime": {
     "end_time": "2021-02-21T20:21:49.140652Z",
     "start_time": "2021-02-21T20:21:39.797073Z"
    }
   },
   "outputs": [
    {
     "name": "stdout",
     "output_type": "stream",
     "text": [
      "best aic: 12.0\n",
      "best p: 3\n",
      "best d: 0\n",
      "best q: 1\n"
     ]
    }
   ],
   "source": [
    "# Starting AIC, p, and q.\n",
    "best_aic = 9 * (10**16)\n",
    "best_p = 0\n",
    "best_q = 0 \n",
    "best_d = 0\n",
    "# Use nested for loop to iterate over values of p and q.\n",
    "\n",
    "for p in range(5):\n",
    "    for q in range(5):\n",
    "        for d in range(3):\n",
    "        \n",
    "        # Insert try and except statements.\n",
    "            try:\n",
    "\n",
    "                # Instantiate ARIMA model.\n",
    "                arima = ARIMA(endog=y_train, order = (p, d, q))\n",
    "\n",
    "                # Fit ARIMA model.\n",
    "                model = arima.fit()\n",
    "\n",
    "                # Is my current model's AIC better than our best_aic?\n",
    "                if 0<= model.aic < best_aic:\n",
    "\n",
    "                    # If so, let's overwrite best_aic, best_p, and best_q.\n",
    "                    best_aic = model.aic\n",
    "                    best_p = p\n",
    "                    best_q = q\n",
    "                    best_d = d\n",
    "                    \n",
    "\n",
    "            except:\n",
    "                pass\n",
    "print('best aic:',best_aic)\n",
    "print('best p:', best_p)\n",
    "print('best d:', best_d)\n",
    "print('best q:', best_q)"
   ]
  },
  {
   "cell_type": "code",
   "execution_count": 42,
   "id": "sorted-front",
   "metadata": {
    "ExecuteTime": {
     "end_time": "2021-02-21T20:21:49.722935Z",
     "start_time": "2021-02-21T20:21:49.142515Z"
    },
    "scrolled": true
   },
   "outputs": [
    {
     "data": {
      "image/png": "[encoded data removed]",
      "text/plain": [
       "<Figure size 720x432 with 1 Axes>"
      ]
     },
     "metadata": {
      "needs_background": "light"
     },
     "output_type": "display_data"
    }
   ],
   "source": [
    "# Instantiate best model.\n",
    "ca_weekly_deaths_per_thous_model = ARIMA(endog = y_train, order = (best_p,best_d,best_q))\n",
    "\n",
    "# Fit ARIMA model.\n",
    "arima = ca_weekly_deaths_per_thous_model.fit()\n",
    "\n",
    "# Generate predictions based on test set.\n",
    "preds = arima.predict(start = y_test.index[0], end= y_test.index[-1])\n",
    "\n",
    "# Plot data.\n",
    "plt.figure(figsize=(10,6))\n",
    "\n",
    "# Plot training data.\n",
    "plt.plot(y_train.index, pd.DataFrame(y_train), color = 'blue', label='Train')\n",
    "\n",
    "# Plot testing data.\n",
    "plt.plot(y_test.index, pd.DataFrame(y_test), color = 'orange', label = 'Test')\n",
    "\n",
    "# Plot predicted test values.\n",
    "plt.plot(y_test.index, preds, color = 'green', label = 'Preds')\n",
    "\n",
    "plt.title(label = f'California Average of Weekly COVID-19 Deaths per 1,000\\n with ARIMA({best_p}, {best_d}, {best_q}) Predictions', fontsize=16)\n",
    "plt.legend()\n",
    "\n",
    "plt.savefig('../assets/ca_weekly_avg_covid_deaths_per_1000.png');"
   ]
  }
 ],
 "metadata": {
  "kernelspec": {
   "display_name": "Python 3",
   "language": "python",
   "name": "python3"
  },
  "language_info": {
   "codemirror_mode": {
    "name": "ipython",
    "version": 3
   },
   "file_extension": ".py",
   "mimetype": "text/x-python",
   "name": "python",
   "nbconvert_exporter": "python",
   "pygments_lexer": "ipython3",
   "version": "3.8.5"
  },
  "toc": {
   "base_numbering": 1,
   "nav_menu": {
    "height": "286px",
    "width": "305px"
   },
   "number_sections": true,
   "sideBar": true,
   "skip_h1_title": false,
   "title_cell": "Table of Contents",
   "title_sidebar": "Contents",
   "toc_cell": false,
   "toc_position": {},
   "toc_section_display": true,
   "toc_window_display": false
  },
  "varInspector": {
   "cols": {
    "lenName": 16,
    "lenType": 16,
    "lenVar": 40
   },
   "kernels_config": {
    "python": {
     "delete_cmd_postfix": "",
     "delete_cmd_prefix": "del ",
     "library": "var_list.py",
     "varRefreshCmd": "print(var_dic_list())"
    },
    "r": {
     "delete_cmd_postfix": ") ",
     "delete_cmd_prefix": "rm(",
     "library": "var_list.r",
     "varRefreshCmd": "cat(var_dic_list()) "
    }
   },
   "types_to_exclude": [
    "module",
    "function",
    "builtin_function_or_method",
    "instance",
    "_Feature"
   ],
   "window_display": false
  }
 },
 "nbformat": 4,
 "nbformat_minor": 5
}
