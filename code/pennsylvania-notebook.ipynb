{
 "cells": [
  {
   "cell_type": "markdown",
   "id": "polish-lobby",
   "metadata": {},
   "source": [
    "# Pennsylvania: ARIMA Time-Series Modeling Notebook"
   ]
  },
  {
   "cell_type": "markdown",
   "id": "featured-wellington",
   "metadata": {},
   "source": [
    "# Imports"
   ]
  },
  {
   "cell_type": "code",
   "execution_count": 1,
   "id": "cutting-general",
   "metadata": {
    "ExecuteTime": {
     "end_time": "2021-02-21T20:25:42.878247Z",
     "start_time": "2021-02-21T20:25:40.661990Z"
    }
   },
   "outputs": [],
   "source": [
    "import pandas as pd\n",
    "import numpy as np\n",
    "import matplotlib.pyplot as plt\n",
    "import seaborn as sns\n",
    "import os\n",
    "\n",
    "from collections import Counter\n",
    "\n",
    "from sklearn.model_selection import train_test_split\n",
    "\n",
    "from statsmodels.tsa.arima.model import ARIMA\n",
    "from statsmodels.graphics.tsaplots import plot_acf, plot_pacf\n",
    "from statsmodels.tsa.stattools import adfuller\n",
    "\n",
    "import warnings\n",
    "warnings.filterwarnings('ignore')"
   ]
  },
  {
   "cell_type": "markdown",
   "id": "viral-carry",
   "metadata": {},
   "source": [
    "# Read in data"
   ]
  },
  {
   "cell_type": "code",
   "execution_count": 2,
   "id": "color-occupation",
   "metadata": {
    "ExecuteTime": {
     "end_time": "2021-02-21T20:25:42.883384Z",
     "start_time": "2021-02-21T20:25:42.881078Z"
    }
   },
   "outputs": [],
   "source": [
    "# df = pd.read_csv('../../COVID-19_Nursing_Home_Dataset.csv')"
   ]
  },
  {
   "cell_type": "markdown",
   "id": "republican-repair",
   "metadata": {},
   "source": [
    "## Split data"
   ]
  },
  {
   "cell_type": "markdown",
   "id": "seven-statistics",
   "metadata": {},
   "source": [
    "Due to size of data file, split data by week submitted to get smaller files that are available to upload. \n",
    "> This is commented out so that it only runs when needed."
   ]
  },
  {
   "cell_type": "code",
   "execution_count": 3,
   "id": "extra-stranger",
   "metadata": {
    "ExecuteTime": {
     "end_time": "2021-02-21T20:25:42.887695Z",
     "start_time": "2021-02-21T20:25:42.885737Z"
    }
   },
   "outputs": [],
   "source": [
    "# def split_data(df,dates):\n",
    "#     for date in dates:    \n",
    "#         frame = df[df['Week Ending'] == date]\n",
    "#         reformatted_date = date.replace('/', '-')\n",
    "#         frame.to_csv(f'../data/{reformatted_date}-data.csv', index = False)\n",
    "\n",
    "# dates = df['Week Ending'].unique()\n",
    "\n",
    "# split_data(df, dates)"
   ]
  },
  {
   "cell_type": "markdown",
   "id": "serial-medium",
   "metadata": {},
   "source": [
    "## Concatenating files"
   ]
  },
  {
   "cell_type": "markdown",
   "id": "expected-gallery",
   "metadata": {},
   "source": [
    "Create a function that can concatenate the each of the csv files into a single data frame."
   ]
  },
  {
   "cell_type": "code",
   "execution_count": 4,
   "id": "descending-promise",
   "metadata": {
    "ExecuteTime": {
     "end_time": "2021-02-21T20:25:54.996458Z",
     "start_time": "2021-02-21T20:25:42.889608Z"
    }
   },
   "outputs": [],
   "source": [
    "df_lst = []\n",
    "for f in os.listdir('../data'):\n",
    "    temp = pd.read_csv('../data/' + f)\n",
    "    df_lst.append(temp)\n",
    "df = pd.concat(df_lst, ignore_index=True)"
   ]
  },
  {
   "cell_type": "code",
   "execution_count": 5,
   "id": "restricted-procedure",
   "metadata": {
    "ExecuteTime": {
     "end_time": "2021-02-21T20:26:00.231006Z",
     "start_time": "2021-02-21T20:25:54.999249Z"
    }
   },
   "outputs": [
    {
     "name": "stdout",
     "output_type": "stream",
     "text": [
      "num weeks: 38\n"
     ]
    }
   ],
   "source": [
    "# determining the number of weeks for which data is available\n",
    "week_num = len(df['Week Ending'].unique())\n",
    "print('num weeks:',week_num)\n",
    "\n",
    "# Dropping rows where no submitted data\n",
    "df = df[df['Submitted Data'] == 'Y']\n",
    "\n",
    "# dropping rows that didn't pass quality assurance check\n",
    "df = df[df['Passed Quality Assurance Check'] == 'Y']\n"
   ]
  },
  {
   "cell_type": "code",
   "execution_count": 6,
   "id": "rough-country",
   "metadata": {
    "ExecuteTime": {
     "end_time": "2021-02-21T20:26:00.397505Z",
     "start_time": "2021-02-21T20:26:00.233228Z"
    }
   },
   "outputs": [
    {
     "name": "stdout",
     "output_type": "stream",
     "text": [
      "original: 16896\n",
      "to be dropped: 5914\n",
      "to keep: 10982\n"
     ]
    }
   ],
   "source": [
    "# removing nursing homes who have submissions for each week\n",
    "\n",
    "submission_counts = Counter(df['Federal Provider Number'])\n",
    "keys = submission_counts.keys()\n",
    "to_drop = []\n",
    "for key in keys:\n",
    "    if submission_counts[key] < week_num:\n",
    "        to_drop.append(key)\n",
    "to_keep = keys-to_drop\n",
    "print('original:',len(keys))\n",
    "print('to be dropped:',len(to_drop))\n",
    "print('to keep:',len(to_keep))"
   ]
  },
  {
   "cell_type": "code",
   "execution_count": 7,
   "id": "higher-procedure",
   "metadata": {
    "ExecuteTime": {
     "end_time": "2021-02-21T20:26:01.255637Z",
     "start_time": "2021-02-21T20:26:00.403646Z"
    }
   },
   "outputs": [],
   "source": [
    "# drop rows for nursing homes that don't meet the criteria fewer entries\n",
    "df = df[df['Federal Provider Number'].isin(to_keep)]"
   ]
  },
  {
   "cell_type": "code",
   "execution_count": 8,
   "id": "continued-minneapolis",
   "metadata": {
    "ExecuteTime": {
     "end_time": "2021-02-21T20:26:01.743964Z",
     "start_time": "2021-02-21T20:26:01.259385Z"
    }
   },
   "outputs": [],
   "source": [
    "# change the week column to datetime format\n",
    "df['Week Ending'] = pd.to_datetime(df['Week Ending'])"
   ]
  },
  {
   "cell_type": "markdown",
   "id": "known-handling",
   "metadata": {},
   "source": [
    "# Modeling"
   ]
  },
  {
   "cell_type": "code",
   "execution_count": 9,
   "id": "fixed-complexity",
   "metadata": {
    "ExecuteTime": {
     "end_time": "2021-02-21T20:26:01.754955Z",
     "start_time": "2021-02-21T20:26:01.746154Z"
    }
   },
   "outputs": [],
   "source": [
    "# function to get the p-values for adfuller test for each of the columns in the dataframe \n",
    "\n",
    "def interpret_dftest(df):\n",
    "    '''\n",
    "    Returns p-value for the Dickey-Fuller test for each feature in DataFrame.\n",
    "    ----\n",
    "    Parameters\n",
    "        Type: DataFrame\n",
    "        Description: Time series features\n",
    "    ----\n",
    "    Output\n",
    "        Type: DataFrame\n",
    "        Description: DataFrame of p-values for time-series data\n",
    "    '''\n",
    "    results = []\n",
    "    best_col = None\n",
    "    best_p = 2\n",
    "    \n",
    "    for col in df.columns:\n",
    "        result = {}\n",
    "        result['column'] = col\n",
    "        dftest = adfuller(df[col])\n",
    "        result['Test Statistic'] = dftest[0]\n",
    "        result['p-value'] = dftest[1]\n",
    "        result['1 - p-value'] = 1-dftest[1]\n",
    "        results.append(result)\n",
    "        if dftest[1] < .9:\n",
    "            if dftest[1] < best_p:\n",
    "                best_p = dftest[1]\n",
    "                best_col = col\n",
    "        elif dftest[1] >= .9:\n",
    "            if (1-dftest[1]) < best_p:\n",
    "                best_p = (1-dftest[1])\n",
    "                best_col = col\n",
    "    \n",
    "    print('best_col:', best_col)\n",
    "    print('best_p:', best_p)\n",
    "    return pd.DataFrame(results)"
   ]
  },
  {
   "cell_type": "markdown",
   "id": "third-environment",
   "metadata": {},
   "source": [
    "## PA"
   ]
  },
  {
   "cell_type": "code",
   "execution_count": 10,
   "id": "alike-mailman",
   "metadata": {
    "ExecuteTime": {
     "end_time": "2021-02-21T20:26:01.817500Z",
     "start_time": "2021-02-21T20:26:01.757950Z"
    }
   },
   "outputs": [],
   "source": [
    "pa = df[df['Provider State']=='PA']\n",
    "\n",
    "pa = pa[[\n",
    "    'Week Ending', 'Total Number of Occupied Beds',\n",
    "    'Residents Weekly COVID-19 Deaths',\n",
    "    'Weekly Resident Confirmed COVID-19 Cases Per 1,000 Residents',\n",
    "    'Weekly Resident COVID-19 Deaths Per 1,000 Residents'\n",
    "]]\n",
    "pa_avgs = pa.groupby(by='Week Ending').mean()"
   ]
  },
  {
   "cell_type": "markdown",
   "id": "great-snake",
   "metadata": {},
   "source": [
    "### 'Total Number of Occupied Beds'"
   ]
  },
  {
   "cell_type": "code",
   "execution_count": 11,
   "id": "thermal-catholic",
   "metadata": {
    "ExecuteTime": {
     "end_time": "2021-02-21T20:26:01.845115Z",
     "start_time": "2021-02-21T20:26:01.819988Z"
    }
   },
   "outputs": [],
   "source": [
    "pa_occupied = pa_avgs[['Total Number of Occupied Beds']].copy()\n",
    "pa_occupied['diff1'] = pa_occupied['Total Number of Occupied Beds'].diff()\n",
    "pa_occupied['diff2'] = pa_occupied['Total Number of Occupied Beds'].diff().diff()\n",
    "pa_occupied.dropna(inplace = True)\n"
   ]
  },
  {
   "cell_type": "code",
   "execution_count": 12,
   "id": "fiscal-satisfaction",
   "metadata": {
    "ExecuteTime": {
     "end_time": "2021-02-21T20:26:02.195159Z",
     "start_time": "2021-02-21T20:26:01.847548Z"
    },
    "scrolled": true
   },
   "outputs": [
    {
     "data": {
      "image/png": "[encoded data removed]",
      "text/plain": [
       "<Figure size 432x288 with 1 Axes>"
      ]
     },
     "metadata": {
      "needs_background": "light"
     },
     "output_type": "display_data"
    }
   ],
   "source": [
    "pa_occupied['Total Number of Occupied Beds'].plot(label = 'orig');\n"
   ]
  },
  {
   "cell_type": "code",
   "execution_count": 13,
   "id": "interracial-sudan",
   "metadata": {
    "ExecuteTime": {
     "end_time": "2021-02-21T20:26:02.391042Z",
     "start_time": "2021-02-21T20:26:02.197621Z"
    }
   },
   "outputs": [
    {
     "data": {
      "image/png": "[encoded data removed]",
      "text/plain": [
       "<Figure size 432x288 with 1 Axes>"
      ]
     },
     "metadata": {
      "needs_background": "light"
     },
     "output_type": "display_data"
    }
   ],
   "source": [
    "plot_acf(pa_occupied['Total Number of Occupied Beds']);\n"
   ]
  },
  {
   "cell_type": "code",
   "execution_count": 14,
   "id": "square-immunology",
   "metadata": {
    "ExecuteTime": {
     "end_time": "2021-02-21T20:26:02.580632Z",
     "start_time": "2021-02-21T20:26:02.393742Z"
    },
    "scrolled": true
   },
   "outputs": [
    {
     "data": {
      "image/png": "[encoded data removed]",
      "text/plain": [
       "<Figure size 432x288 with 1 Axes>"
      ]
     },
     "metadata": {
      "needs_background": "light"
     },
     "output_type": "display_data"
    }
   ],
   "source": [
    "plot_pacf(pa_occupied['Total Number of Occupied Beds']);\n"
   ]
  },
  {
   "cell_type": "code",
   "execution_count": 15,
   "id": "green-vacuum",
   "metadata": {
    "ExecuteTime": {
     "end_time": "2021-02-21T20:26:02.622081Z",
     "start_time": "2021-02-21T20:26:02.583219Z"
    }
   },
   "outputs": [
    {
     "name": "stdout",
     "output_type": "stream",
     "text": [
      "best_col: diff1\n",
      "best_p: 6.439728135844267e-18\n"
     ]
    },
    {
     "data": {
      "text/html": [
       "<div>\n",
       "<style scoped>\n",
       "    .dataframe tbody tr th:only-of-type {\n",
       "        vertical-align: middle;\n",
       "    }\n",
       "\n",
       "    .dataframe tbody tr th {\n",
       "        vertical-align: top;\n",
       "    }\n",
       "\n",
       "    .dataframe thead th {\n",
       "        text-align: right;\n",
       "    }\n",
       "</style>\n",
       "<table border=\"1\" class=\"dataframe\">\n",
       "  <thead>\n",
       "    <tr style=\"text-align: right;\">\n",
       "      <th></th>\n",
       "      <th>column</th>\n",
       "      <th>Test Statistic</th>\n",
       "      <th>p-value</th>\n",
       "      <th>1 - p-value</th>\n",
       "    </tr>\n",
       "  </thead>\n",
       "  <tbody>\n",
       "    <tr>\n",
       "      <th>0</th>\n",
       "      <td>Total Number of Occupied Beds</td>\n",
       "      <td>-0.689617</td>\n",
       "      <td>8.494208e-01</td>\n",
       "      <td>0.150579</td>\n",
       "    </tr>\n",
       "    <tr>\n",
       "      <th>1</th>\n",
       "      <td>diff1</td>\n",
       "      <td>-10.187798</td>\n",
       "      <td>6.439728e-18</td>\n",
       "      <td>1.000000</td>\n",
       "    </tr>\n",
       "    <tr>\n",
       "      <th>2</th>\n",
       "      <td>diff2</td>\n",
       "      <td>-7.412994</td>\n",
       "      <td>7.053609e-11</td>\n",
       "      <td>1.000000</td>\n",
       "    </tr>\n",
       "  </tbody>\n",
       "</table>\n",
       "</div>"
      ],
      "text/plain": [
       "                          column  Test Statistic       p-value  1 - p-value\n",
       "0  Total Number of Occupied Beds       -0.689617  8.494208e-01     0.150579\n",
       "1                          diff1      -10.187798  6.439728e-18     1.000000\n",
       "2                          diff2       -7.412994  7.053609e-11     1.000000"
      ]
     },
     "execution_count": 15,
     "metadata": {},
     "output_type": "execute_result"
    }
   ],
   "source": [
    "interpret_dftest(pa_occupied)\n"
   ]
  },
  {
   "cell_type": "code",
   "execution_count": 16,
   "id": "executed-congo",
   "metadata": {
    "ExecuteTime": {
     "end_time": "2021-02-21T20:26:02.767246Z",
     "start_time": "2021-02-21T20:26:02.624543Z"
    }
   },
   "outputs": [],
   "source": [
    "y_train, y_test = train_test_split(pa_occupied['Total Number of Occupied Beds'],shuffle=False, test_size = .1)\n"
   ]
  },
  {
   "cell_type": "markdown",
   "id": "designed-honduras",
   "metadata": {},
   "source": [
    "*Note: The code in the two cells directly below, as well as all other iterations of it in this notebook, were adapted from the [7.07-lesson-arima-modeling repo](https://git.generalassemb.ly/DSIR-20201214-E/lesson-ARIMA), originally written by Matt Brems, Joseph Nelson and Justin Pounders.*"
   ]
  },
  {
   "cell_type": "code",
   "execution_count": 17,
   "id": "injured-senegal",
   "metadata": {
    "ExecuteTime": {
     "end_time": "2021-02-21T20:26:11.639770Z",
     "start_time": "2021-02-21T20:26:02.769665Z"
    }
   },
   "outputs": [
    {
     "name": "stdout",
     "output_type": "stream",
     "text": [
      "best aic: 106.73827300099451\n",
      "best p: 0\n",
      "best d: 2\n",
      "best q: 2\n"
     ]
    }
   ],
   "source": [
    "# Starting AIC, p, and q.\n",
    "best_aic = 9 * (10**16)\n",
    "best_p = 0\n",
    "best_q = 0 \n",
    "best_d = 0\n",
    "\n",
    "# Use nested for loop to iterate over values of p and q.\n",
    "\n",
    "for p in range(5):\n",
    "    for q in range(5):\n",
    "        for d in range(3):\n",
    "        \n",
    "        # Insert try and except statements.\n",
    "            try:\n",
    "                # Instantiate ARIMA model.\n",
    "                arima = ARIMA(endog=y_train, order = (p, d, q))\n",
    "\n",
    "                # Fit ARIMA model.\n",
    "                model = arima.fit()\n",
    "\n",
    "                # Is my current model's AIC better than our best_aic?\n",
    "                if 0<= model.aic < best_aic:\n",
    "\n",
    "                    # If so, let's overwrite best_aic, best_p, and best_q.\n",
    "                    best_aic = model.aic\n",
    "                    best_p = p\n",
    "                    best_q = q\n",
    "                    best_d = d\n",
    "                    \n",
    "            except:\n",
    "                pass\n",
    "            \n",
    "print('best aic:',best_aic)\n",
    "print('best p:', best_p)\n",
    "print('best d:', best_d)\n",
    "print('best q:', best_q)"
   ]
  },
  {
   "cell_type": "code",
   "execution_count": 18,
   "id": "severe-locking",
   "metadata": {
    "ExecuteTime": {
     "end_time": "2021-02-21T20:26:12.046658Z",
     "start_time": "2021-02-21T20:26:11.641714Z"
    }
   },
   "outputs": [
    {
     "data": {
      "image/png": "[encoded data removed]",
      "text/plain": [
       "<Figure size 720x432 with 1 Axes>"
      ]
     },
     "metadata": {
      "needs_background": "light"
     },
     "output_type": "display_data"
    }
   ],
   "source": [
    "# Instantiate best model.\n",
    "pa_occ_model = ARIMA(endog=y_train, order=(best_p, best_d, best_q))\n",
    "\n",
    "# Fit ARIMA model.\n",
    "arima = pa_occ_model.fit()\n",
    "\n",
    "# Generate predictions based on test set.\n",
    "preds = arima.predict(start=y_test.index[0], end=y_test.index[-1])\n",
    "\n",
    "# Plot data.\n",
    "plt.figure(figsize=(10, 6))\n",
    "\n",
    "# Plot training data.\n",
    "plt.plot(y_train.index, pd.DataFrame(y_train), color='blue', label='Train')\n",
    "\n",
    "# Plot testing data.\n",
    "plt.plot(y_test.index, pd.DataFrame(y_test), color='orange', label='Test')\n",
    "\n",
    "# Plot predicted test values.\n",
    "plt.plot(y_test.index, preds, color='green', label='Preds')\n",
    "\n",
    "plt.title(\n",
    "    label=f'Pennsylvania Average Number of Occupied Beds\\n with ARIMA({best_p}, {best_d}, {best_q}) Predictions',\n",
    "    fontsize=16)\n",
    "plt.legend()\n",
    "\n",
    "plt.savefig('../assets/pa_avg_num_occupied_beds.png');"
   ]
  },
  {
   "cell_type": "markdown",
   "id": "signal-resident",
   "metadata": {},
   "source": [
    "### 'Residents Weekly COVID-19 Deaths'"
   ]
  },
  {
   "cell_type": "code",
   "execution_count": 19,
   "id": "colored-gilbert",
   "metadata": {
    "ExecuteTime": {
     "end_time": "2021-02-21T20:26:12.058058Z",
     "start_time": "2021-02-21T20:26:12.049683Z"
    }
   },
   "outputs": [],
   "source": [
    "pa_weekly_deaths = pa_avgs[['Residents Weekly COVID-19 Deaths']].copy()\n",
    "\n",
    "pa_weekly_deaths['diff1'] = pa_weekly_deaths['Residents Weekly COVID-19 Deaths'].diff()\n",
    "pa_weekly_deaths['diff2'] = pa_weekly_deaths['Residents Weekly COVID-19 Deaths'].diff().diff()\n",
    "pa_weekly_deaths.dropna(inplace = True)"
   ]
  },
  {
   "cell_type": "code",
   "execution_count": 20,
   "id": "ranging-world",
   "metadata": {
    "ExecuteTime": {
     "end_time": "2021-02-21T20:26:12.299464Z",
     "start_time": "2021-02-21T20:26:12.060104Z"
    }
   },
   "outputs": [
    {
     "data": {
      "image/png": "[encoded data removed]",
      "text/plain": [
       "<Figure size 432x288 with 1 Axes>"
      ]
     },
     "metadata": {
      "needs_background": "light"
     },
     "output_type": "display_data"
    }
   ],
   "source": [
    "pa_weekly_deaths['Residents Weekly COVID-19 Deaths'].plot(label = 'orig');\n"
   ]
  },
  {
   "cell_type": "code",
   "execution_count": 21,
   "id": "attended-eleven",
   "metadata": {
    "ExecuteTime": {
     "end_time": "2021-02-21T20:26:12.454333Z",
     "start_time": "2021-02-21T20:26:12.302259Z"
    }
   },
   "outputs": [
    {
     "data": {
      "image/png": "[encoded data removed]",
      "text/plain": [
       "<Figure size 432x288 with 1 Axes>"
      ]
     },
     "metadata": {
      "needs_background": "light"
     },
     "output_type": "display_data"
    }
   ],
   "source": [
    "plot_acf(pa_weekly_deaths['Residents Weekly COVID-19 Deaths']);\n"
   ]
  },
  {
   "cell_type": "code",
   "execution_count": 22,
   "id": "considerable-clinton",
   "metadata": {
    "ExecuteTime": {
     "end_time": "2021-02-21T20:26:12.608243Z",
     "start_time": "2021-02-21T20:26:12.461452Z"
    }
   },
   "outputs": [
    {
     "data": {
      "image/png": "[encoded data removed]",
      "text/plain": [
       "<Figure size 432x288 with 1 Axes>"
      ]
     },
     "metadata": {
      "needs_background": "light"
     },
     "output_type": "display_data"
    }
   ],
   "source": [
    "plot_pacf(pa_weekly_deaths['Residents Weekly COVID-19 Deaths']);\n"
   ]
  },
  {
   "cell_type": "code",
   "execution_count": 23,
   "id": "corrected-concern",
   "metadata": {
    "ExecuteTime": {
     "end_time": "2021-02-21T20:26:12.639284Z",
     "start_time": "2021-02-21T20:26:12.613240Z"
    }
   },
   "outputs": [
    {
     "name": "stdout",
     "output_type": "stream",
     "text": [
      "best_col: diff1\n",
      "best_p: 0.15614784075086707\n"
     ]
    },
    {
     "data": {
      "text/html": [
       "<div>\n",
       "<style scoped>\n",
       "    .dataframe tbody tr th:only-of-type {\n",
       "        vertical-align: middle;\n",
       "    }\n",
       "\n",
       "    .dataframe tbody tr th {\n",
       "        vertical-align: top;\n",
       "    }\n",
       "\n",
       "    .dataframe thead th {\n",
       "        text-align: right;\n",
       "    }\n",
       "</style>\n",
       "<table border=\"1\" class=\"dataframe\">\n",
       "  <thead>\n",
       "    <tr style=\"text-align: right;\">\n",
       "      <th></th>\n",
       "      <th>column</th>\n",
       "      <th>Test Statistic</th>\n",
       "      <th>p-value</th>\n",
       "      <th>1 - p-value</th>\n",
       "    </tr>\n",
       "  </thead>\n",
       "  <tbody>\n",
       "    <tr>\n",
       "      <th>0</th>\n",
       "      <td>Residents Weekly COVID-19 Deaths</td>\n",
       "      <td>-1.083968</td>\n",
       "      <td>0.721423</td>\n",
       "      <td>0.278577</td>\n",
       "    </tr>\n",
       "    <tr>\n",
       "      <th>1</th>\n",
       "      <td>diff1</td>\n",
       "      <td>-2.350664</td>\n",
       "      <td>0.156148</td>\n",
       "      <td>0.843852</td>\n",
       "    </tr>\n",
       "    <tr>\n",
       "      <th>2</th>\n",
       "      <td>diff2</td>\n",
       "      <td>-2.278956</td>\n",
       "      <td>0.178845</td>\n",
       "      <td>0.821155</td>\n",
       "    </tr>\n",
       "  </tbody>\n",
       "</table>\n",
       "</div>"
      ],
      "text/plain": [
       "                             column  Test Statistic   p-value  1 - p-value\n",
       "0  Residents Weekly COVID-19 Deaths       -1.083968  0.721423     0.278577\n",
       "1                             diff1       -2.350664  0.156148     0.843852\n",
       "2                             diff2       -2.278956  0.178845     0.821155"
      ]
     },
     "execution_count": 23,
     "metadata": {},
     "output_type": "execute_result"
    }
   ],
   "source": [
    "interpret_dftest(pa_weekly_deaths)\n"
   ]
  },
  {
   "cell_type": "code",
   "execution_count": 24,
   "id": "olympic-cancellation",
   "metadata": {
    "ExecuteTime": {
     "end_time": "2021-02-21T20:26:12.644859Z",
     "start_time": "2021-02-21T20:26:12.641686Z"
    }
   },
   "outputs": [],
   "source": [
    "y_train, y_test = train_test_split(pa_weekly_deaths['Residents Weekly COVID-19 Deaths'],shuffle=False, test_size = .1)\n"
   ]
  },
  {
   "cell_type": "code",
   "execution_count": 25,
   "id": "local-jacket",
   "metadata": {
    "ExecuteTime": {
     "end_time": "2021-02-21T20:26:23.973162Z",
     "start_time": "2021-02-21T20:26:12.646724Z"
    },
    "code_folding": []
   },
   "outputs": [
    {
     "name": "stdout",
     "output_type": "stream",
     "text": [
      "best aic: 90000000000000000\n",
      "best p: 0\n",
      "best d: 0\n",
      "best q: 0\n"
     ]
    }
   ],
   "source": [
    "# Starting AIC, p, and q.\n",
    "best_aic = 9 * (10**16)\n",
    "best_p = 0\n",
    "best_q = 0 \n",
    "best_d = 0\n",
    "# Use nested for loop to iterate over values of p and q.\n",
    "\n",
    "for p in range(5):\n",
    "    for q in range(5):\n",
    "        for d in range(3):\n",
    "        \n",
    "        # Insert try and except statements.\n",
    "            try:\n",
    "\n",
    "                # Instantiate ARIMA model.\n",
    "                arima = ARIMA(endog=y_train, order = (p, d, q))\n",
    "\n",
    "                # Fit ARIMA model.\n",
    "                model = arima.fit()\n",
    "\n",
    "                # Is my current model's AIC better than our best_aic?\n",
    "                if 0 <= model.aic < best_aic:\n",
    "\n",
    "                    # If so, let's overwrite best_aic, best_p, and best_q.\n",
    "                    best_aic = model.aic\n",
    "                    best_p = p\n",
    "                    best_q = q\n",
    "                    best_d = d\n",
    "                    \n",
    "\n",
    "            except:\n",
    "                pass\n",
    "            \n",
    "print('best aic:',best_aic)\n",
    "print('best p:', best_p)\n",
    "print('best d:', best_d)\n",
    "print('best q:', best_q)\n"
   ]
  },
  {
   "cell_type": "code",
   "execution_count": 26,
   "id": "automated-seeking",
   "metadata": {
    "ExecuteTime": {
     "end_time": "2021-02-21T20:26:24.414133Z",
     "start_time": "2021-02-21T20:26:23.975636Z"
    }
   },
   "outputs": [
    {
     "data": {
      "image/png": "[encoded data removed]",
      "text/plain": [
       "<Figure size 720x432 with 1 Axes>"
      ]
     },
     "metadata": {
      "needs_background": "light"
     },
     "output_type": "display_data"
    }
   ],
   "source": [
    "# Instantiate best model.\n",
    "pa_week_deaths_model = ARIMA(endog = y_train, order = (best_p,best_d,best_q))\n",
    "\n",
    "# Fit ARIMA model.\n",
    "arima = pa_week_deaths_model.fit()\n",
    "\n",
    "# Generate predictions based on test set.\n",
    "preds = arima.predict(start = y_test.index[0], end= y_test.index[-1])\n",
    "\n",
    "# Plot data.\n",
    "plt.figure(figsize=(10,6))\n",
    "\n",
    "# Plot training data.\n",
    "plt.plot(y_train.index, pd.DataFrame(y_train), color = 'blue', label='Train')\n",
    "\n",
    "# Plot testing data.\n",
    "plt.plot(y_test.index, pd.DataFrame(y_test), color = 'orange', label = 'Test')\n",
    "\n",
    "# Plot predicted test values.\n",
    "plt.plot(y_test.index, preds, color = 'green', label = 'Preds')\n",
    "\n",
    "plt.title(label = f'Pennsylvania Average Weekly COVID-19 Deaths\\n with ARIMA({best_p}, {best_d}, {best_q}) Predictions', fontsize=16)\n",
    "plt.legend()\n",
    "\n",
    "plt.savefig('../assets/pa_weekly_avg_num_covid_deaths.png');"
   ]
  },
  {
   "cell_type": "markdown",
   "id": "natural-height",
   "metadata": {},
   "source": [
    "### 'Weekly Resident Confirmed COVID-19 Cases Per 1,000 Residents'"
   ]
  },
  {
   "cell_type": "code",
   "execution_count": 27,
   "id": "gross-intelligence",
   "metadata": {
    "ExecuteTime": {
     "end_time": "2021-02-21T20:26:24.425316Z",
     "start_time": "2021-02-21T20:26:24.416779Z"
    }
   },
   "outputs": [],
   "source": [
    "pa_weekly_confirmed_cases = pa_avgs[['Weekly Resident Confirmed COVID-19 Cases Per 1,000 Residents']].copy()\n",
    "\n",
    "pa_weekly_confirmed_cases['diff1'] = pa_weekly_confirmed_cases['Weekly Resident Confirmed COVID-19 Cases Per 1,000 Residents'].diff()\n",
    "pa_weekly_confirmed_cases['diff2'] = pa_weekly_confirmed_cases['Weekly Resident Confirmed COVID-19 Cases Per 1,000 Residents'].diff().diff()\n",
    "pa_weekly_confirmed_cases.dropna(inplace = True)\n"
   ]
  },
  {
   "cell_type": "code",
   "execution_count": 28,
   "id": "peaceful-shelf",
   "metadata": {
    "ExecuteTime": {
     "end_time": "2021-02-21T20:26:24.663739Z",
     "start_time": "2021-02-21T20:26:24.427593Z"
    }
   },
   "outputs": [
    {
     "data": {
      "image/png": "[encoded data removed]",
      "text/plain": [
       "<Figure size 432x288 with 1 Axes>"
      ]
     },
     "metadata": {
      "needs_background": "light"
     },
     "output_type": "display_data"
    }
   ],
   "source": [
    "pa_weekly_confirmed_cases['Weekly Resident Confirmed COVID-19 Cases Per 1,000 Residents'].plot(label = 'orig');\n"
   ]
  },
  {
   "cell_type": "code",
   "execution_count": 29,
   "id": "numeric-specific",
   "metadata": {
    "ExecuteTime": {
     "end_time": "2021-02-21T20:26:24.855439Z",
     "start_time": "2021-02-21T20:26:24.666622Z"
    }
   },
   "outputs": [
    {
     "data": {
      "image/png": "[encoded data removed]",
      "text/plain": [
       "<Figure size 432x288 with 1 Axes>"
      ]
     },
     "metadata": {
      "needs_background": "light"
     },
     "output_type": "display_data"
    }
   ],
   "source": [
    "plot_acf(pa_weekly_confirmed_cases['Weekly Resident Confirmed COVID-19 Cases Per 1,000 Residents']);\n"
   ]
  },
  {
   "cell_type": "code",
   "execution_count": 30,
   "id": "legendary-charge",
   "metadata": {
    "ExecuteTime": {
     "end_time": "2021-02-21T20:26:25.076833Z",
     "start_time": "2021-02-21T20:26:24.857509Z"
    }
   },
   "outputs": [
    {
     "data": {
      "image/png": "[encoded data removed]",
      "text/plain": [
       "<Figure size 432x288 with 1 Axes>"
      ]
     },
     "metadata": {
      "needs_background": "light"
     },
     "output_type": "display_data"
    }
   ],
   "source": [
    "plot_pacf(pa_weekly_confirmed_cases['Weekly Resident Confirmed COVID-19 Cases Per 1,000 Residents']);\n"
   ]
  },
  {
   "cell_type": "code",
   "execution_count": 31,
   "id": "running-solid",
   "metadata": {
    "ExecuteTime": {
     "end_time": "2021-02-21T20:26:25.106978Z",
     "start_time": "2021-02-21T20:26:25.079103Z"
    }
   },
   "outputs": [
    {
     "name": "stdout",
     "output_type": "stream",
     "text": [
      "best_col: diff2\n",
      "best_p: 5.151048624486792e-12\n"
     ]
    },
    {
     "data": {
      "text/html": [
       "<div>\n",
       "<style scoped>\n",
       "    .dataframe tbody tr th:only-of-type {\n",
       "        vertical-align: middle;\n",
       "    }\n",
       "\n",
       "    .dataframe tbody tr th {\n",
       "        vertical-align: top;\n",
       "    }\n",
       "\n",
       "    .dataframe thead th {\n",
       "        text-align: right;\n",
       "    }\n",
       "</style>\n",
       "<table border=\"1\" class=\"dataframe\">\n",
       "  <thead>\n",
       "    <tr style=\"text-align: right;\">\n",
       "      <th></th>\n",
       "      <th>column</th>\n",
       "      <th>Test Statistic</th>\n",
       "      <th>p-value</th>\n",
       "      <th>1 - p-value</th>\n",
       "    </tr>\n",
       "  </thead>\n",
       "  <tbody>\n",
       "    <tr>\n",
       "      <th>0</th>\n",
       "      <td>Weekly Resident Confirmed COVID-19 Cases Per 1...</td>\n",
       "      <td>-1.291857</td>\n",
       "      <td>6.328894e-01</td>\n",
       "      <td>0.367111</td>\n",
       "    </tr>\n",
       "    <tr>\n",
       "      <th>1</th>\n",
       "      <td>diff1</td>\n",
       "      <td>-5.184763</td>\n",
       "      <td>9.444168e-06</td>\n",
       "      <td>0.999991</td>\n",
       "    </tr>\n",
       "    <tr>\n",
       "      <th>2</th>\n",
       "      <td>diff2</td>\n",
       "      <td>-7.865395</td>\n",
       "      <td>5.151049e-12</td>\n",
       "      <td>1.000000</td>\n",
       "    </tr>\n",
       "  </tbody>\n",
       "</table>\n",
       "</div>"
      ],
      "text/plain": [
       "                                              column  Test Statistic  \\\n",
       "0  Weekly Resident Confirmed COVID-19 Cases Per 1...       -1.291857   \n",
       "1                                              diff1       -5.184763   \n",
       "2                                              diff2       -7.865395   \n",
       "\n",
       "        p-value  1 - p-value  \n",
       "0  6.328894e-01     0.367111  \n",
       "1  9.444168e-06     0.999991  \n",
       "2  5.151049e-12     1.000000  "
      ]
     },
     "execution_count": 31,
     "metadata": {},
     "output_type": "execute_result"
    }
   ],
   "source": [
    "interpret_dftest(pa_weekly_confirmed_cases)\n"
   ]
  },
  {
   "cell_type": "code",
   "execution_count": 32,
   "id": "activated-malpractice",
   "metadata": {
    "ExecuteTime": {
     "end_time": "2021-02-21T20:26:25.113044Z",
     "start_time": "2021-02-21T20:26:25.109266Z"
    }
   },
   "outputs": [],
   "source": [
    "y_train, y_test = train_test_split(pa_weekly_confirmed_cases['Weekly Resident Confirmed COVID-19 Cases Per 1,000 Residents'],shuffle=False, test_size = .1)\n"
   ]
  },
  {
   "cell_type": "code",
   "execution_count": 33,
   "id": "unusual-premium",
   "metadata": {
    "ExecuteTime": {
     "end_time": "2021-02-21T20:26:33.438211Z",
     "start_time": "2021-02-21T20:26:25.116388Z"
    }
   },
   "outputs": [
    {
     "name": "stdout",
     "output_type": "stream",
     "text": [
      "best aic: 196.87413418854115\n",
      "best p: 0\n",
      "best d: 2\n",
      "best q: 1\n"
     ]
    }
   ],
   "source": [
    "# Starting AIC, p, and q.\n",
    "best_aic = 9 * (10**16)\n",
    "best_p = 0\n",
    "best_q = 0 \n",
    "best_d = 0\n",
    "# Use nested for loop to iterate over values of p and q.\n",
    "\n",
    "for p in range(5):\n",
    "    for q in range(5):\n",
    "        for d in range(3):\n",
    "        \n",
    "        # Insert try and except statements.\n",
    "            try:\n",
    "                # Instantiate ARIMA model.\n",
    "                arima = ARIMA(endog=y_train, order = (p, d, q))\n",
    "\n",
    "                # Fit ARIMA model.\n",
    "                model = arima.fit()\n",
    "\n",
    "                # Is my current model's AIC better than our best_aic?\n",
    "                if 0<= model.aic < best_aic:\n",
    "\n",
    "                    # If so, let's overwrite best_aic, best_p, and best_q.\n",
    "                    best_aic = model.aic\n",
    "                    best_p = p\n",
    "                    best_q = q\n",
    "                    best_d = d\n",
    "                    \n",
    "            except:\n",
    "                pass\n",
    "\n",
    "print('best aic:',best_aic)\n",
    "print('best p:', best_p)\n",
    "print('best d:', best_d)\n",
    "print('best q:', best_q)\n"
   ]
  },
  {
   "cell_type": "code",
   "execution_count": 34,
   "id": "loved-parent",
   "metadata": {
    "ExecuteTime": {
     "end_time": "2021-02-21T20:26:33.829991Z",
     "start_time": "2021-02-21T20:26:33.440102Z"
    }
   },
   "outputs": [
    {
     "data": {
      "image/png": "[encoded data removed]",
      "text/plain": [
       "<Figure size 720x432 with 1 Axes>"
      ]
     },
     "metadata": {
      "needs_background": "light"
     },
     "output_type": "display_data"
    }
   ],
   "source": [
    "# Instantiate best model.\n",
    "pa_week_conf_cases_per_thous_model = ARIMA(endog = y_train, order = (best_p,best_d,best_q))\n",
    "\n",
    "# Fit ARIMA model.\n",
    "arima = pa_week_conf_cases_per_thous_model.fit()\n",
    "\n",
    "# Generate predictions based on test set.\n",
    "preds = arima.predict(start = y_test.index[0], end= y_test.index[-1])\n",
    "\n",
    "# Plot data.\n",
    "plt.figure(figsize=(10,6))\n",
    "\n",
    "# Plot training data.\n",
    "plt.plot(y_train.index, pd.DataFrame(y_train), color = 'blue', label='Train')\n",
    "\n",
    "# Plot testing data.\n",
    "plt.plot(y_test.index, pd.DataFrame(y_test), color = 'orange', label = 'Test')\n",
    "\n",
    "# Plot predicted test values.\n",
    "plt.plot(y_test.index, preds, color = 'green', label = 'Preds')\n",
    "\n",
    "plt.title(label = f'Pennsylvania Weekly Average Number of Confirmed Cases per 1,000\\n with ARIMA({best_p}, {best_d}, {best_q}) Predictions', fontsize=16)\n",
    "plt.legend()\n",
    "\n",
    "plt.savefig('../assets/pa_avg_num_confirmed_cases_per_thous.png');\n"
   ]
  },
  {
   "cell_type": "markdown",
   "id": "listed-plymouth",
   "metadata": {},
   "source": [
    "### 'Weekly Resident COVID-19 Deaths Per 1,000 Residents'"
   ]
  },
  {
   "cell_type": "code",
   "execution_count": 35,
   "id": "harmful-certification",
   "metadata": {
    "ExecuteTime": {
     "end_time": "2021-02-21T20:26:33.841871Z",
     "start_time": "2021-02-21T20:26:33.832708Z"
    }
   },
   "outputs": [],
   "source": [
    "pa_weekly_covid_deaths_per_thous = pa_avgs[['Weekly Resident COVID-19 Deaths Per 1,000 Residents']].copy()\n",
    "\n",
    "pa_weekly_covid_deaths_per_thous['diff1'] = pa_weekly_covid_deaths_per_thous['Weekly Resident COVID-19 Deaths Per 1,000 Residents'].diff()\n",
    "pa_weekly_covid_deaths_per_thous['diff2'] = pa_weekly_covid_deaths_per_thous['Weekly Resident COVID-19 Deaths Per 1,000 Residents'].diff().diff()\n",
    "pa_weekly_covid_deaths_per_thous.dropna(inplace = True)\n"
   ]
  },
  {
   "cell_type": "code",
   "execution_count": 36,
   "id": "latin-wheat",
   "metadata": {
    "ExecuteTime": {
     "end_time": "2021-02-21T20:26:34.084043Z",
     "start_time": "2021-02-21T20:26:33.843804Z"
    }
   },
   "outputs": [
    {
     "data": {
      "image/png": "[encoded data removed]",
      "text/plain": [
       "<Figure size 432x288 with 1 Axes>"
      ]
     },
     "metadata": {
      "needs_background": "light"
     },
     "output_type": "display_data"
    }
   ],
   "source": [
    "pa_weekly_covid_deaths_per_thous['Weekly Resident COVID-19 Deaths Per 1,000 Residents'].plot(label = 'orig');\n"
   ]
  },
  {
   "cell_type": "code",
   "execution_count": 37,
   "id": "valued-flavor",
   "metadata": {
    "ExecuteTime": {
     "end_time": "2021-02-21T20:26:34.245356Z",
     "start_time": "2021-02-21T20:26:34.089178Z"
    }
   },
   "outputs": [
    {
     "data": {
      "image/png": "[encoded data removed]",
      "text/plain": [
       "<Figure size 432x288 with 1 Axes>"
      ]
     },
     "metadata": {
      "needs_background": "light"
     },
     "output_type": "display_data"
    }
   ],
   "source": [
    "plot_acf(pa_weekly_covid_deaths_per_thous['Weekly Resident COVID-19 Deaths Per 1,000 Residents']);\n"
   ]
  },
  {
   "cell_type": "code",
   "execution_count": 38,
   "id": "standard-contact",
   "metadata": {
    "ExecuteTime": {
     "end_time": "2021-02-21T20:26:34.406264Z",
     "start_time": "2021-02-21T20:26:34.247347Z"
    }
   },
   "outputs": [
    {
     "data": {
      "image/png": "[encoded data removed]",
      "text/plain": [
       "<Figure size 432x288 with 1 Axes>"
      ]
     },
     "metadata": {
      "needs_background": "light"
     },
     "output_type": "display_data"
    }
   ],
   "source": [
    "plot_pacf(pa_weekly_covid_deaths_per_thous['Weekly Resident COVID-19 Deaths Per 1,000 Residents']);\n"
   ]
  },
  {
   "cell_type": "code",
   "execution_count": 39,
   "id": "organic-remark",
   "metadata": {
    "ExecuteTime": {
     "end_time": "2021-02-21T20:26:34.441763Z",
     "start_time": "2021-02-21T20:26:34.408595Z"
    }
   },
   "outputs": [
    {
     "name": "stdout",
     "output_type": "stream",
     "text": [
      "best_col: diff2\n",
      "best_p: 0.0018751391526296067\n"
     ]
    },
    {
     "data": {
      "text/html": [
       "<div>\n",
       "<style scoped>\n",
       "    .dataframe tbody tr th:only-of-type {\n",
       "        vertical-align: middle;\n",
       "    }\n",
       "\n",
       "    .dataframe tbody tr th {\n",
       "        vertical-align: top;\n",
       "    }\n",
       "\n",
       "    .dataframe thead th {\n",
       "        text-align: right;\n",
       "    }\n",
       "</style>\n",
       "<table border=\"1\" class=\"dataframe\">\n",
       "  <thead>\n",
       "    <tr style=\"text-align: right;\">\n",
       "      <th></th>\n",
       "      <th>column</th>\n",
       "      <th>Test Statistic</th>\n",
       "      <th>p-value</th>\n",
       "      <th>1 - p-value</th>\n",
       "    </tr>\n",
       "  </thead>\n",
       "  <tbody>\n",
       "    <tr>\n",
       "      <th>0</th>\n",
       "      <td>Weekly Resident COVID-19 Deaths Per 1,000 Resi...</td>\n",
       "      <td>-0.925842</td>\n",
       "      <td>0.779343</td>\n",
       "      <td>0.220657</td>\n",
       "    </tr>\n",
       "    <tr>\n",
       "      <th>1</th>\n",
       "      <td>diff1</td>\n",
       "      <td>-2.937923</td>\n",
       "      <td>0.041112</td>\n",
       "      <td>0.958888</td>\n",
       "    </tr>\n",
       "    <tr>\n",
       "      <th>2</th>\n",
       "      <td>diff2</td>\n",
       "      <td>-3.922532</td>\n",
       "      <td>0.001875</td>\n",
       "      <td>0.998125</td>\n",
       "    </tr>\n",
       "  </tbody>\n",
       "</table>\n",
       "</div>"
      ],
      "text/plain": [
       "                                              column  Test Statistic  \\\n",
       "0  Weekly Resident COVID-19 Deaths Per 1,000 Resi...       -0.925842   \n",
       "1                                              diff1       -2.937923   \n",
       "2                                              diff2       -3.922532   \n",
       "\n",
       "    p-value  1 - p-value  \n",
       "0  0.779343     0.220657  \n",
       "1  0.041112     0.958888  \n",
       "2  0.001875     0.998125  "
      ]
     },
     "execution_count": 39,
     "metadata": {},
     "output_type": "execute_result"
    }
   ],
   "source": [
    "interpret_dftest(pa_weekly_covid_deaths_per_thous)\n"
   ]
  },
  {
   "cell_type": "code",
   "execution_count": 40,
   "id": "driving-complaint",
   "metadata": {
    "ExecuteTime": {
     "end_time": "2021-02-21T20:26:34.447022Z",
     "start_time": "2021-02-21T20:26:34.443844Z"
    }
   },
   "outputs": [],
   "source": [
    "y_train, y_test = train_test_split(pa_weekly_covid_deaths_per_thous['Weekly Resident COVID-19 Deaths Per 1,000 Residents'],shuffle=False, test_size = .1)\n"
   ]
  },
  {
   "cell_type": "code",
   "execution_count": 41,
   "id": "attached-steel",
   "metadata": {
    "ExecuteTime": {
     "end_time": "2021-02-21T20:26:45.547543Z",
     "start_time": "2021-02-21T20:26:34.448999Z"
    }
   },
   "outputs": [
    {
     "name": "stdout",
     "output_type": "stream",
     "text": [
      "best aic: 77.23514887034759\n",
      "best p: 4\n",
      "best d: 1\n",
      "best q: 2\n"
     ]
    }
   ],
   "source": [
    "# Starting AIC, p, and q.\n",
    "best_aic = 9 * (10**16)\n",
    "best_p = 0\n",
    "best_q = 0 \n",
    "best_d = 0\n",
    "# Use nested for loop to iterate over values of p and q.\n",
    "\n",
    "for p in range(5):\n",
    "    for q in range(5):\n",
    "        for d in range(3):\n",
    "        \n",
    "        # Insert try and except statements.\n",
    "            try:\n",
    "\n",
    "                # Instantiate ARIMA model.\n",
    "                arima = ARIMA(endog=y_train, order = (p, d, q))\n",
    "\n",
    "                # Fit ARIMA model.\n",
    "                model = arima.fit()\n",
    "\n",
    "                # Is my current model's AIC better than our best_aic?\n",
    "                if 0<= model.aic < best_aic:\n",
    "\n",
    "                    # If so, let's overwrite best_aic, best_p, and best_q.\n",
    "                    best_aic = model.aic\n",
    "                    best_p = p\n",
    "                    best_q = q\n",
    "                    best_d = d\n",
    "                    \n",
    "\n",
    "            except:\n",
    "                pass\n",
    "            \n",
    "print('best aic:',best_aic)\n",
    "print('best p:', best_p)\n",
    "print('best d:', best_d)\n",
    "print('best q:', best_q)"
   ]
  },
  {
   "cell_type": "code",
   "execution_count": 42,
   "id": "underlying-jacob",
   "metadata": {
    "ExecuteTime": {
     "end_time": "2021-02-21T20:26:46.299726Z",
     "start_time": "2021-02-21T20:26:45.554691Z"
    },
    "scrolled": true
   },
   "outputs": [
    {
     "data": {
      "image/png": "[encoded data removed]",
      "text/plain": [
       "<Figure size 720x432 with 1 Axes>"
      ]
     },
     "metadata": {
      "needs_background": "light"
     },
     "output_type": "display_data"
    }
   ],
   "source": [
    "# Instantiate best model.\n",
    "pa_weekly_deaths_per_thous_model = ARIMA(endog = y_train, order = (best_p,best_d,best_q))\n",
    "\n",
    "# Fit ARIMA model.\n",
    "arima = pa_weekly_deaths_per_thous_model.fit()\n",
    "\n",
    "# Generate predictions based on test set.\n",
    "preds = arima.predict(start = y_test.index[0], end= y_test.index[-1])\n",
    "\n",
    "# Plot data.\n",
    "plt.figure(figsize=(10,6))\n",
    "\n",
    "# Plot training data.\n",
    "plt.plot(y_train.index, pd.DataFrame(y_train), color = 'blue', label='Train')\n",
    "\n",
    "# Plot testing data.\n",
    "plt.plot(y_test.index, pd.DataFrame(y_test), color = 'orange', label = 'Test')\n",
    "\n",
    "# Plot predicted test values.\n",
    "plt.plot(y_test.index, preds, color = 'green', label = 'Preds')\n",
    "\n",
    "plt.title(label = f'Pennsylvania Average of Weekly COVID-19 Deaths per 1,000\\n with ARIMA({best_p}, {best_d}, {best_q}) Predictions', fontsize=16)\n",
    "plt.legend()\n",
    "\n",
    "plt.savefig('../assets/pa_weekly_avg_covid_deaths_per_1000.png');"
   ]
  }
 ],
 "metadata": {
  "kernelspec": {
   "display_name": "Python 3",
   "language": "python",
   "name": "python3"
  },
  "language_info": {
   "codemirror_mode": {
    "name": "ipython",
    "version": 3
   },
   "file_extension": ".py",
   "mimetype": "text/x-python",
   "name": "python",
   "nbconvert_exporter": "python",
   "pygments_lexer": "ipython3",
   "version": "3.8.5"
  },
  "toc": {
   "base_numbering": 1,
   "nav_menu": {
    "height": "286px",
    "width": "305px"
   },
   "number_sections": true,
   "sideBar": true,
   "skip_h1_title": false,
   "title_cell": "Table of Contents",
   "title_sidebar": "Contents",
   "toc_cell": false,
   "toc_position": {},
   "toc_section_display": true,
   "toc_window_display": false
  },
  "varInspector": {
   "cols": {
    "lenName": 16,
    "lenType": 16,
    "lenVar": 40
   },
   "kernels_config": {
    "python": {
     "delete_cmd_postfix": "",
     "delete_cmd_prefix": "del ",
     "library": "var_list.py",
     "varRefreshCmd": "print(var_dic_list())"
    },
    "r": {
     "delete_cmd_postfix": ") ",
     "delete_cmd_prefix": "rm(",
     "library": "var_list.r",
     "varRefreshCmd": "cat(var_dic_list()) "
    }
   },
   "types_to_exclude": [
    "module",
    "function",
    "builtin_function_or_method",
    "instance",
    "_Feature"
   ],
   "window_display": false
  }
 },
 "nbformat": 4,
 "nbformat_minor": 5
}
